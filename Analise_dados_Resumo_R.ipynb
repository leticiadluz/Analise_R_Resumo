{
 "cells": [
  {
   "cell_type": "markdown",
   "id": "6908fdbe",
   "metadata": {},
   "source": [
    "### O primeiro passo que devemos realizar é o carregamento dos dados\n",
    "#### A linguagem R apresenta 3 pacotes principais para carga de textos:  "
   ]
  },
  {
   "cell_type": "markdown",
   "id": "c2f8abcc",
   "metadata": {},
   "source": [
    "**Utils:** O pacote \"utils\" faz parte da instalação padrão do R e é carregado automaticamente quando você inicia uma sessão do R.   \n",
    "    **Principais funções para leitura e escrita de dados:**  \n",
    "**read.table() e write.table():** Usadas para ler e escrever dados tabulares em formato de texto.  \n",
    "**read.csv() e write.csv():** Funções específicas para lidar com arquivos CSV.  \n",
    "**read.delim()** Abre arquivos separados por tab e ponto.\n",
    "\n",
    "**Ele é mais eficiente para arquivos menores em comparação com arquivos muito grandes.** "
   ]
  },
  {
   "cell_type": "code",
   "execution_count": 1,
   "id": "a23203c1",
   "metadata": {
    "vscode": {
     "languageId": "r"
    }
   },
   "outputs": [
    {
     "data": {
      "text/html": [
       "<table class=\"dataframe\">\n",
       "<caption>A data.frame: 6 × 5</caption>\n",
       "<thead>\n",
       "\t<tr><th></th><th scope=col>Paciente</th><th scope=col>Idade.da.gestante</th><th scope=col>Idade.gestacional.em.semanas</th><th scope=col>dias.entre.infeccao.e.parto</th><th scope=col>Condicoes.medicas</th></tr>\n",
       "\t<tr><th></th><th scope=col>&lt;chr&gt;</th><th scope=col>&lt;int&gt;</th><th scope=col>&lt;int&gt;</th><th scope=col>&lt;int&gt;</th><th scope=col>&lt;chr&gt;</th></tr>\n",
       "</thead>\n",
       "<tbody>\n",
       "\t<tr><th scope=row>1</th><td>A</td><td>45</td><td>26</td><td> 3</td><td>Pre eclampsia e diabetes mellitus gestacional                                                                                            </td></tr>\n",
       "\t<tr><th scope=row>2</th><td>B</td><td>38</td><td>28</td><td> 3</td><td>Hipotireoidismo pre gestacional                                                                                                          </td></tr>\n",
       "\t<tr><th scope=row>3</th><td>C</td><td>29</td><td>34</td><td> 0</td><td>Diabetes mellitus gestacional, obesidade, hipotireoidismo, ex usuaria de substancia psicoativa e historico de sifilis devidamente tratada</td></tr>\n",
       "\t<tr><th scope=row>4</th><td>D</td><td>37</td><td>34</td><td> 0</td><td>Transtorno de ansiedade generalizada                                                                                                     </td></tr>\n",
       "\t<tr><th scope=row>5</th><td>E</td><td>23</td><td>36</td><td> 0</td><td>Nao informado                                                                                                                            </td></tr>\n",
       "\t<tr><th scope=row>6</th><td>F</td><td>28</td><td>25</td><td>76</td><td>Diabetes mellitus tipo 2                                                                                                                 </td></tr>\n",
       "</tbody>\n",
       "</table>\n"
      ],
      "text/latex": [
       "A data.frame: 6 × 5\n",
       "\\begin{tabular}{r|lllll}\n",
       "  & Paciente & Idade.da.gestante & Idade.gestacional.em.semanas & dias.entre.infeccao.e.parto & Condicoes.medicas\\\\\n",
       "  & <chr> & <int> & <int> & <int> & <chr>\\\\\n",
       "\\hline\n",
       "\t1 & A & 45 & 26 &  3 & Pre eclampsia e diabetes mellitus gestacional                                                                                            \\\\\n",
       "\t2 & B & 38 & 28 &  3 & Hipotireoidismo pre gestacional                                                                                                          \\\\\n",
       "\t3 & C & 29 & 34 &  0 & Diabetes mellitus gestacional, obesidade, hipotireoidismo, ex usuaria de substancia psicoativa e historico de sifilis devidamente tratada\\\\\n",
       "\t4 & D & 37 & 34 &  0 & Transtorno de ansiedade generalizada                                                                                                     \\\\\n",
       "\t5 & E & 23 & 36 &  0 & Nao informado                                                                                                                            \\\\\n",
       "\t6 & F & 28 & 25 & 76 & Diabetes mellitus tipo 2                                                                                                                 \\\\\n",
       "\\end{tabular}\n"
      ],
      "text/markdown": [
       "\n",
       "A data.frame: 6 × 5\n",
       "\n",
       "| <!--/--> | Paciente &lt;chr&gt; | Idade.da.gestante &lt;int&gt; | Idade.gestacional.em.semanas &lt;int&gt; | dias.entre.infeccao.e.parto &lt;int&gt; | Condicoes.medicas &lt;chr&gt; |\n",
       "|---|---|---|---|---|---|\n",
       "| 1 | A | 45 | 26 |  3 | Pre eclampsia e diabetes mellitus gestacional                                                                                             |\n",
       "| 2 | B | 38 | 28 |  3 | Hipotireoidismo pre gestacional                                                                                                           |\n",
       "| 3 | C | 29 | 34 |  0 | Diabetes mellitus gestacional, obesidade, hipotireoidismo, ex usuaria de substancia psicoativa e historico de sifilis devidamente tratada |\n",
       "| 4 | D | 37 | 34 |  0 | Transtorno de ansiedade generalizada                                                                                                      |\n",
       "| 5 | E | 23 | 36 |  0 | Nao informado                                                                                                                             |\n",
       "| 6 | F | 28 | 25 | 76 | Diabetes mellitus tipo 2                                                                                                                  |\n",
       "\n"
      ],
      "text/plain": [
       "  Paciente Idade.da.gestante Idade.gestacional.em.semanas\n",
       "1 A        45                26                          \n",
       "2 B        38                28                          \n",
       "3 C        29                34                          \n",
       "4 D        37                34                          \n",
       "5 E        23                36                          \n",
       "6 F        28                25                          \n",
       "  dias.entre.infeccao.e.parto\n",
       "1  3                         \n",
       "2  3                         \n",
       "3  0                         \n",
       "4  0                         \n",
       "5  0                         \n",
       "6 76                         \n",
       "  Condicoes.medicas                                                                                                                        \n",
       "1 Pre eclampsia e diabetes mellitus gestacional                                                                                            \n",
       "2 Hipotireoidismo pre gestacional                                                                                                          \n",
       "3 Diabetes mellitus gestacional, obesidade, hipotireoidismo, ex usuaria de substancia psicoativa e historico de sifilis devidamente tratada\n",
       "4 Transtorno de ansiedade generalizada                                                                                                     \n",
       "5 Nao informado                                                                                                                            \n",
       "6 Diabetes mellitus tipo 2                                                                                                                 "
      ]
     },
     "metadata": {},
     "output_type": "display_data"
    }
   ],
   "source": [
    "DF1 <- read.csv('dadosgestantes.csv', sep= ';')\n",
    "head(DF1)"
   ]
  },
  {
   "cell_type": "markdown",
   "id": "8df3c94c",
   "metadata": {},
   "source": [
    "O segundo pacote é o **Readr**, ele é projetado para tornar a leitura e escrita de dados tabulares mais eficiente, rápida e amigável. O \"readr\" é amplamente utilizado em análise de dados e manipulação de dados em R devido às suas vantagens sobre as funções de leitura e escrita de dados padrão do R.  \n",
    "    **Principais funções para leitura e escrita de dados:**    \n",
    "**read_csv():** Esta função é usada para ler arquivos CSV (Comma-Separated Values).É uma das funções mais comuns do \"readr\" e é projetada para ler dados em formato CSV de maneira eficiente.  \n",
    "**read_tsv():** Semelhante ao read_csv(), o read_tsv() é usado para ler arquivos de texto tabulares, mas é específico para arquivos TSV (Tab-Separated Values). É útil quando os campos nos dados são separados por tabulações em vez de vírgulas.  \n",
    "**read_delim():** é uma função mais geral para ler arquivos tabulares com um delimitador personalizado. Você pode especificar o delimitador desejado como um argumento para a função\n",
    "\n",
    "**É necessário carregar o pacote readr**"
   ]
  },
  {
   "cell_type": "code",
   "execution_count": 2,
   "id": "8257662c",
   "metadata": {
    "vscode": {
     "languageId": "r"
    }
   },
   "outputs": [
    {
     "name": "stderr",
     "output_type": "stream",
     "text": [
      "Warning message:\n",
      "\"package 'readr' was built under R version 4.2.3\"\n"
     ]
    }
   ],
   "source": [
    "library(readr)"
   ]
  },
  {
   "cell_type": "code",
   "execution_count": 3,
   "id": "cad5ae18",
   "metadata": {
    "vscode": {
     "languageId": "r"
    }
   },
   "outputs": [
    {
     "name": "stderr",
     "output_type": "stream",
     "text": [
      "\u001b[1mRows: \u001b[22m\u001b[34m17\u001b[39m \u001b[1mColumns: \u001b[22m\u001b[34m5\u001b[39m\n",
      "\u001b[36m──\u001b[39m \u001b[1mColumn specification\u001b[22m \u001b[36m────────────────────────────────────────────────────────────────────────────────────────────────\u001b[39m\n",
      "\u001b[1mDelimiter:\u001b[22m \";\"\n",
      "\u001b[31mchr\u001b[39m (2): Paciente, Condicoes medicas\n",
      "\u001b[32mdbl\u001b[39m (3): Idade da gestante, Idade gestacional em semanas, dias entre infecca...\n",
      "\n",
      "\u001b[36mℹ\u001b[39m Use `spec()` to retrieve the full column specification for this data.\n",
      "\u001b[36mℹ\u001b[39m Specify the column types or set `show_col_types = FALSE` to quiet this message.\n"
     ]
    },
    {
     "data": {
      "text/html": [
       "<table class=\"dataframe\">\n",
       "<caption>A tibble: 6 × 5</caption>\n",
       "<thead>\n",
       "\t<tr><th scope=col>Paciente</th><th scope=col>Idade da gestante</th><th scope=col>Idade gestacional em semanas</th><th scope=col>dias entre infeccao e parto</th><th scope=col>Condicoes medicas</th></tr>\n",
       "\t<tr><th scope=col>&lt;chr&gt;</th><th scope=col>&lt;dbl&gt;</th><th scope=col>&lt;dbl&gt;</th><th scope=col>&lt;dbl&gt;</th><th scope=col>&lt;chr&gt;</th></tr>\n",
       "</thead>\n",
       "<tbody>\n",
       "\t<tr><td>A</td><td>45</td><td>26</td><td> 3</td><td>Pre eclampsia e diabetes mellitus gestacional                                                                                            </td></tr>\n",
       "\t<tr><td>B</td><td>38</td><td>28</td><td> 3</td><td>Hipotireoidismo pre gestacional                                                                                                          </td></tr>\n",
       "\t<tr><td>C</td><td>29</td><td>34</td><td> 0</td><td>Diabetes mellitus gestacional, obesidade, hipotireoidismo, ex usuaria de substancia psicoativa e historico de sifilis devidamente tratada</td></tr>\n",
       "\t<tr><td>D</td><td>37</td><td>34</td><td> 0</td><td>Transtorno de ansiedade generalizada                                                                                                     </td></tr>\n",
       "\t<tr><td>E</td><td>23</td><td>36</td><td> 0</td><td>Nao informado                                                                                                                            </td></tr>\n",
       "\t<tr><td>F</td><td>28</td><td>25</td><td>76</td><td>Diabetes mellitus tipo 2                                                                                                                 </td></tr>\n",
       "</tbody>\n",
       "</table>\n"
      ],
      "text/latex": [
       "A tibble: 6 × 5\n",
       "\\begin{tabular}{lllll}\n",
       " Paciente & Idade da gestante & Idade gestacional em semanas & dias entre infeccao e parto & Condicoes medicas\\\\\n",
       " <chr> & <dbl> & <dbl> & <dbl> & <chr>\\\\\n",
       "\\hline\n",
       "\t A & 45 & 26 &  3 & Pre eclampsia e diabetes mellitus gestacional                                                                                            \\\\\n",
       "\t B & 38 & 28 &  3 & Hipotireoidismo pre gestacional                                                                                                          \\\\\n",
       "\t C & 29 & 34 &  0 & Diabetes mellitus gestacional, obesidade, hipotireoidismo, ex usuaria de substancia psicoativa e historico de sifilis devidamente tratada\\\\\n",
       "\t D & 37 & 34 &  0 & Transtorno de ansiedade generalizada                                                                                                     \\\\\n",
       "\t E & 23 & 36 &  0 & Nao informado                                                                                                                            \\\\\n",
       "\t F & 28 & 25 & 76 & Diabetes mellitus tipo 2                                                                                                                 \\\\\n",
       "\\end{tabular}\n"
      ],
      "text/markdown": [
       "\n",
       "A tibble: 6 × 5\n",
       "\n",
       "| Paciente &lt;chr&gt; | Idade da gestante &lt;dbl&gt; | Idade gestacional em semanas &lt;dbl&gt; | dias entre infeccao e parto &lt;dbl&gt; | Condicoes medicas &lt;chr&gt; |\n",
       "|---|---|---|---|---|\n",
       "| A | 45 | 26 |  3 | Pre eclampsia e diabetes mellitus gestacional                                                                                             |\n",
       "| B | 38 | 28 |  3 | Hipotireoidismo pre gestacional                                                                                                           |\n",
       "| C | 29 | 34 |  0 | Diabetes mellitus gestacional, obesidade, hipotireoidismo, ex usuaria de substancia psicoativa e historico de sifilis devidamente tratada |\n",
       "| D | 37 | 34 |  0 | Transtorno de ansiedade generalizada                                                                                                      |\n",
       "| E | 23 | 36 |  0 | Nao informado                                                                                                                             |\n",
       "| F | 28 | 25 | 76 | Diabetes mellitus tipo 2                                                                                                                  |\n",
       "\n"
      ],
      "text/plain": [
       "  Paciente Idade da gestante Idade gestacional em semanas\n",
       "1 A        45                26                          \n",
       "2 B        38                28                          \n",
       "3 C        29                34                          \n",
       "4 D        37                34                          \n",
       "5 E        23                36                          \n",
       "6 F        28                25                          \n",
       "  dias entre infeccao e parto\n",
       "1  3                         \n",
       "2  3                         \n",
       "3  0                         \n",
       "4  0                         \n",
       "5  0                         \n",
       "6 76                         \n",
       "  Condicoes medicas                                                                                                                        \n",
       "1 Pre eclampsia e diabetes mellitus gestacional                                                                                            \n",
       "2 Hipotireoidismo pre gestacional                                                                                                          \n",
       "3 Diabetes mellitus gestacional, obesidade, hipotireoidismo, ex usuaria de substancia psicoativa e historico de sifilis devidamente tratada\n",
       "4 Transtorno de ansiedade generalizada                                                                                                     \n",
       "5 Nao informado                                                                                                                            \n",
       "6 Diabetes mellitus tipo 2                                                                                                                 "
      ]
     },
     "metadata": {},
     "output_type": "display_data"
    }
   ],
   "source": [
    "#A função read_csv() do pacote \"readr\" não aceita o argumento sep para especificar o delimitador, \n",
    "# pois ela assume que os arquivos CSV são separados por vírgula\n",
    "DF2 <- read_delim('dadosgestantes.csv')\n",
    "head(DF2)"
   ]
  },
  {
   "cell_type": "markdown",
   "id": "67f6f402",
   "metadata": {},
   "source": [
    "A terceira forma de carregar arquivos é por meio da **função fread**, ela faz parte do pacote \"data.table\". O \"data.table\" é um pacote em R que oferece funcionalidades avançadas para manipulação de dados em memória, especialmente adequado para conjuntos de dados grandes.  \n",
    "\n",
    "**A função fread() é projetada para ser muito rápida na leitura de arquivos grandes, superando muitas outras funções de leitura de dados em termos de desempenho. Isso a torna uma escolha ideal para conjuntos de dados extensos.** \n",
    "\n",
    "**É necessário carregar o pacote data.table**"
   ]
  },
  {
   "cell_type": "code",
   "execution_count": 4,
   "id": "b122b759",
   "metadata": {
    "vscode": {
     "languageId": "r"
    }
   },
   "outputs": [
    {
     "name": "stderr",
     "output_type": "stream",
     "text": [
      "Warning message:\n",
      "\"package 'data.table' was built under R version 4.2.3\"\n"
     ]
    }
   ],
   "source": [
    "library(data.table)"
   ]
  },
  {
   "cell_type": "code",
   "execution_count": 5,
   "id": "6405433a",
   "metadata": {
    "vscode": {
     "languageId": "r"
    }
   },
   "outputs": [
    {
     "data": {
      "text/html": [
       "<table class=\"dataframe\">\n",
       "<caption>A data.table: 6 × 5</caption>\n",
       "<thead>\n",
       "\t<tr><th scope=col>Paciente</th><th scope=col>Idade da gestante</th><th scope=col>Idade gestacional em semanas</th><th scope=col>dias entre infeccao e parto</th><th scope=col>Condicoes medicas</th></tr>\n",
       "\t<tr><th scope=col>&lt;chr&gt;</th><th scope=col>&lt;int&gt;</th><th scope=col>&lt;int&gt;</th><th scope=col>&lt;int&gt;</th><th scope=col>&lt;chr&gt;</th></tr>\n",
       "</thead>\n",
       "<tbody>\n",
       "\t<tr><td>A</td><td>45</td><td>26</td><td> 3</td><td>Pre eclampsia e diabetes mellitus gestacional                                                                                            </td></tr>\n",
       "\t<tr><td>B</td><td>38</td><td>28</td><td> 3</td><td>Hipotireoidismo pre gestacional                                                                                                          </td></tr>\n",
       "\t<tr><td>C</td><td>29</td><td>34</td><td> 0</td><td>Diabetes mellitus gestacional, obesidade, hipotireoidismo, ex usuaria de substancia psicoativa e historico de sifilis devidamente tratada</td></tr>\n",
       "\t<tr><td>D</td><td>37</td><td>34</td><td> 0</td><td>Transtorno de ansiedade generalizada                                                                                                     </td></tr>\n",
       "\t<tr><td>E</td><td>23</td><td>36</td><td> 0</td><td>Nao informado                                                                                                                            </td></tr>\n",
       "\t<tr><td>F</td><td>28</td><td>25</td><td>76</td><td>Diabetes mellitus tipo 2                                                                                                                 </td></tr>\n",
       "</tbody>\n",
       "</table>\n"
      ],
      "text/latex": [
       "A data.table: 6 × 5\n",
       "\\begin{tabular}{lllll}\n",
       " Paciente & Idade da gestante & Idade gestacional em semanas & dias entre infeccao e parto & Condicoes medicas\\\\\n",
       " <chr> & <int> & <int> & <int> & <chr>\\\\\n",
       "\\hline\n",
       "\t A & 45 & 26 &  3 & Pre eclampsia e diabetes mellitus gestacional                                                                                            \\\\\n",
       "\t B & 38 & 28 &  3 & Hipotireoidismo pre gestacional                                                                                                          \\\\\n",
       "\t C & 29 & 34 &  0 & Diabetes mellitus gestacional, obesidade, hipotireoidismo, ex usuaria de substancia psicoativa e historico de sifilis devidamente tratada\\\\\n",
       "\t D & 37 & 34 &  0 & Transtorno de ansiedade generalizada                                                                                                     \\\\\n",
       "\t E & 23 & 36 &  0 & Nao informado                                                                                                                            \\\\\n",
       "\t F & 28 & 25 & 76 & Diabetes mellitus tipo 2                                                                                                                 \\\\\n",
       "\\end{tabular}\n"
      ],
      "text/markdown": [
       "\n",
       "A data.table: 6 × 5\n",
       "\n",
       "| Paciente &lt;chr&gt; | Idade da gestante &lt;int&gt; | Idade gestacional em semanas &lt;int&gt; | dias entre infeccao e parto &lt;int&gt; | Condicoes medicas &lt;chr&gt; |\n",
       "|---|---|---|---|---|\n",
       "| A | 45 | 26 |  3 | Pre eclampsia e diabetes mellitus gestacional                                                                                             |\n",
       "| B | 38 | 28 |  3 | Hipotireoidismo pre gestacional                                                                                                           |\n",
       "| C | 29 | 34 |  0 | Diabetes mellitus gestacional, obesidade, hipotireoidismo, ex usuaria de substancia psicoativa e historico de sifilis devidamente tratada |\n",
       "| D | 37 | 34 |  0 | Transtorno de ansiedade generalizada                                                                                                      |\n",
       "| E | 23 | 36 |  0 | Nao informado                                                                                                                             |\n",
       "| F | 28 | 25 | 76 | Diabetes mellitus tipo 2                                                                                                                  |\n",
       "\n"
      ],
      "text/plain": [
       "  Paciente Idade da gestante Idade gestacional em semanas\n",
       "1 A        45                26                          \n",
       "2 B        38                28                          \n",
       "3 C        29                34                          \n",
       "4 D        37                34                          \n",
       "5 E        23                36                          \n",
       "6 F        28                25                          \n",
       "  dias entre infeccao e parto\n",
       "1  3                         \n",
       "2  3                         \n",
       "3  0                         \n",
       "4  0                         \n",
       "5  0                         \n",
       "6 76                         \n",
       "  Condicoes medicas                                                                                                                        \n",
       "1 Pre eclampsia e diabetes mellitus gestacional                                                                                            \n",
       "2 Hipotireoidismo pre gestacional                                                                                                          \n",
       "3 Diabetes mellitus gestacional, obesidade, hipotireoidismo, ex usuaria de substancia psicoativa e historico de sifilis devidamente tratada\n",
       "4 Transtorno de ansiedade generalizada                                                                                                     \n",
       "5 Nao informado                                                                                                                            \n",
       "6 Diabetes mellitus tipo 2                                                                                                                 "
      ]
     },
     "metadata": {},
     "output_type": "display_data"
    }
   ],
   "source": [
    "DF3 <- fread('dadosgestantes.csv')\n",
    "head(DF3)"
   ]
  },
  {
   "cell_type": "markdown",
   "id": "c5f3e702",
   "metadata": {},
   "source": [
    "**Para arquivos com caracteres especiais:** fileEncoding = 'UTF-16LE')"
   ]
  },
  {
   "cell_type": "markdown",
   "id": "3b9c6961",
   "metadata": {},
   "source": [
    "### Agora precisamos carregar o pacote dplyr que é especialmente focado em tarefas de manipulação e transformação de dados. Ele fornece um conjunto de funções que simplificam a manipulação de data frames no R.  "
   ]
  },
  {
   "cell_type": "code",
   "execution_count": 6,
   "id": "a46ac91c",
   "metadata": {
    "vscode": {
     "languageId": "r"
    }
   },
   "outputs": [
    {
     "name": "stderr",
     "output_type": "stream",
     "text": [
      "Warning message:\n",
      "\"package 'dplyr' was built under R version 4.2.3\"\n",
      "\n",
      "Attaching package: 'dplyr'\n",
      "\n",
      "\n",
      "The following objects are masked from 'package:data.table':\n",
      "\n",
      "    between, first, last\n",
      "\n",
      "\n",
      "The following objects are masked from 'package:stats':\n",
      "\n",
      "    filter, lag\n",
      "\n",
      "\n",
      "The following objects are masked from 'package:base':\n",
      "\n",
      "    intersect, setdiff, setequal, union\n",
      "\n",
      "\n"
     ]
    }
   ],
   "source": [
    "library(dplyr)"
   ]
  },
  {
   "cell_type": "markdown",
   "id": "bdb79cff",
   "metadata": {},
   "source": [
    "### Análise exploratória dos dados e funções básicas no R"
   ]
  },
  {
   "cell_type": "code",
   "execution_count": 7,
   "id": "10254341",
   "metadata": {
    "vscode": {
     "languageId": "r"
    }
   },
   "outputs": [
    {
     "name": "stdout",
     "output_type": "stream",
     "text": [
      "Rows: 17\n",
      "Columns: 5\n",
      "$ Paciente                       \u001b[3m\u001b[90m<chr>\u001b[39m\u001b[23m \"A\", \"B\", \"C\", \"D\", \"E\", \"F\", \"G\", \"H\",…\n",
      "$ `Idade da gestante`            \u001b[3m\u001b[90m<dbl>\u001b[39m\u001b[23m 45, 38, 29, 37, 23, 28, 22, 26, 22, 32,…\n",
      "$ `Idade gestacional em semanas` \u001b[3m\u001b[90m<dbl>\u001b[39m\u001b[23m 26, 28, 34, 34, 36, 25, 35, 32, 34, 38,…\n",
      "$ `dias entre infeccao e parto`  \u001b[3m\u001b[90m<dbl>\u001b[39m\u001b[23m 3, 3, 0, 0, 0, 76, 4, 42, 33, 0, 46, 12…\n",
      "$ `Condicoes medicas`            \u001b[3m\u001b[90m<chr>\u001b[39m\u001b[23m \"Pre eclampsia e diabetes mellitus gest…\n"
     ]
    }
   ],
   "source": [
    "#A função glimpse() é uma função do pacote \"dplyr\" e é usada para obter uma visão geral dos dados de um dataframe\n",
    "glimpse(DF2)"
   ]
  },
  {
   "cell_type": "code",
   "execution_count": 8,
   "id": "3e1358bb",
   "metadata": {
    "vscode": {
     "languageId": "r"
    }
   },
   "outputs": [
    {
     "name": "stdout",
     "output_type": "stream",
     "text": [
      "spc_tbl_ [17 × 5] (S3: spec_tbl_df/tbl_df/tbl/data.frame)\n",
      " $ Paciente                    : chr [1:17] \"A\" \"B\" \"C\" \"D\" ...\n",
      " $ Idade da gestante           : num [1:17] 45 38 29 37 23 28 22 26 22 32 ...\n",
      " $ Idade gestacional em semanas: num [1:17] 26 28 34 34 36 25 35 32 34 38 ...\n",
      " $ dias entre infeccao e parto : num [1:17] 3 3 0 0 0 76 4 42 33 0 ...\n",
      " $ Condicoes medicas           : chr [1:17] \"Pre eclampsia e diabetes mellitus gestacional\" \"Hipotireoidismo pre gestacional\" \"Diabetes mellitus gestacional, obesidade, hipotireoidismo, ex usuaria de substancia psicoativa e historico de s\"| __truncated__ \"Transtorno de ansiedade generalizada\" ...\n",
      " - attr(*, \"spec\")=\n",
      "  .. cols(\n",
      "  ..   Paciente = \u001b[31mcol_character()\u001b[39m,\n",
      "  ..   `Idade da gestante` = \u001b[32mcol_double()\u001b[39m,\n",
      "  ..   `Idade gestacional em semanas` = \u001b[32mcol_double()\u001b[39m,\n",
      "  ..   `dias entre infeccao e parto` = \u001b[32mcol_double()\u001b[39m,\n",
      "  ..   `Condicoes medicas` = \u001b[31mcol_character()\u001b[39m\n",
      "  .. )\n",
      " - attr(*, \"problems\")=<externalptr> \n"
     ]
    }
   ],
   "source": [
    "#A função str() é uma função base do R que é usada para visualizar a estrutura de objetos em R.\n",
    "str(DF2)"
   ]
  },
  {
   "cell_type": "code",
   "execution_count": 9,
   "id": "62f41032",
   "metadata": {
    "vscode": {
     "languageId": "r"
    }
   },
   "outputs": [
    {
     "data": {
      "text/html": [
       "<style>\n",
       ".dl-inline {width: auto; margin:0; padding: 0}\n",
       ".dl-inline>dt, .dl-inline>dd {float: none; width: auto; display: inline-block}\n",
       ".dl-inline>dt::after {content: \":\\0020\"; padding-right: .5ex}\n",
       ".dl-inline>dt:not(:first-of-type) {padding-left: .5ex}\n",
       "</style><dl class=dl-inline><dt>Paciente</dt><dd>0</dd><dt>Idade da gestante</dt><dd>2</dd><dt>Idade gestacional em semanas</dt><dd>2</dd><dt>dias entre infeccao e parto</dt><dd>0</dd><dt>Condicoes medicas</dt><dd>0</dd></dl>\n"
      ],
      "text/latex": [
       "\\begin{description*}\n",
       "\\item[Paciente] 0\n",
       "\\item[Idade da gestante] 2\n",
       "\\item[Idade gestacional em semanas] 2\n",
       "\\item[dias entre infeccao e parto] 0\n",
       "\\item[Condicoes medicas] 0\n",
       "\\end{description*}\n"
      ],
      "text/markdown": [
       "Paciente\n",
       ":   0Idade da gestante\n",
       ":   2Idade gestacional em semanas\n",
       ":   2dias entre infeccao e parto\n",
       ":   0Condicoes medicas\n",
       ":   0\n",
       "\n"
      ],
      "text/plain": [
       "                    Paciente            Idade da gestante \n",
       "                           0                            2 \n",
       "Idade gestacional em semanas  dias entre infeccao e parto \n",
       "                           2                            0 \n",
       "           Condicoes medicas \n",
       "                           0 "
      ]
     },
     "metadata": {},
     "output_type": "display_data"
    }
   ],
   "source": [
    "#verificando valores ausentes em todas as colunas\n",
    "#is.na verifica cada valor ausente dentro do DF.\n",
    "# colSums é uma função que calcula a soma das colunas, quando aplicada a um df de valores booleanos \n",
    "#(como o resultado de is.na(DF2)), ela somará 1 sempre que encontrar TRUE e 0 sempre que encontrar FALSE.\n",
    "colSums(is.na(DF2))"
   ]
  },
  {
   "cell_type": "code",
   "execution_count": 10,
   "id": "c6a464f5",
   "metadata": {
    "vscode": {
     "languageId": "r"
    }
   },
   "outputs": [],
   "source": [
    "#Removendo valores ausentes com a função na.omit(), ele remove todas as linhas indepedentes da coluna. \n",
    "DF2_filtrado <- na.omit(DF2)"
   ]
  },
  {
   "cell_type": "code",
   "execution_count": 11,
   "id": "359af1d5",
   "metadata": {
    "vscode": {
     "languageId": "r"
    }
   },
   "outputs": [
    {
     "data": {
      "text/html": [
       "<style>\n",
       ".dl-inline {width: auto; margin:0; padding: 0}\n",
       ".dl-inline>dt, .dl-inline>dd {float: none; width: auto; display: inline-block}\n",
       ".dl-inline>dt::after {content: \":\\0020\"; padding-right: .5ex}\n",
       ".dl-inline>dt:not(:first-of-type) {padding-left: .5ex}\n",
       "</style><dl class=dl-inline><dt>Paciente</dt><dd>0</dd><dt>Idade da gestante</dt><dd>0</dd><dt>Idade gestacional em semanas</dt><dd>0</dd><dt>dias entre infeccao e parto</dt><dd>0</dd><dt>Condicoes medicas</dt><dd>0</dd></dl>\n"
      ],
      "text/latex": [
       "\\begin{description*}\n",
       "\\item[Paciente] 0\n",
       "\\item[Idade da gestante] 0\n",
       "\\item[Idade gestacional em semanas] 0\n",
       "\\item[dias entre infeccao e parto] 0\n",
       "\\item[Condicoes medicas] 0\n",
       "\\end{description*}\n"
      ],
      "text/markdown": [
       "Paciente\n",
       ":   0Idade da gestante\n",
       ":   0Idade gestacional em semanas\n",
       ":   0dias entre infeccao e parto\n",
       ":   0Condicoes medicas\n",
       ":   0\n",
       "\n"
      ],
      "text/plain": [
       "                    Paciente            Idade da gestante \n",
       "                           0                            0 \n",
       "Idade gestacional em semanas  dias entre infeccao e parto \n",
       "                           0                            0 \n",
       "           Condicoes medicas \n",
       "                           0 "
      ]
     },
     "metadata": {},
     "output_type": "display_data"
    }
   ],
   "source": [
    "colSums(is.na(DF2_filtrado))"
   ]
  },
  {
   "cell_type": "code",
   "execution_count": 12,
   "id": "185d64b3",
   "metadata": {
    "vscode": {
     "languageId": "r"
    }
   },
   "outputs": [],
   "source": [
    "#Removendo todas as linhas com valores ausentes com complete.cases()\n",
    "#todas as linhas, todas as colunas\n",
    "DF2_filtrar <- DF2[complete.cases(DF2), ]"
   ]
  },
  {
   "cell_type": "code",
   "execution_count": 13,
   "id": "72617f88",
   "metadata": {
    "vscode": {
     "languageId": "r"
    }
   },
   "outputs": [
    {
     "data": {
      "text/html": [
       "<style>\n",
       ".dl-inline {width: auto; margin:0; padding: 0}\n",
       ".dl-inline>dt, .dl-inline>dd {float: none; width: auto; display: inline-block}\n",
       ".dl-inline>dt::after {content: \":\\0020\"; padding-right: .5ex}\n",
       ".dl-inline>dt:not(:first-of-type) {padding-left: .5ex}\n",
       "</style><dl class=dl-inline><dt>Paciente</dt><dd>0</dd><dt>Idade da gestante</dt><dd>0</dd><dt>Idade gestacional em semanas</dt><dd>0</dd><dt>dias entre infeccao e parto</dt><dd>0</dd><dt>Condicoes medicas</dt><dd>0</dd></dl>\n"
      ],
      "text/latex": [
       "\\begin{description*}\n",
       "\\item[Paciente] 0\n",
       "\\item[Idade da gestante] 0\n",
       "\\item[Idade gestacional em semanas] 0\n",
       "\\item[dias entre infeccao e parto] 0\n",
       "\\item[Condicoes medicas] 0\n",
       "\\end{description*}\n"
      ],
      "text/markdown": [
       "Paciente\n",
       ":   0Idade da gestante\n",
       ":   0Idade gestacional em semanas\n",
       ":   0dias entre infeccao e parto\n",
       ":   0Condicoes medicas\n",
       ":   0\n",
       "\n"
      ],
      "text/plain": [
       "                    Paciente            Idade da gestante \n",
       "                           0                            0 \n",
       "Idade gestacional em semanas  dias entre infeccao e parto \n",
       "                           0                            0 \n",
       "           Condicoes medicas \n",
       "                           0 "
      ]
     },
     "metadata": {},
     "output_type": "display_data"
    }
   ],
   "source": [
    "colSums(is.na(DF2_filtrar))"
   ]
  },
  {
   "cell_type": "code",
   "execution_count": 14,
   "id": "6762ffea",
   "metadata": {
    "vscode": {
     "languageId": "r"
    }
   },
   "outputs": [],
   "source": [
    "#Removendo valores ausentes em uma coluna especifica com o complete.cases()\n",
    "DF2_filtrar1 <- DF2[complete.cases(DF2$`Idade da gestante`), ]"
   ]
  },
  {
   "cell_type": "code",
   "execution_count": 15,
   "id": "b1d216b2",
   "metadata": {
    "vscode": {
     "languageId": "r"
    }
   },
   "outputs": [
    {
     "data": {
      "text/html": [
       "<style>\n",
       ".dl-inline {width: auto; margin:0; padding: 0}\n",
       ".dl-inline>dt, .dl-inline>dd {float: none; width: auto; display: inline-block}\n",
       ".dl-inline>dt::after {content: \":\\0020\"; padding-right: .5ex}\n",
       ".dl-inline>dt:not(:first-of-type) {padding-left: .5ex}\n",
       "</style><dl class=dl-inline><dt>Paciente</dt><dd>0</dd><dt>Idade da gestante</dt><dd>0</dd><dt>Idade gestacional em semanas</dt><dd>0</dd><dt>dias entre infeccao e parto</dt><dd>0</dd><dt>Condicoes medicas</dt><dd>0</dd></dl>\n"
      ],
      "text/latex": [
       "\\begin{description*}\n",
       "\\item[Paciente] 0\n",
       "\\item[Idade da gestante] 0\n",
       "\\item[Idade gestacional em semanas] 0\n",
       "\\item[dias entre infeccao e parto] 0\n",
       "\\item[Condicoes medicas] 0\n",
       "\\end{description*}\n"
      ],
      "text/markdown": [
       "Paciente\n",
       ":   0Idade da gestante\n",
       ":   0Idade gestacional em semanas\n",
       ":   0dias entre infeccao e parto\n",
       ":   0Condicoes medicas\n",
       ":   0\n",
       "\n"
      ],
      "text/plain": [
       "                    Paciente            Idade da gestante \n",
       "                           0                            0 \n",
       "Idade gestacional em semanas  dias entre infeccao e parto \n",
       "                           0                            0 \n",
       "           Condicoes medicas \n",
       "                           0 "
      ]
     },
     "metadata": {},
     "output_type": "display_data"
    }
   ],
   "source": [
    "#neste caso as linhas com valores ausentes eram as mesmas para as duas colunas. \n",
    "colSums(is.na(DF2_filtrar1))"
   ]
  },
  {
   "cell_type": "code",
   "execution_count": 16,
   "id": "3d885c4d",
   "metadata": {
    "vscode": {
     "languageId": "r"
    }
   },
   "outputs": [
    {
     "data": {
      "text/html": [
       "<table class=\"dataframe\">\n",
       "<caption>A tibble: 0 × 5</caption>\n",
       "<thead>\n",
       "\t<tr><th scope=col>Paciente</th><th scope=col>Idade da gestante</th><th scope=col>Idade gestacional em semanas</th><th scope=col>dias entre infeccao e parto</th><th scope=col>Condicoes medicas</th></tr>\n",
       "\t<tr><th scope=col>&lt;chr&gt;</th><th scope=col>&lt;dbl&gt;</th><th scope=col>&lt;dbl&gt;</th><th scope=col>&lt;dbl&gt;</th><th scope=col>&lt;chr&gt;</th></tr>\n",
       "</thead>\n",
       "<tbody>\n",
       "</tbody>\n",
       "</table>\n"
      ],
      "text/latex": [
       "A tibble: 0 × 5\n",
       "\\begin{tabular}{lllll}\n",
       " Paciente & Idade da gestante & Idade gestacional em semanas & dias entre infeccao e parto & Condicoes medicas\\\\\n",
       " <chr> & <dbl> & <dbl> & <dbl> & <chr>\\\\\n",
       "\\hline\n",
       "\\end{tabular}\n"
      ],
      "text/markdown": [
       "\n",
       "A tibble: 0 × 5\n",
       "\n",
       "| Paciente &lt;chr&gt; | Idade da gestante &lt;dbl&gt; | Idade gestacional em semanas &lt;dbl&gt; | dias entre infeccao e parto &lt;dbl&gt; | Condicoes medicas &lt;chr&gt; |\n",
       "|---|---|---|---|---|\n",
       "\n"
      ],
      "text/plain": [
       "     Paciente Idade da gestante Idade gestacional em semanas\n",
       "     dias entre infeccao e parto Condicoes medicas"
      ]
     },
     "metadata": {},
     "output_type": "display_data"
    }
   ],
   "source": [
    "#Verificando se existe registro duplicados pela coluna paciente\n",
    "# DF2$Paciente: Isso acessa a coluna \"Paciente\" no  DF2.\n",
    "# A função duplicated() identifica as linhas duplicadas na coluna \"Paciente\n",
    "#,] todas as colunas são incluídas no subconjunto resultante\n",
    "DF2[duplicated(DF2$Paciente),]"
   ]
  },
  {
   "cell_type": "code",
   "execution_count": 17,
   "id": "09e851f4",
   "metadata": {
    "vscode": {
     "languageId": "r"
    }
   },
   "outputs": [
    {
     "data": {
      "text/plain": [
       "   Paciente         Idade da gestante Idade gestacional em semanas\n",
       " Length:17          Min.   :22.00     Min.   : 8.00               \n",
       " Class :character   1st Qu.:26.00     1st Qu.:27.00               \n",
       " Mode  :character   Median :29.00     Median :34.00               \n",
       "                    Mean   :30.53     Mean   :30.13               \n",
       "                    3rd Qu.:35.50     3rd Qu.:34.50               \n",
       "                    Max.   :45.00     Max.   :38.00               \n",
       "                    NA's   :2         NA's   :2                   \n",
       " dias entre infeccao e parto Condicoes medicas \n",
       " Min.   :  0.00              Length:17         \n",
       " 1st Qu.:  3.00              Class :character  \n",
       " Median : 12.00              Mode  :character  \n",
       " Mean   : 35.82                                \n",
       " 3rd Qu.: 46.00                                \n",
       " Max.   :231.00                                \n",
       "                                               "
      ]
     },
     "metadata": {},
     "output_type": "display_data"
    }
   ],
   "source": [
    "#Calcula um resumo estatístico para as colunas numéricas\n",
    "summary(DF2)"
   ]
  },
  {
   "cell_type": "code",
   "execution_count": 18,
   "id": "ecaea15c",
   "metadata": {
    "vscode": {
     "languageId": "r"
    }
   },
   "outputs": [
    {
     "data": {
      "text/html": [
       "<style>\n",
       ".list-inline {list-style: none; margin:0; padding: 0}\n",
       ".list-inline>li {display: inline-block}\n",
       ".list-inline>li:not(:last-child)::after {content: \"\\00b7\"; padding: 0 .5ex}\n",
       "</style>\n",
       "<ol class=list-inline><li>17</li><li>5</li></ol>\n"
      ],
      "text/latex": [
       "\\begin{enumerate*}\n",
       "\\item 17\n",
       "\\item 5\n",
       "\\end{enumerate*}\n"
      ],
      "text/markdown": [
       "1. 17\n",
       "2. 5\n",
       "\n",
       "\n"
      ],
      "text/plain": [
       "[1] 17  5"
      ]
     },
     "metadata": {},
     "output_type": "display_data"
    }
   ],
   "source": [
    "#Linhas e colunas\n",
    "dim(DF2)"
   ]
  },
  {
   "cell_type": "markdown",
   "id": "089cca46",
   "metadata": {},
   "source": [
    "### Adicionando colunas no DataFrame"
   ]
  },
  {
   "cell_type": "code",
   "execution_count": 19,
   "id": "b2bb597d",
   "metadata": {
    "vscode": {
     "languageId": "r"
    }
   },
   "outputs": [
    {
     "data": {
      "text/html": [
       "<table class=\"dataframe\">\n",
       "<caption>A tibble: 6 × 6</caption>\n",
       "<thead>\n",
       "\t<tr><th scope=col>Paciente</th><th scope=col>Idade da gestante</th><th scope=col>Idade gestacional em semanas</th><th scope=col>dias entre infeccao e parto</th><th scope=col>Condicoes medicas</th><th scope=col>Valor</th></tr>\n",
       "\t<tr><th scope=col>&lt;chr&gt;</th><th scope=col>&lt;dbl&gt;</th><th scope=col>&lt;dbl&gt;</th><th scope=col>&lt;dbl&gt;</th><th scope=col>&lt;chr&gt;</th><th scope=col>&lt;dbl&gt;</th></tr>\n",
       "</thead>\n",
       "<tbody>\n",
       "\t<tr><td>A</td><td>45</td><td>26</td><td> 3</td><td>Pre eclampsia e diabetes mellitus gestacional                                                                                            </td><td>2</td></tr>\n",
       "\t<tr><td>B</td><td>38</td><td>28</td><td> 3</td><td>Hipotireoidismo pre gestacional                                                                                                          </td><td>2</td></tr>\n",
       "\t<tr><td>C</td><td>29</td><td>34</td><td> 0</td><td>Diabetes mellitus gestacional, obesidade, hipotireoidismo, ex usuaria de substancia psicoativa e historico de sifilis devidamente tratada</td><td>2</td></tr>\n",
       "\t<tr><td>D</td><td>37</td><td>34</td><td> 0</td><td>Transtorno de ansiedade generalizada                                                                                                     </td><td>2</td></tr>\n",
       "\t<tr><td>E</td><td>23</td><td>36</td><td> 0</td><td>Nao informado                                                                                                                            </td><td>2</td></tr>\n",
       "\t<tr><td>F</td><td>28</td><td>25</td><td>76</td><td>Diabetes mellitus tipo 2                                                                                                                 </td><td>2</td></tr>\n",
       "</tbody>\n",
       "</table>\n"
      ],
      "text/latex": [
       "A tibble: 6 × 6\n",
       "\\begin{tabular}{llllll}\n",
       " Paciente & Idade da gestante & Idade gestacional em semanas & dias entre infeccao e parto & Condicoes medicas & Valor\\\\\n",
       " <chr> & <dbl> & <dbl> & <dbl> & <chr> & <dbl>\\\\\n",
       "\\hline\n",
       "\t A & 45 & 26 &  3 & Pre eclampsia e diabetes mellitus gestacional                                                                                             & 2\\\\\n",
       "\t B & 38 & 28 &  3 & Hipotireoidismo pre gestacional                                                                                                           & 2\\\\\n",
       "\t C & 29 & 34 &  0 & Diabetes mellitus gestacional, obesidade, hipotireoidismo, ex usuaria de substancia psicoativa e historico de sifilis devidamente tratada & 2\\\\\n",
       "\t D & 37 & 34 &  0 & Transtorno de ansiedade generalizada                                                                                                      & 2\\\\\n",
       "\t E & 23 & 36 &  0 & Nao informado                                                                                                                             & 2\\\\\n",
       "\t F & 28 & 25 & 76 & Diabetes mellitus tipo 2                                                                                                                  & 2\\\\\n",
       "\\end{tabular}\n"
      ],
      "text/markdown": [
       "\n",
       "A tibble: 6 × 6\n",
       "\n",
       "| Paciente &lt;chr&gt; | Idade da gestante &lt;dbl&gt; | Idade gestacional em semanas &lt;dbl&gt; | dias entre infeccao e parto &lt;dbl&gt; | Condicoes medicas &lt;chr&gt; | Valor &lt;dbl&gt; |\n",
       "|---|---|---|---|---|---|\n",
       "| A | 45 | 26 |  3 | Pre eclampsia e diabetes mellitus gestacional                                                                                             | 2 |\n",
       "| B | 38 | 28 |  3 | Hipotireoidismo pre gestacional                                                                                                           | 2 |\n",
       "| C | 29 | 34 |  0 | Diabetes mellitus gestacional, obesidade, hipotireoidismo, ex usuaria de substancia psicoativa e historico de sifilis devidamente tratada | 2 |\n",
       "| D | 37 | 34 |  0 | Transtorno de ansiedade generalizada                                                                                                      | 2 |\n",
       "| E | 23 | 36 |  0 | Nao informado                                                                                                                             | 2 |\n",
       "| F | 28 | 25 | 76 | Diabetes mellitus tipo 2                                                                                                                  | 2 |\n",
       "\n"
      ],
      "text/plain": [
       "  Paciente Idade da gestante Idade gestacional em semanas\n",
       "1 A        45                26                          \n",
       "2 B        38                28                          \n",
       "3 C        29                34                          \n",
       "4 D        37                34                          \n",
       "5 E        23                36                          \n",
       "6 F        28                25                          \n",
       "  dias entre infeccao e parto\n",
       "1  3                         \n",
       "2  3                         \n",
       "3  0                         \n",
       "4  0                         \n",
       "5  0                         \n",
       "6 76                         \n",
       "  Condicoes medicas                                                                                                                        \n",
       "1 Pre eclampsia e diabetes mellitus gestacional                                                                                            \n",
       "2 Hipotireoidismo pre gestacional                                                                                                          \n",
       "3 Diabetes mellitus gestacional, obesidade, hipotireoidismo, ex usuaria de substancia psicoativa e historico de sifilis devidamente tratada\n",
       "4 Transtorno de ansiedade generalizada                                                                                                     \n",
       "5 Nao informado                                                                                                                            \n",
       "6 Diabetes mellitus tipo 2                                                                                                                 \n",
       "  Valor\n",
       "1 2    \n",
       "2 2    \n",
       "3 2    \n",
       "4 2    \n",
       "5 2    \n",
       "6 2    "
      ]
     },
     "metadata": {},
     "output_type": "display_data"
    }
   ],
   "source": [
    "#Adicionando uma nova coluna e atribuindo o valor 1 para ela:\n",
    "DF2$Valor <-2\n",
    "head(DF2)"
   ]
  },
  {
   "cell_type": "markdown",
   "id": "c20a55a1",
   "metadata": {},
   "source": [
    "### Renomenando colunas \n",
    "\n",
    "**colnames(DF2)[5] <- 'Valores'**\n",
    "  \n",
    "A coluna 5 seria renomeada para Valores\n"
   ]
  },
  {
   "cell_type": "markdown",
   "id": "33400b4c",
   "metadata": {},
   "source": [
    "### Funções do pacote Dplyr:\n",
    "\n",
    "**select():** Seleciona colunas específicas de um dataframe.  \n",
    "\n",
    "**filter():** Filtra as linhas de um dataframe com base em condições específicas.  \n",
    "\n",
    "**arrange():** Ordena as linhas de um dataframe com base em uma ou mais colunas.  \n",
    "\n",
    "**mutate():** Adiciona novas colunas ou modifica colunas existentes em um dataframe.  \n",
    "\n",
    "**summarize():** Cria resumos estatísticos de colunas em um dataframe.  \n",
    "\n",
    "**group_by():** Agrupa um dataframe por uma ou mais colunas.  \n",
    "\n",
    "**summarize():** Cria resumos estatísticos dentro de grupos definidos pelo group_by().  \n",
    "\n",
    "**join():** Realiza operações de junção (join) entre dataframes.\n",
    "\n",
    "**Abaixo estão exemplos de uso destas funções**"
   ]
  },
  {
   "cell_type": "code",
   "execution_count": 20,
   "id": "22d7cf4d",
   "metadata": {
    "vscode": {
     "languageId": "r"
    }
   },
   "outputs": [
    {
     "data": {
      "text/html": [
       "<table class=\"dataframe\">\n",
       "<caption>A tibble: 17 × 2</caption>\n",
       "<thead>\n",
       "\t<tr><th scope=col>Paciente</th><th scope=col>Condicoes medicas</th></tr>\n",
       "\t<tr><th scope=col>&lt;chr&gt;</th><th scope=col>&lt;chr&gt;</th></tr>\n",
       "</thead>\n",
       "<tbody>\n",
       "\t<tr><td>A</td><td>Pre eclampsia e diabetes mellitus gestacional                                                                                            </td></tr>\n",
       "\t<tr><td>B</td><td>Hipotireoidismo pre gestacional                                                                                                          </td></tr>\n",
       "\t<tr><td>C</td><td>Diabetes mellitus gestacional, obesidade, hipotireoidismo, ex usuaria de substancia psicoativa e historico de sifilis devidamente tratada</td></tr>\n",
       "\t<tr><td>D</td><td>Transtorno de ansiedade generalizada                                                                                                     </td></tr>\n",
       "\t<tr><td>E</td><td>Nao informado                                                                                                                            </td></tr>\n",
       "\t<tr><td>F</td><td>Diabetes mellitus tipo 2                                                                                                                 </td></tr>\n",
       "\t<tr><td>G</td><td>Diabetes mellitus gestacional, obesidade e hipotireoidismo                                                                               </td></tr>\n",
       "\t<tr><td>H</td><td>Toxoplasmose aguda e hipotireoidismo                                                                                                     </td></tr>\n",
       "\t<tr><td>I</td><td>Asma, transtorno de ansiedade generalizada e obesidade                                                                                   </td></tr>\n",
       "\t<tr><td>J</td><td>Nao informado                                                                                                                            </td></tr>\n",
       "\t<tr><td>K</td><td>Pre eclampsia e diabetes mellitus gestacional, obesidade e infeccao do trato urinario de repeticao                                       </td></tr>\n",
       "\t<tr><td>L</td><td>Diabetes mellitus gestacional                                                                                                            </td></tr>\n",
       "\t<tr><td>M</td><td>Nao informado                                                                                                                            </td></tr>\n",
       "\t<tr><td>N</td><td>Nao informado                                                                                                                            </td></tr>\n",
       "\t<tr><td>O</td><td>Diabetes mellitus gestacional, obesidade e hipotireoidismo                                                                               </td></tr>\n",
       "\t<tr><td>P</td><td>Nao informado                                                                                                                            </td></tr>\n",
       "\t<tr><td>Q</td><td>Nao informado                                                                                                                            </td></tr>\n",
       "</tbody>\n",
       "</table>\n"
      ],
      "text/latex": [
       "A tibble: 17 × 2\n",
       "\\begin{tabular}{ll}\n",
       " Paciente & Condicoes medicas\\\\\n",
       " <chr> & <chr>\\\\\n",
       "\\hline\n",
       "\t A & Pre eclampsia e diabetes mellitus gestacional                                                                                            \\\\\n",
       "\t B & Hipotireoidismo pre gestacional                                                                                                          \\\\\n",
       "\t C & Diabetes mellitus gestacional, obesidade, hipotireoidismo, ex usuaria de substancia psicoativa e historico de sifilis devidamente tratada\\\\\n",
       "\t D & Transtorno de ansiedade generalizada                                                                                                     \\\\\n",
       "\t E & Nao informado                                                                                                                            \\\\\n",
       "\t F & Diabetes mellitus tipo 2                                                                                                                 \\\\\n",
       "\t G & Diabetes mellitus gestacional, obesidade e hipotireoidismo                                                                               \\\\\n",
       "\t H & Toxoplasmose aguda e hipotireoidismo                                                                                                     \\\\\n",
       "\t I & Asma, transtorno de ansiedade generalizada e obesidade                                                                                   \\\\\n",
       "\t J & Nao informado                                                                                                                            \\\\\n",
       "\t K & Pre eclampsia e diabetes mellitus gestacional, obesidade e infeccao do trato urinario de repeticao                                       \\\\\n",
       "\t L & Diabetes mellitus gestacional                                                                                                            \\\\\n",
       "\t M & Nao informado                                                                                                                            \\\\\n",
       "\t N & Nao informado                                                                                                                            \\\\\n",
       "\t O & Diabetes mellitus gestacional, obesidade e hipotireoidismo                                                                               \\\\\n",
       "\t P & Nao informado                                                                                                                            \\\\\n",
       "\t Q & Nao informado                                                                                                                            \\\\\n",
       "\\end{tabular}\n"
      ],
      "text/markdown": [
       "\n",
       "A tibble: 17 × 2\n",
       "\n",
       "| Paciente &lt;chr&gt; | Condicoes medicas &lt;chr&gt; |\n",
       "|---|---|\n",
       "| A | Pre eclampsia e diabetes mellitus gestacional                                                                                             |\n",
       "| B | Hipotireoidismo pre gestacional                                                                                                           |\n",
       "| C | Diabetes mellitus gestacional, obesidade, hipotireoidismo, ex usuaria de substancia psicoativa e historico de sifilis devidamente tratada |\n",
       "| D | Transtorno de ansiedade generalizada                                                                                                      |\n",
       "| E | Nao informado                                                                                                                             |\n",
       "| F | Diabetes mellitus tipo 2                                                                                                                  |\n",
       "| G | Diabetes mellitus gestacional, obesidade e hipotireoidismo                                                                                |\n",
       "| H | Toxoplasmose aguda e hipotireoidismo                                                                                                      |\n",
       "| I | Asma, transtorno de ansiedade generalizada e obesidade                                                                                    |\n",
       "| J | Nao informado                                                                                                                             |\n",
       "| K | Pre eclampsia e diabetes mellitus gestacional, obesidade e infeccao do trato urinario de repeticao                                        |\n",
       "| L | Diabetes mellitus gestacional                                                                                                             |\n",
       "| M | Nao informado                                                                                                                             |\n",
       "| N | Nao informado                                                                                                                             |\n",
       "| O | Diabetes mellitus gestacional, obesidade e hipotireoidismo                                                                                |\n",
       "| P | Nao informado                                                                                                                             |\n",
       "| Q | Nao informado                                                                                                                             |\n",
       "\n"
      ],
      "text/plain": [
       "   Paciente\n",
       "1  A       \n",
       "2  B       \n",
       "3  C       \n",
       "4  D       \n",
       "5  E       \n",
       "6  F       \n",
       "7  G       \n",
       "8  H       \n",
       "9  I       \n",
       "10 J       \n",
       "11 K       \n",
       "12 L       \n",
       "13 M       \n",
       "14 N       \n",
       "15 O       \n",
       "16 P       \n",
       "17 Q       \n",
       "   Condicoes medicas                                                                                                                        \n",
       "1  Pre eclampsia e diabetes mellitus gestacional                                                                                            \n",
       "2  Hipotireoidismo pre gestacional                                                                                                          \n",
       "3  Diabetes mellitus gestacional, obesidade, hipotireoidismo, ex usuaria de substancia psicoativa e historico de sifilis devidamente tratada\n",
       "4  Transtorno de ansiedade generalizada                                                                                                     \n",
       "5  Nao informado                                                                                                                            \n",
       "6  Diabetes mellitus tipo 2                                                                                                                 \n",
       "7  Diabetes mellitus gestacional, obesidade e hipotireoidismo                                                                               \n",
       "8  Toxoplasmose aguda e hipotireoidismo                                                                                                     \n",
       "9  Asma, transtorno de ansiedade generalizada e obesidade                                                                                   \n",
       "10 Nao informado                                                                                                                            \n",
       "11 Pre eclampsia e diabetes mellitus gestacional, obesidade e infeccao do trato urinario de repeticao                                       \n",
       "12 Diabetes mellitus gestacional                                                                                                            \n",
       "13 Nao informado                                                                                                                            \n",
       "14 Nao informado                                                                                                                            \n",
       "15 Diabetes mellitus gestacional, obesidade e hipotireoidismo                                                                               \n",
       "16 Nao informado                                                                                                                            \n",
       "17 Nao informado                                                                                                                            "
      ]
     },
     "metadata": {},
     "output_type": "display_data"
    }
   ],
   "source": [
    "#Podemos selecionar colunas específicas com o select\n",
    "#Selecionando colunas 1 e 5 \n",
    "select(DF2, 1,5)"
   ]
  },
  {
   "cell_type": "code",
   "execution_count": 21,
   "id": "1636159c",
   "metadata": {
    "vscode": {
     "languageId": "r"
    }
   },
   "outputs": [
    {
     "data": {
      "text/html": [
       "<table class=\"dataframe\">\n",
       "<caption>A tibble: 17 × 3</caption>\n",
       "<thead>\n",
       "\t<tr><th scope=col>Paciente</th><th scope=col>Condicoes medicas</th><th scope=col>Valor</th></tr>\n",
       "\t<tr><th scope=col>&lt;chr&gt;</th><th scope=col>&lt;chr&gt;</th><th scope=col>&lt;dbl&gt;</th></tr>\n",
       "</thead>\n",
       "<tbody>\n",
       "\t<tr><td>A</td><td>Pre eclampsia e diabetes mellitus gestacional                                                                                            </td><td>2</td></tr>\n",
       "\t<tr><td>B</td><td>Hipotireoidismo pre gestacional                                                                                                          </td><td>2</td></tr>\n",
       "\t<tr><td>C</td><td>Diabetes mellitus gestacional, obesidade, hipotireoidismo, ex usuaria de substancia psicoativa e historico de sifilis devidamente tratada</td><td>2</td></tr>\n",
       "\t<tr><td>D</td><td>Transtorno de ansiedade generalizada                                                                                                     </td><td>2</td></tr>\n",
       "\t<tr><td>E</td><td>Nao informado                                                                                                                            </td><td>2</td></tr>\n",
       "\t<tr><td>F</td><td>Diabetes mellitus tipo 2                                                                                                                 </td><td>2</td></tr>\n",
       "\t<tr><td>G</td><td>Diabetes mellitus gestacional, obesidade e hipotireoidismo                                                                               </td><td>2</td></tr>\n",
       "\t<tr><td>H</td><td>Toxoplasmose aguda e hipotireoidismo                                                                                                     </td><td>2</td></tr>\n",
       "\t<tr><td>I</td><td>Asma, transtorno de ansiedade generalizada e obesidade                                                                                   </td><td>2</td></tr>\n",
       "\t<tr><td>J</td><td>Nao informado                                                                                                                            </td><td>2</td></tr>\n",
       "\t<tr><td>K</td><td>Pre eclampsia e diabetes mellitus gestacional, obesidade e infeccao do trato urinario de repeticao                                       </td><td>2</td></tr>\n",
       "\t<tr><td>L</td><td>Diabetes mellitus gestacional                                                                                                            </td><td>2</td></tr>\n",
       "\t<tr><td>M</td><td>Nao informado                                                                                                                            </td><td>2</td></tr>\n",
       "\t<tr><td>N</td><td>Nao informado                                                                                                                            </td><td>2</td></tr>\n",
       "\t<tr><td>O</td><td>Diabetes mellitus gestacional, obesidade e hipotireoidismo                                                                               </td><td>2</td></tr>\n",
       "\t<tr><td>P</td><td>Nao informado                                                                                                                            </td><td>2</td></tr>\n",
       "\t<tr><td>Q</td><td>Nao informado                                                                                                                            </td><td>2</td></tr>\n",
       "</tbody>\n",
       "</table>\n"
      ],
      "text/latex": [
       "A tibble: 17 × 3\n",
       "\\begin{tabular}{lll}\n",
       " Paciente & Condicoes medicas & Valor\\\\\n",
       " <chr> & <chr> & <dbl>\\\\\n",
       "\\hline\n",
       "\t A & Pre eclampsia e diabetes mellitus gestacional                                                                                             & 2\\\\\n",
       "\t B & Hipotireoidismo pre gestacional                                                                                                           & 2\\\\\n",
       "\t C & Diabetes mellitus gestacional, obesidade, hipotireoidismo, ex usuaria de substancia psicoativa e historico de sifilis devidamente tratada & 2\\\\\n",
       "\t D & Transtorno de ansiedade generalizada                                                                                                      & 2\\\\\n",
       "\t E & Nao informado                                                                                                                             & 2\\\\\n",
       "\t F & Diabetes mellitus tipo 2                                                                                                                  & 2\\\\\n",
       "\t G & Diabetes mellitus gestacional, obesidade e hipotireoidismo                                                                                & 2\\\\\n",
       "\t H & Toxoplasmose aguda e hipotireoidismo                                                                                                      & 2\\\\\n",
       "\t I & Asma, transtorno de ansiedade generalizada e obesidade                                                                                    & 2\\\\\n",
       "\t J & Nao informado                                                                                                                             & 2\\\\\n",
       "\t K & Pre eclampsia e diabetes mellitus gestacional, obesidade e infeccao do trato urinario de repeticao                                        & 2\\\\\n",
       "\t L & Diabetes mellitus gestacional                                                                                                             & 2\\\\\n",
       "\t M & Nao informado                                                                                                                             & 2\\\\\n",
       "\t N & Nao informado                                                                                                                             & 2\\\\\n",
       "\t O & Diabetes mellitus gestacional, obesidade e hipotireoidismo                                                                                & 2\\\\\n",
       "\t P & Nao informado                                                                                                                             & 2\\\\\n",
       "\t Q & Nao informado                                                                                                                             & 2\\\\\n",
       "\\end{tabular}\n"
      ],
      "text/markdown": [
       "\n",
       "A tibble: 17 × 3\n",
       "\n",
       "| Paciente &lt;chr&gt; | Condicoes medicas &lt;chr&gt; | Valor &lt;dbl&gt; |\n",
       "|---|---|---|\n",
       "| A | Pre eclampsia e diabetes mellitus gestacional                                                                                             | 2 |\n",
       "| B | Hipotireoidismo pre gestacional                                                                                                           | 2 |\n",
       "| C | Diabetes mellitus gestacional, obesidade, hipotireoidismo, ex usuaria de substancia psicoativa e historico de sifilis devidamente tratada | 2 |\n",
       "| D | Transtorno de ansiedade generalizada                                                                                                      | 2 |\n",
       "| E | Nao informado                                                                                                                             | 2 |\n",
       "| F | Diabetes mellitus tipo 2                                                                                                                  | 2 |\n",
       "| G | Diabetes mellitus gestacional, obesidade e hipotireoidismo                                                                                | 2 |\n",
       "| H | Toxoplasmose aguda e hipotireoidismo                                                                                                      | 2 |\n",
       "| I | Asma, transtorno de ansiedade generalizada e obesidade                                                                                    | 2 |\n",
       "| J | Nao informado                                                                                                                             | 2 |\n",
       "| K | Pre eclampsia e diabetes mellitus gestacional, obesidade e infeccao do trato urinario de repeticao                                        | 2 |\n",
       "| L | Diabetes mellitus gestacional                                                                                                             | 2 |\n",
       "| M | Nao informado                                                                                                                             | 2 |\n",
       "| N | Nao informado                                                                                                                             | 2 |\n",
       "| O | Diabetes mellitus gestacional, obesidade e hipotireoidismo                                                                                | 2 |\n",
       "| P | Nao informado                                                                                                                             | 2 |\n",
       "| Q | Nao informado                                                                                                                             | 2 |\n",
       "\n"
      ],
      "text/plain": [
       "   Paciente\n",
       "1  A       \n",
       "2  B       \n",
       "3  C       \n",
       "4  D       \n",
       "5  E       \n",
       "6  F       \n",
       "7  G       \n",
       "8  H       \n",
       "9  I       \n",
       "10 J       \n",
       "11 K       \n",
       "12 L       \n",
       "13 M       \n",
       "14 N       \n",
       "15 O       \n",
       "16 P       \n",
       "17 Q       \n",
       "   Condicoes medicas                                                                                                                        \n",
       "1  Pre eclampsia e diabetes mellitus gestacional                                                                                            \n",
       "2  Hipotireoidismo pre gestacional                                                                                                          \n",
       "3  Diabetes mellitus gestacional, obesidade, hipotireoidismo, ex usuaria de substancia psicoativa e historico de sifilis devidamente tratada\n",
       "4  Transtorno de ansiedade generalizada                                                                                                     \n",
       "5  Nao informado                                                                                                                            \n",
       "6  Diabetes mellitus tipo 2                                                                                                                 \n",
       "7  Diabetes mellitus gestacional, obesidade e hipotireoidismo                                                                               \n",
       "8  Toxoplasmose aguda e hipotireoidismo                                                                                                     \n",
       "9  Asma, transtorno de ansiedade generalizada e obesidade                                                                                   \n",
       "10 Nao informado                                                                                                                            \n",
       "11 Pre eclampsia e diabetes mellitus gestacional, obesidade e infeccao do trato urinario de repeticao                                       \n",
       "12 Diabetes mellitus gestacional                                                                                                            \n",
       "13 Nao informado                                                                                                                            \n",
       "14 Nao informado                                                                                                                            \n",
       "15 Diabetes mellitus gestacional, obesidade e hipotireoidismo                                                                               \n",
       "16 Nao informado                                                                                                                            \n",
       "17 Nao informado                                                                                                                            \n",
       "   Valor\n",
       "1  2    \n",
       "2  2    \n",
       "3  2    \n",
       "4  2    \n",
       "5  2    \n",
       "6  2    \n",
       "7  2    \n",
       "8  2    \n",
       "9  2    \n",
       "10 2    \n",
       "11 2    \n",
       "12 2    \n",
       "13 2    \n",
       "14 2    \n",
       "15 2    \n",
       "16 2    \n",
       "17 2    "
      ]
     },
     "metadata": {},
     "output_type": "display_data"
    }
   ],
   "source": [
    "#Excluindo colunas 2,3 e 4\n",
    "select(DF2, -'Idade da gestante':-'dias entre infeccao e parto')"
   ]
  },
  {
   "cell_type": "code",
   "execution_count": 22,
   "id": "80a4a66b",
   "metadata": {
    "vscode": {
     "languageId": "r"
    }
   },
   "outputs": [
    {
     "data": {
      "text/html": [
       "<table class=\"dataframe\">\n",
       "<caption>A tibble: 4 × 1</caption>\n",
       "<thead>\n",
       "\t<tr><th scope=col>Idade da gestante</th></tr>\n",
       "\t<tr><th scope=col>&lt;dbl&gt;</th></tr>\n",
       "</thead>\n",
       "<tbody>\n",
       "\t<tr><td>45</td></tr>\n",
       "\t<tr><td>38</td></tr>\n",
       "\t<tr><td>37</td></tr>\n",
       "\t<tr><td>39</td></tr>\n",
       "</tbody>\n",
       "</table>\n"
      ],
      "text/latex": [
       "A tibble: 4 × 1\n",
       "\\begin{tabular}{l}\n",
       " Idade da gestante\\\\\n",
       " <dbl>\\\\\n",
       "\\hline\n",
       "\t 45\\\\\n",
       "\t 38\\\\\n",
       "\t 37\\\\\n",
       "\t 39\\\\\n",
       "\\end{tabular}\n"
      ],
      "text/markdown": [
       "\n",
       "A tibble: 4 × 1\n",
       "\n",
       "| Idade da gestante &lt;dbl&gt; |\n",
       "|---|\n",
       "| 45 |\n",
       "| 38 |\n",
       "| 37 |\n",
       "| 39 |\n",
       "\n"
      ],
      "text/plain": [
       "  Idade da gestante\n",
       "1 45               \n",
       "2 38               \n",
       "3 37               \n",
       "4 39               "
      ]
     },
     "metadata": {},
     "output_type": "display_data"
    }
   ],
   "source": [
    "DF2 %>% #Utiliza o operador pipe para encadear as funções. \n",
    "  select(`Idade da gestante`)%>% # Seleciona a coluna Idade da gestante, necessárop crase (`)\n",
    "  filter(`Idade da gestante` > 35) # Filtra linhas a idade é amior que 35 anos"
   ]
  },
  {
   "cell_type": "code",
   "execution_count": 23,
   "id": "da5acc91",
   "metadata": {
    "vscode": {
     "languageId": "r"
    }
   },
   "outputs": [
    {
     "data": {
      "text/html": [
       "<table class=\"dataframe\">\n",
       "<caption>A spec_tbl_df: 3 × 6</caption>\n",
       "<thead>\n",
       "\t<tr><th scope=col>Paciente</th><th scope=col>Idade da gestante</th><th scope=col>Idade gestacional em semanas</th><th scope=col>dias entre infeccao e parto</th><th scope=col>Condicoes medicas</th><th scope=col>Valor</th></tr>\n",
       "\t<tr><th scope=col>&lt;chr&gt;</th><th scope=col>&lt;dbl&gt;</th><th scope=col>&lt;dbl&gt;</th><th scope=col>&lt;dbl&gt;</th><th scope=col>&lt;chr&gt;</th><th scope=col>&lt;dbl&gt;</th></tr>\n",
       "</thead>\n",
       "<tbody>\n",
       "\t<tr><td>A</td><td>45</td><td>26</td><td>3</td><td>Pre eclampsia e diabetes mellitus gestacional                                                                                            </td><td>2</td></tr>\n",
       "\t<tr><td>B</td><td>38</td><td>28</td><td>3</td><td>Hipotireoidismo pre gestacional                                                                                                          </td><td>2</td></tr>\n",
       "\t<tr><td>C</td><td>29</td><td>34</td><td>0</td><td>Diabetes mellitus gestacional, obesidade, hipotireoidismo, ex usuaria de substancia psicoativa e historico de sifilis devidamente tratada</td><td>2</td></tr>\n",
       "</tbody>\n",
       "</table>\n"
      ],
      "text/latex": [
       "A spec\\_tbl\\_df: 3 × 6\n",
       "\\begin{tabular}{llllll}\n",
       " Paciente & Idade da gestante & Idade gestacional em semanas & dias entre infeccao e parto & Condicoes medicas & Valor\\\\\n",
       " <chr> & <dbl> & <dbl> & <dbl> & <chr> & <dbl>\\\\\n",
       "\\hline\n",
       "\t A & 45 & 26 & 3 & Pre eclampsia e diabetes mellitus gestacional                                                                                             & 2\\\\\n",
       "\t B & 38 & 28 & 3 & Hipotireoidismo pre gestacional                                                                                                           & 2\\\\\n",
       "\t C & 29 & 34 & 0 & Diabetes mellitus gestacional, obesidade, hipotireoidismo, ex usuaria de substancia psicoativa e historico de sifilis devidamente tratada & 2\\\\\n",
       "\\end{tabular}\n"
      ],
      "text/markdown": [
       "\n",
       "A spec_tbl_df: 3 × 6\n",
       "\n",
       "| Paciente &lt;chr&gt; | Idade da gestante &lt;dbl&gt; | Idade gestacional em semanas &lt;dbl&gt; | dias entre infeccao e parto &lt;dbl&gt; | Condicoes medicas &lt;chr&gt; | Valor &lt;dbl&gt; |\n",
       "|---|---|---|---|---|---|\n",
       "| A | 45 | 26 | 3 | Pre eclampsia e diabetes mellitus gestacional                                                                                             | 2 |\n",
       "| B | 38 | 28 | 3 | Hipotireoidismo pre gestacional                                                                                                           | 2 |\n",
       "| C | 29 | 34 | 0 | Diabetes mellitus gestacional, obesidade, hipotireoidismo, ex usuaria de substancia psicoativa e historico de sifilis devidamente tratada | 2 |\n",
       "\n"
      ],
      "text/plain": [
       "  Paciente Idade da gestante Idade gestacional em semanas\n",
       "1 A        45                26                          \n",
       "2 B        38                28                          \n",
       "3 C        29                34                          \n",
       "  dias entre infeccao e parto\n",
       "1 3                          \n",
       "2 3                          \n",
       "3 0                          \n",
       "  Condicoes medicas                                                                                                                        \n",
       "1 Pre eclampsia e diabetes mellitus gestacional                                                                                            \n",
       "2 Hipotireoidismo pre gestacional                                                                                                          \n",
       "3 Diabetes mellitus gestacional, obesidade, hipotireoidismo, ex usuaria de substancia psicoativa e historico de sifilis devidamente tratada\n",
       "  Valor\n",
       "1 2    \n",
       "2 2    \n",
       "3 2    "
      ]
     },
     "metadata": {},
     "output_type": "display_data"
    }
   ],
   "source": [
    "# O operador %in% é usado para verificar se um elemento está presente em um vetor ou conjunto de elementos\n",
    "DF2 %>% \n",
    "filter(Paciente %in% c('A', 'B', 'C')) #Filtrando com base na coluna paciente, paciente A, B,C"
   ]
  },
  {
   "cell_type": "code",
   "execution_count": 24,
   "id": "e6578422",
   "metadata": {
    "vscode": {
     "languageId": "r"
    }
   },
   "outputs": [
    {
     "name": "stderr",
     "output_type": "stream",
     "text": [
      "Warning message:\n",
      "\"\u001b[1m\u001b[22mUsing one column matrices in `filter()` was deprecated in dplyr 1.1.0.\n",
      "\u001b[36mℹ\u001b[39m Please use one dimensional logical vectors instead.\"\n"
     ]
    },
    {
     "data": {
      "text/html": [
       "<table class=\"dataframe\">\n",
       "<caption>A tibble: 4 × 1</caption>\n",
       "<thead>\n",
       "\t<tr><th scope=col>Idade da gestante</th></tr>\n",
       "\t<tr><th scope=col>&lt;dbl&gt;</th></tr>\n",
       "</thead>\n",
       "<tbody>\n",
       "\t<tr><td>45</td></tr>\n",
       "\t<tr><td>38</td></tr>\n",
       "\t<tr><td>37</td></tr>\n",
       "\t<tr><td>39</td></tr>\n",
       "</tbody>\n",
       "</table>\n"
      ],
      "text/latex": [
       "A tibble: 4 × 1\n",
       "\\begin{tabular}{l}\n",
       " Idade da gestante\\\\\n",
       " <dbl>\\\\\n",
       "\\hline\n",
       "\t 45\\\\\n",
       "\t 38\\\\\n",
       "\t 37\\\\\n",
       "\t 39\\\\\n",
       "\\end{tabular}\n"
      ],
      "text/markdown": [
       "\n",
       "A tibble: 4 × 1\n",
       "\n",
       "| Idade da gestante &lt;dbl&gt; |\n",
       "|---|\n",
       "| 45 |\n",
       "| 38 |\n",
       "| 37 |\n",
       "| 39 |\n",
       "\n"
      ],
      "text/plain": [
       "  Idade da gestante\n",
       "1 45               \n",
       "2 38               \n",
       "3 37               \n",
       "4 39               "
      ]
     },
     "metadata": {},
     "output_type": "display_data"
    }
   ],
   "source": [
    "DF2 %>%\n",
    "  select(2) %>% # Seleciona a segunda coluna\n",
    "  filter(. > 35)"
   ]
  },
  {
   "cell_type": "code",
   "execution_count": 25,
   "id": "b4b290df",
   "metadata": {
    "vscode": {
     "languageId": "r"
    }
   },
   "outputs": [
    {
     "data": {
      "text/html": [
       "<table class=\"dataframe\">\n",
       "<caption>A spec_tbl_df: 3 × 6</caption>\n",
       "<thead>\n",
       "\t<tr><th scope=col>Paciente</th><th scope=col>Idade da gestante</th><th scope=col>Idade gestacional em semanas</th><th scope=col>dias entre infeccao e parto</th><th scope=col>Condicoes medicas</th><th scope=col>Valor</th></tr>\n",
       "\t<tr><th scope=col>&lt;chr&gt;</th><th scope=col>&lt;dbl&gt;</th><th scope=col>&lt;dbl&gt;</th><th scope=col>&lt;dbl&gt;</th><th scope=col>&lt;chr&gt;</th><th scope=col>&lt;dbl&gt;</th></tr>\n",
       "</thead>\n",
       "<tbody>\n",
       "\t<tr><td>D</td><td>37</td><td>34</td><td> 0</td><td>Transtorno de ansiedade generalizada</td><td>2</td></tr>\n",
       "\t<tr><td>J</td><td>32</td><td>38</td><td> 0</td><td>Nao informado                       </td><td>2</td></tr>\n",
       "\t<tr><td>M</td><td>34</td><td>34</td><td>26</td><td>Nao informado                       </td><td>2</td></tr>\n",
       "</tbody>\n",
       "</table>\n"
      ],
      "text/latex": [
       "A spec\\_tbl\\_df: 3 × 6\n",
       "\\begin{tabular}{llllll}\n",
       " Paciente & Idade da gestante & Idade gestacional em semanas & dias entre infeccao e parto & Condicoes medicas & Valor\\\\\n",
       " <chr> & <dbl> & <dbl> & <dbl> & <chr> & <dbl>\\\\\n",
       "\\hline\n",
       "\t D & 37 & 34 &  0 & Transtorno de ansiedade generalizada & 2\\\\\n",
       "\t J & 32 & 38 &  0 & Nao informado                        & 2\\\\\n",
       "\t M & 34 & 34 & 26 & Nao informado                        & 2\\\\\n",
       "\\end{tabular}\n"
      ],
      "text/markdown": [
       "\n",
       "A spec_tbl_df: 3 × 6\n",
       "\n",
       "| Paciente &lt;chr&gt; | Idade da gestante &lt;dbl&gt; | Idade gestacional em semanas &lt;dbl&gt; | dias entre infeccao e parto &lt;dbl&gt; | Condicoes medicas &lt;chr&gt; | Valor &lt;dbl&gt; |\n",
       "|---|---|---|---|---|---|\n",
       "| D | 37 | 34 |  0 | Transtorno de ansiedade generalizada | 2 |\n",
       "| J | 32 | 38 |  0 | Nao informado                        | 2 |\n",
       "| M | 34 | 34 | 26 | Nao informado                        | 2 |\n",
       "\n"
      ],
      "text/plain": [
       "  Paciente Idade da gestante Idade gestacional em semanas\n",
       "1 D        37                34                          \n",
       "2 J        32                38                          \n",
       "3 M        34                34                          \n",
       "  dias entre infeccao e parto Condicoes medicas                    Valor\n",
       "1  0                          Transtorno de ansiedade generalizada 2    \n",
       "2  0                          Nao informado                        2    \n",
       "3 26                          Nao informado                        2    "
      ]
     },
     "metadata": {},
     "output_type": "display_data"
    }
   ],
   "source": [
    "# Neste exemplo, usamos a função filter() para selecionar as observações onde a variável \"Idade_Gestante\" é maior que 30 e \n",
    "#a variável \"Idade_Gestacional\" é maior que 30\n",
    "DF2 %>%\n",
    "  filter(`Idade da gestante` > 30, `Idade gestacional em semanas` > 30)"
   ]
  },
  {
   "cell_type": "code",
   "execution_count": 26,
   "id": "57fa2848",
   "metadata": {
    "vscode": {
     "languageId": "r"
    }
   },
   "outputs": [
    {
     "data": {
      "text/html": [
       "<table class=\"dataframe\">\n",
       "<caption>A tibble: 6 × 6</caption>\n",
       "<thead>\n",
       "\t<tr><th scope=col>Paciente</th><th scope=col>Idade da gestante</th><th scope=col>Idade gestacional em semanas</th><th scope=col>dias entre infeccao e parto</th><th scope=col>Condicoes medicas</th><th scope=col>Valor</th></tr>\n",
       "\t<tr><th scope=col>&lt;chr&gt;</th><th scope=col>&lt;dbl&gt;</th><th scope=col>&lt;dbl&gt;</th><th scope=col>&lt;dbl&gt;</th><th scope=col>&lt;chr&gt;</th><th scope=col>&lt;dbl&gt;</th></tr>\n",
       "</thead>\n",
       "<tbody>\n",
       "\t<tr><td>G</td><td>22</td><td>35</td><td> 4</td><td>Diabetes mellitus gestacional, obesidade e hipotireoidismo</td><td>2</td></tr>\n",
       "\t<tr><td>I</td><td>22</td><td>34</td><td>33</td><td>Asma, transtorno de ansiedade generalizada e obesidade    </td><td>2</td></tr>\n",
       "\t<tr><td>E</td><td>23</td><td>36</td><td> 0</td><td>Nao informado                                             </td><td>2</td></tr>\n",
       "\t<tr><td>H</td><td>26</td><td>32</td><td>42</td><td>Toxoplasmose aguda e hipotireoidismo                      </td><td>2</td></tr>\n",
       "\t<tr><td>O</td><td>26</td><td>21</td><td>74</td><td>Diabetes mellitus gestacional, obesidade e hipotireoidismo</td><td>2</td></tr>\n",
       "\t<tr><td>L</td><td>27</td><td>37</td><td>12</td><td>Diabetes mellitus gestacional                             </td><td>2</td></tr>\n",
       "</tbody>\n",
       "</table>\n"
      ],
      "text/latex": [
       "A tibble: 6 × 6\n",
       "\\begin{tabular}{llllll}\n",
       " Paciente & Idade da gestante & Idade gestacional em semanas & dias entre infeccao e parto & Condicoes medicas & Valor\\\\\n",
       " <chr> & <dbl> & <dbl> & <dbl> & <chr> & <dbl>\\\\\n",
       "\\hline\n",
       "\t G & 22 & 35 &  4 & Diabetes mellitus gestacional, obesidade e hipotireoidismo & 2\\\\\n",
       "\t I & 22 & 34 & 33 & Asma, transtorno de ansiedade generalizada e obesidade     & 2\\\\\n",
       "\t E & 23 & 36 &  0 & Nao informado                                              & 2\\\\\n",
       "\t H & 26 & 32 & 42 & Toxoplasmose aguda e hipotireoidismo                       & 2\\\\\n",
       "\t O & 26 & 21 & 74 & Diabetes mellitus gestacional, obesidade e hipotireoidismo & 2\\\\\n",
       "\t L & 27 & 37 & 12 & Diabetes mellitus gestacional                              & 2\\\\\n",
       "\\end{tabular}\n"
      ],
      "text/markdown": [
       "\n",
       "A tibble: 6 × 6\n",
       "\n",
       "| Paciente &lt;chr&gt; | Idade da gestante &lt;dbl&gt; | Idade gestacional em semanas &lt;dbl&gt; | dias entre infeccao e parto &lt;dbl&gt; | Condicoes medicas &lt;chr&gt; | Valor &lt;dbl&gt; |\n",
       "|---|---|---|---|---|---|\n",
       "| G | 22 | 35 |  4 | Diabetes mellitus gestacional, obesidade e hipotireoidismo | 2 |\n",
       "| I | 22 | 34 | 33 | Asma, transtorno de ansiedade generalizada e obesidade     | 2 |\n",
       "| E | 23 | 36 |  0 | Nao informado                                              | 2 |\n",
       "| H | 26 | 32 | 42 | Toxoplasmose aguda e hipotireoidismo                       | 2 |\n",
       "| O | 26 | 21 | 74 | Diabetes mellitus gestacional, obesidade e hipotireoidismo | 2 |\n",
       "| L | 27 | 37 | 12 | Diabetes mellitus gestacional                              | 2 |\n",
       "\n"
      ],
      "text/plain": [
       "  Paciente Idade da gestante Idade gestacional em semanas\n",
       "1 G        22                35                          \n",
       "2 I        22                34                          \n",
       "3 E        23                36                          \n",
       "4 H        26                32                          \n",
       "5 O        26                21                          \n",
       "6 L        27                37                          \n",
       "  dias entre infeccao e parto\n",
       "1  4                         \n",
       "2 33                         \n",
       "3  0                         \n",
       "4 42                         \n",
       "5 74                         \n",
       "6 12                         \n",
       "  Condicoes medicas                                          Valor\n",
       "1 Diabetes mellitus gestacional, obesidade e hipotireoidismo 2    \n",
       "2 Asma, transtorno de ansiedade generalizada e obesidade     2    \n",
       "3 Nao informado                                              2    \n",
       "4 Toxoplasmose aguda e hipotireoidismo                       2    \n",
       "5 Diabetes mellitus gestacional, obesidade e hipotireoidismo 2    \n",
       "6 Diabetes mellitus gestacional                              2    "
      ]
     },
     "metadata": {},
     "output_type": "display_data"
    }
   ],
   "source": [
    "# Ordenação  de coluna por arrange\n",
    "# usamos arrange(Idade da gestante para ordenar primeiro por \"Idade da gestante\" em ordem crescente.\n",
    "DF2 %>%\n",
    "  arrange(`Idade da gestante`) %>%\n",
    "head() #Mostrando os 6 primeiros registros. "
   ]
  },
  {
   "cell_type": "code",
   "execution_count": 27,
   "id": "91037ff3",
   "metadata": {
    "vscode": {
     "languageId": "r"
    }
   },
   "outputs": [
    {
     "data": {
      "text/html": [
       "<table class=\"dataframe\">\n",
       "<caption>A tibble: 6 × 7</caption>\n",
       "<thead>\n",
       "\t<tr><th scope=col>Paciente</th><th scope=col>Idade da gestante</th><th scope=col>Idade gestacional em semanas</th><th scope=col>dias entre infeccao e parto</th><th scope=col>Condicoes medicas</th><th scope=col>Valor</th><th scope=col>Idade_dobrada</th></tr>\n",
       "\t<tr><th scope=col>&lt;chr&gt;</th><th scope=col>&lt;dbl&gt;</th><th scope=col>&lt;dbl&gt;</th><th scope=col>&lt;dbl&gt;</th><th scope=col>&lt;chr&gt;</th><th scope=col>&lt;dbl&gt;</th><th scope=col>&lt;dbl&gt;</th></tr>\n",
       "</thead>\n",
       "<tbody>\n",
       "\t<tr><td>A</td><td>45</td><td>26</td><td> 3</td><td>Pre eclampsia e diabetes mellitus gestacional                                                                                            </td><td>2</td><td>90</td></tr>\n",
       "\t<tr><td>B</td><td>38</td><td>28</td><td> 3</td><td>Hipotireoidismo pre gestacional                                                                                                          </td><td>2</td><td>76</td></tr>\n",
       "\t<tr><td>C</td><td>29</td><td>34</td><td> 0</td><td>Diabetes mellitus gestacional, obesidade, hipotireoidismo, ex usuaria de substancia psicoativa e historico de sifilis devidamente tratada</td><td>2</td><td>58</td></tr>\n",
       "\t<tr><td>D</td><td>37</td><td>34</td><td> 0</td><td>Transtorno de ansiedade generalizada                                                                                                     </td><td>2</td><td>74</td></tr>\n",
       "\t<tr><td>E</td><td>23</td><td>36</td><td> 0</td><td>Nao informado                                                                                                                            </td><td>2</td><td>46</td></tr>\n",
       "\t<tr><td>F</td><td>28</td><td>25</td><td>76</td><td>Diabetes mellitus tipo 2                                                                                                                 </td><td>2</td><td>56</td></tr>\n",
       "</tbody>\n",
       "</table>\n"
      ],
      "text/latex": [
       "A tibble: 6 × 7\n",
       "\\begin{tabular}{lllllll}\n",
       " Paciente & Idade da gestante & Idade gestacional em semanas & dias entre infeccao e parto & Condicoes medicas & Valor & Idade\\_dobrada\\\\\n",
       " <chr> & <dbl> & <dbl> & <dbl> & <chr> & <dbl> & <dbl>\\\\\n",
       "\\hline\n",
       "\t A & 45 & 26 &  3 & Pre eclampsia e diabetes mellitus gestacional                                                                                             & 2 & 90\\\\\n",
       "\t B & 38 & 28 &  3 & Hipotireoidismo pre gestacional                                                                                                           & 2 & 76\\\\\n",
       "\t C & 29 & 34 &  0 & Diabetes mellitus gestacional, obesidade, hipotireoidismo, ex usuaria de substancia psicoativa e historico de sifilis devidamente tratada & 2 & 58\\\\\n",
       "\t D & 37 & 34 &  0 & Transtorno de ansiedade generalizada                                                                                                      & 2 & 74\\\\\n",
       "\t E & 23 & 36 &  0 & Nao informado                                                                                                                             & 2 & 46\\\\\n",
       "\t F & 28 & 25 & 76 & Diabetes mellitus tipo 2                                                                                                                  & 2 & 56\\\\\n",
       "\\end{tabular}\n"
      ],
      "text/markdown": [
       "\n",
       "A tibble: 6 × 7\n",
       "\n",
       "| Paciente &lt;chr&gt; | Idade da gestante &lt;dbl&gt; | Idade gestacional em semanas &lt;dbl&gt; | dias entre infeccao e parto &lt;dbl&gt; | Condicoes medicas &lt;chr&gt; | Valor &lt;dbl&gt; | Idade_dobrada &lt;dbl&gt; |\n",
       "|---|---|---|---|---|---|---|\n",
       "| A | 45 | 26 |  3 | Pre eclampsia e diabetes mellitus gestacional                                                                                             | 2 | 90 |\n",
       "| B | 38 | 28 |  3 | Hipotireoidismo pre gestacional                                                                                                           | 2 | 76 |\n",
       "| C | 29 | 34 |  0 | Diabetes mellitus gestacional, obesidade, hipotireoidismo, ex usuaria de substancia psicoativa e historico de sifilis devidamente tratada | 2 | 58 |\n",
       "| D | 37 | 34 |  0 | Transtorno de ansiedade generalizada                                                                                                      | 2 | 74 |\n",
       "| E | 23 | 36 |  0 | Nao informado                                                                                                                             | 2 | 46 |\n",
       "| F | 28 | 25 | 76 | Diabetes mellitus tipo 2                                                                                                                  | 2 | 56 |\n",
       "\n"
      ],
      "text/plain": [
       "  Paciente Idade da gestante Idade gestacional em semanas\n",
       "1 A        45                26                          \n",
       "2 B        38                28                          \n",
       "3 C        29                34                          \n",
       "4 D        37                34                          \n",
       "5 E        23                36                          \n",
       "6 F        28                25                          \n",
       "  dias entre infeccao e parto\n",
       "1  3                         \n",
       "2  3                         \n",
       "3  0                         \n",
       "4  0                         \n",
       "5  0                         \n",
       "6 76                         \n",
       "  Condicoes medicas                                                                                                                        \n",
       "1 Pre eclampsia e diabetes mellitus gestacional                                                                                            \n",
       "2 Hipotireoidismo pre gestacional                                                                                                          \n",
       "3 Diabetes mellitus gestacional, obesidade, hipotireoidismo, ex usuaria de substancia psicoativa e historico de sifilis devidamente tratada\n",
       "4 Transtorno de ansiedade generalizada                                                                                                     \n",
       "5 Nao informado                                                                                                                            \n",
       "6 Diabetes mellitus tipo 2                                                                                                                 \n",
       "  Valor Idade_dobrada\n",
       "1 2     90           \n",
       "2 2     76           \n",
       "3 2     58           \n",
       "4 2     74           \n",
       "5 2     46           \n",
       "6 2     56           "
      ]
     },
     "metadata": {},
     "output_type": "display_data"
    }
   ],
   "source": [
    "# Usando mutate para criar uma nova coluna chamada \"Idade_dobrada\"\n",
    "DF2 %>%\n",
    "  mutate(Idade_dobrada = `Idade da gestante`* 2) %>%\n",
    "head()"
   ]
  },
  {
   "cell_type": "code",
   "execution_count": 28,
   "id": "e384b00d",
   "metadata": {
    "vscode": {
     "languageId": "r"
    }
   },
   "outputs": [
    {
     "data": {
      "text/html": [
       "<table class=\"dataframe\">\n",
       "<caption>A tibble: 1 × 2</caption>\n",
       "<thead>\n",
       "\t<tr><th scope=col>Media_Dias</th><th scope=col>Mediana_Dias</th></tr>\n",
       "\t<tr><th scope=col>&lt;dbl&gt;</th><th scope=col>&lt;dbl&gt;</th></tr>\n",
       "</thead>\n",
       "<tbody>\n",
       "\t<tr><td>35.82353</td><td>12</td></tr>\n",
       "</tbody>\n",
       "</table>\n"
      ],
      "text/latex": [
       "A tibble: 1 × 2\n",
       "\\begin{tabular}{ll}\n",
       " Media\\_Dias & Mediana\\_Dias\\\\\n",
       " <dbl> & <dbl>\\\\\n",
       "\\hline\n",
       "\t 35.82353 & 12\\\\\n",
       "\\end{tabular}\n"
      ],
      "text/markdown": [
       "\n",
       "A tibble: 1 × 2\n",
       "\n",
       "| Media_Dias &lt;dbl&gt; | Mediana_Dias &lt;dbl&gt; |\n",
       "|---|---|\n",
       "| 35.82353 | 12 |\n",
       "\n"
      ],
      "text/plain": [
       "  Media_Dias Mediana_Dias\n",
       "1 35.82353   12          "
      ]
     },
     "metadata": {},
     "output_type": "display_data"
    }
   ],
   "source": [
    "#Neste exemplo, estamos usando summarize() para calcular  a media e a mediana da coluna dias entre infeccao e parto.\n",
    "resumo_estatistico <- DF2 %>%\n",
    "  summarize(\n",
    "    Media_Dias = mean(`dias entre infeccao e parto`),\n",
    "    Mediana_Dias = median(`dias entre infeccao e parto`))\n",
    "\n",
    "resumo_estatistico"
   ]
  },
  {
   "cell_type": "code",
   "execution_count": 29,
   "id": "90e958b4",
   "metadata": {
    "vscode": {
     "languageId": "r"
    }
   },
   "outputs": [
    {
     "name": "stderr",
     "output_type": "stream",
     "text": [
      "\u001b[1m\u001b[22m`summarise()` has grouped output by 'Idade da gestante'. You can override using the `.groups` argument.\n"
     ]
    },
    {
     "data": {
      "text/html": [
       "<table class=\"dataframe\">\n",
       "<caption>A grouped_df: 16 × 3</caption>\n",
       "<thead>\n",
       "\t<tr><th scope=col>Idade da gestante</th><th scope=col>Idade gestacional em semanas</th><th scope=col>Media_Dias_entre_Infeccao_e_Parto</th></tr>\n",
       "\t<tr><th scope=col>&lt;dbl&gt;</th><th scope=col>&lt;dbl&gt;</th><th scope=col>&lt;dbl&gt;</th></tr>\n",
       "</thead>\n",
       "<tbody>\n",
       "\t<tr><td>22</td><td>34</td><td> 33.0</td></tr>\n",
       "\t<tr><td>22</td><td>35</td><td>  4.0</td></tr>\n",
       "\t<tr><td>23</td><td>36</td><td>  0.0</td></tr>\n",
       "\t<tr><td>26</td><td>21</td><td> 74.0</td></tr>\n",
       "\t<tr><td>26</td><td>32</td><td> 42.0</td></tr>\n",
       "\t<tr><td>27</td><td>37</td><td> 12.0</td></tr>\n",
       "\t<tr><td>28</td><td>25</td><td> 76.0</td></tr>\n",
       "\t<tr><td>29</td><td>34</td><td>  0.0</td></tr>\n",
       "\t<tr><td>30</td><td>30</td><td> 46.0</td></tr>\n",
       "\t<tr><td>32</td><td>38</td><td>  0.0</td></tr>\n",
       "\t<tr><td>34</td><td>34</td><td> 26.0</td></tr>\n",
       "\t<tr><td>37</td><td>34</td><td>  0.0</td></tr>\n",
       "\t<tr><td>38</td><td>28</td><td>  3.0</td></tr>\n",
       "\t<tr><td>39</td><td> 8</td><td>231.0</td></tr>\n",
       "\t<tr><td>45</td><td>26</td><td>  3.0</td></tr>\n",
       "\t<tr><td>NA</td><td>NA</td><td> 29.5</td></tr>\n",
       "</tbody>\n",
       "</table>\n"
      ],
      "text/latex": [
       "A grouped\\_df: 16 × 3\n",
       "\\begin{tabular}{lll}\n",
       " Idade da gestante & Idade gestacional em semanas & Media\\_Dias\\_entre\\_Infeccao\\_e\\_Parto\\\\\n",
       " <dbl> & <dbl> & <dbl>\\\\\n",
       "\\hline\n",
       "\t 22 & 34 &  33.0\\\\\n",
       "\t 22 & 35 &   4.0\\\\\n",
       "\t 23 & 36 &   0.0\\\\\n",
       "\t 26 & 21 &  74.0\\\\\n",
       "\t 26 & 32 &  42.0\\\\\n",
       "\t 27 & 37 &  12.0\\\\\n",
       "\t 28 & 25 &  76.0\\\\\n",
       "\t 29 & 34 &   0.0\\\\\n",
       "\t 30 & 30 &  46.0\\\\\n",
       "\t 32 & 38 &   0.0\\\\\n",
       "\t 34 & 34 &  26.0\\\\\n",
       "\t 37 & 34 &   0.0\\\\\n",
       "\t 38 & 28 &   3.0\\\\\n",
       "\t 39 &  8 & 231.0\\\\\n",
       "\t 45 & 26 &   3.0\\\\\n",
       "\t NA & NA &  29.5\\\\\n",
       "\\end{tabular}\n"
      ],
      "text/markdown": [
       "\n",
       "A grouped_df: 16 × 3\n",
       "\n",
       "| Idade da gestante &lt;dbl&gt; | Idade gestacional em semanas &lt;dbl&gt; | Media_Dias_entre_Infeccao_e_Parto &lt;dbl&gt; |\n",
       "|---|---|---|\n",
       "| 22 | 34 |  33.0 |\n",
       "| 22 | 35 |   4.0 |\n",
       "| 23 | 36 |   0.0 |\n",
       "| 26 | 21 |  74.0 |\n",
       "| 26 | 32 |  42.0 |\n",
       "| 27 | 37 |  12.0 |\n",
       "| 28 | 25 |  76.0 |\n",
       "| 29 | 34 |   0.0 |\n",
       "| 30 | 30 |  46.0 |\n",
       "| 32 | 38 |   0.0 |\n",
       "| 34 | 34 |  26.0 |\n",
       "| 37 | 34 |   0.0 |\n",
       "| 38 | 28 |   3.0 |\n",
       "| 39 |  8 | 231.0 |\n",
       "| 45 | 26 |   3.0 |\n",
       "| NA | NA |  29.5 |\n",
       "\n"
      ],
      "text/plain": [
       "   Idade da gestante Idade gestacional em semanas\n",
       "1  22                34                          \n",
       "2  22                35                          \n",
       "3  23                36                          \n",
       "4  26                21                          \n",
       "5  26                32                          \n",
       "6  27                37                          \n",
       "7  28                25                          \n",
       "8  29                34                          \n",
       "9  30                30                          \n",
       "10 32                38                          \n",
       "11 34                34                          \n",
       "12 37                34                          \n",
       "13 38                28                          \n",
       "14 39                 8                          \n",
       "15 45                26                          \n",
       "16 NA                NA                          \n",
       "   Media_Dias_entre_Infeccao_e_Parto\n",
       "1   33.0                            \n",
       "2    4.0                            \n",
       "3    0.0                            \n",
       "4   74.0                            \n",
       "5   42.0                            \n",
       "6   12.0                            \n",
       "7   76.0                            \n",
       "8    0.0                            \n",
       "9   46.0                            \n",
       "10   0.0                            \n",
       "11  26.0                            \n",
       "12   0.0                            \n",
       "13   3.0                            \n",
       "14 231.0                            \n",
       "15   3.0                            \n",
       "16  29.5                            "
      ]
     },
     "metadata": {},
     "output_type": "display_data"
    }
   ],
   "source": [
    "# Usando a função group_by() para agrupar as observações com base nas colunas \"Idade da gestante\" e \"Idade gestacional\".\n",
    "# usando a função summarize() para calcular a média dos \"dias entre infecção e parto\" para cada combinação de \n",
    "#\"Idade da gestante\" e \"Idade gestacional em semanas\".\n",
    "# O argumento na.rm = TRUE é usado para ignorar valores ausentes (NA) ao calcular a média.\n",
    "\n",
    "resumo_estatistico_1 <- DF2 %>%\n",
    "  group_by(`Idade da gestante`, `Idade gestacional em semanas`) %>%\n",
    "  summarize(\n",
    "    Media_Dias_entre_Infeccao_e_Parto = mean(`dias entre infeccao e parto`, na.rm = TRUE))\n",
    "\n",
    "resumo_estatistico_1"
   ]
  },
  {
   "cell_type": "code",
   "execution_count": 30,
   "id": "d01a136d",
   "metadata": {
    "vscode": {
     "languageId": "r"
    }
   },
   "outputs": [
    {
     "name": "stderr",
     "output_type": "stream",
     "text": [
      "\u001b[1m\u001b[22mJoining with `by = join_by(`Idade da gestante`, `Idade gestacional em semanas`)`\n"
     ]
    },
    {
     "data": {
      "text/html": [
       "<table class=\"dataframe\">\n",
       "<caption>A spec_tbl_df: 17 × 7</caption>\n",
       "<thead>\n",
       "\t<tr><th scope=col>Paciente</th><th scope=col>Idade da gestante</th><th scope=col>Idade gestacional em semanas</th><th scope=col>dias entre infeccao e parto</th><th scope=col>Condicoes medicas</th><th scope=col>Valor</th><th scope=col>Media_Dias_entre_Infeccao_e_Parto</th></tr>\n",
       "\t<tr><th scope=col>&lt;chr&gt;</th><th scope=col>&lt;dbl&gt;</th><th scope=col>&lt;dbl&gt;</th><th scope=col>&lt;dbl&gt;</th><th scope=col>&lt;chr&gt;</th><th scope=col>&lt;dbl&gt;</th><th scope=col>&lt;dbl&gt;</th></tr>\n",
       "</thead>\n",
       "<tbody>\n",
       "\t<tr><td>A</td><td>45</td><td>26</td><td>  3</td><td>Pre eclampsia e diabetes mellitus gestacional                                                                                            </td><td>2</td><td>  3.0</td></tr>\n",
       "\t<tr><td>B</td><td>38</td><td>28</td><td>  3</td><td>Hipotireoidismo pre gestacional                                                                                                          </td><td>2</td><td>  3.0</td></tr>\n",
       "\t<tr><td>C</td><td>29</td><td>34</td><td>  0</td><td>Diabetes mellitus gestacional, obesidade, hipotireoidismo, ex usuaria de substancia psicoativa e historico de sifilis devidamente tratada</td><td>2</td><td>  0.0</td></tr>\n",
       "\t<tr><td>D</td><td>37</td><td>34</td><td>  0</td><td>Transtorno de ansiedade generalizada                                                                                                     </td><td>2</td><td>  0.0</td></tr>\n",
       "\t<tr><td>E</td><td>23</td><td>36</td><td>  0</td><td>Nao informado                                                                                                                            </td><td>2</td><td>  0.0</td></tr>\n",
       "\t<tr><td>F</td><td>28</td><td>25</td><td> 76</td><td>Diabetes mellitus tipo 2                                                                                                                 </td><td>2</td><td> 76.0</td></tr>\n",
       "\t<tr><td>G</td><td>22</td><td>35</td><td>  4</td><td>Diabetes mellitus gestacional, obesidade e hipotireoidismo                                                                               </td><td>2</td><td>  4.0</td></tr>\n",
       "\t<tr><td>H</td><td>26</td><td>32</td><td> 42</td><td>Toxoplasmose aguda e hipotireoidismo                                                                                                     </td><td>2</td><td> 42.0</td></tr>\n",
       "\t<tr><td>I</td><td>22</td><td>34</td><td> 33</td><td>Asma, transtorno de ansiedade generalizada e obesidade                                                                                   </td><td>2</td><td> 33.0</td></tr>\n",
       "\t<tr><td>J</td><td>32</td><td>38</td><td>  0</td><td>Nao informado                                                                                                                            </td><td>2</td><td>  0.0</td></tr>\n",
       "\t<tr><td>K</td><td>30</td><td>30</td><td> 46</td><td>Pre eclampsia e diabetes mellitus gestacional, obesidade e infeccao do trato urinario de repeticao                                       </td><td>2</td><td> 46.0</td></tr>\n",
       "\t<tr><td>L</td><td>27</td><td>37</td><td> 12</td><td>Diabetes mellitus gestacional                                                                                                            </td><td>2</td><td> 12.0</td></tr>\n",
       "\t<tr><td>M</td><td>34</td><td>34</td><td> 26</td><td>Nao informado                                                                                                                            </td><td>2</td><td> 26.0</td></tr>\n",
       "\t<tr><td>N</td><td>39</td><td> 8</td><td>231</td><td>Nao informado                                                                                                                            </td><td>2</td><td>231.0</td></tr>\n",
       "\t<tr><td>O</td><td>26</td><td>21</td><td> 74</td><td>Diabetes mellitus gestacional, obesidade e hipotireoidismo                                                                               </td><td>2</td><td> 74.0</td></tr>\n",
       "\t<tr><td>P</td><td>NA</td><td>NA</td><td> 53</td><td>Nao informado                                                                                                                            </td><td>2</td><td> 29.5</td></tr>\n",
       "\t<tr><td>Q</td><td>NA</td><td>NA</td><td>  6</td><td>Nao informado                                                                                                                            </td><td>2</td><td> 29.5</td></tr>\n",
       "</tbody>\n",
       "</table>\n"
      ],
      "text/latex": [
       "A spec\\_tbl\\_df: 17 × 7\n",
       "\\begin{tabular}{lllllll}\n",
       " Paciente & Idade da gestante & Idade gestacional em semanas & dias entre infeccao e parto & Condicoes medicas & Valor & Media\\_Dias\\_entre\\_Infeccao\\_e\\_Parto\\\\\n",
       " <chr> & <dbl> & <dbl> & <dbl> & <chr> & <dbl> & <dbl>\\\\\n",
       "\\hline\n",
       "\t A & 45 & 26 &   3 & Pre eclampsia e diabetes mellitus gestacional                                                                                             & 2 &   3.0\\\\\n",
       "\t B & 38 & 28 &   3 & Hipotireoidismo pre gestacional                                                                                                           & 2 &   3.0\\\\\n",
       "\t C & 29 & 34 &   0 & Diabetes mellitus gestacional, obesidade, hipotireoidismo, ex usuaria de substancia psicoativa e historico de sifilis devidamente tratada & 2 &   0.0\\\\\n",
       "\t D & 37 & 34 &   0 & Transtorno de ansiedade generalizada                                                                                                      & 2 &   0.0\\\\\n",
       "\t E & 23 & 36 &   0 & Nao informado                                                                                                                             & 2 &   0.0\\\\\n",
       "\t F & 28 & 25 &  76 & Diabetes mellitus tipo 2                                                                                                                  & 2 &  76.0\\\\\n",
       "\t G & 22 & 35 &   4 & Diabetes mellitus gestacional, obesidade e hipotireoidismo                                                                                & 2 &   4.0\\\\\n",
       "\t H & 26 & 32 &  42 & Toxoplasmose aguda e hipotireoidismo                                                                                                      & 2 &  42.0\\\\\n",
       "\t I & 22 & 34 &  33 & Asma, transtorno de ansiedade generalizada e obesidade                                                                                    & 2 &  33.0\\\\\n",
       "\t J & 32 & 38 &   0 & Nao informado                                                                                                                             & 2 &   0.0\\\\\n",
       "\t K & 30 & 30 &  46 & Pre eclampsia e diabetes mellitus gestacional, obesidade e infeccao do trato urinario de repeticao                                        & 2 &  46.0\\\\\n",
       "\t L & 27 & 37 &  12 & Diabetes mellitus gestacional                                                                                                             & 2 &  12.0\\\\\n",
       "\t M & 34 & 34 &  26 & Nao informado                                                                                                                             & 2 &  26.0\\\\\n",
       "\t N & 39 &  8 & 231 & Nao informado                                                                                                                             & 2 & 231.0\\\\\n",
       "\t O & 26 & 21 &  74 & Diabetes mellitus gestacional, obesidade e hipotireoidismo                                                                                & 2 &  74.0\\\\\n",
       "\t P & NA & NA &  53 & Nao informado                                                                                                                             & 2 &  29.5\\\\\n",
       "\t Q & NA & NA &   6 & Nao informado                                                                                                                             & 2 &  29.5\\\\\n",
       "\\end{tabular}\n"
      ],
      "text/markdown": [
       "\n",
       "A spec_tbl_df: 17 × 7\n",
       "\n",
       "| Paciente &lt;chr&gt; | Idade da gestante &lt;dbl&gt; | Idade gestacional em semanas &lt;dbl&gt; | dias entre infeccao e parto &lt;dbl&gt; | Condicoes medicas &lt;chr&gt; | Valor &lt;dbl&gt; | Media_Dias_entre_Infeccao_e_Parto &lt;dbl&gt; |\n",
       "|---|---|---|---|---|---|---|\n",
       "| A | 45 | 26 |   3 | Pre eclampsia e diabetes mellitus gestacional                                                                                             | 2 |   3.0 |\n",
       "| B | 38 | 28 |   3 | Hipotireoidismo pre gestacional                                                                                                           | 2 |   3.0 |\n",
       "| C | 29 | 34 |   0 | Diabetes mellitus gestacional, obesidade, hipotireoidismo, ex usuaria de substancia psicoativa e historico de sifilis devidamente tratada | 2 |   0.0 |\n",
       "| D | 37 | 34 |   0 | Transtorno de ansiedade generalizada                                                                                                      | 2 |   0.0 |\n",
       "| E | 23 | 36 |   0 | Nao informado                                                                                                                             | 2 |   0.0 |\n",
       "| F | 28 | 25 |  76 | Diabetes mellitus tipo 2                                                                                                                  | 2 |  76.0 |\n",
       "| G | 22 | 35 |   4 | Diabetes mellitus gestacional, obesidade e hipotireoidismo                                                                                | 2 |   4.0 |\n",
       "| H | 26 | 32 |  42 | Toxoplasmose aguda e hipotireoidismo                                                                                                      | 2 |  42.0 |\n",
       "| I | 22 | 34 |  33 | Asma, transtorno de ansiedade generalizada e obesidade                                                                                    | 2 |  33.0 |\n",
       "| J | 32 | 38 |   0 | Nao informado                                                                                                                             | 2 |   0.0 |\n",
       "| K | 30 | 30 |  46 | Pre eclampsia e diabetes mellitus gestacional, obesidade e infeccao do trato urinario de repeticao                                        | 2 |  46.0 |\n",
       "| L | 27 | 37 |  12 | Diabetes mellitus gestacional                                                                                                             | 2 |  12.0 |\n",
       "| M | 34 | 34 |  26 | Nao informado                                                                                                                             | 2 |  26.0 |\n",
       "| N | 39 |  8 | 231 | Nao informado                                                                                                                             | 2 | 231.0 |\n",
       "| O | 26 | 21 |  74 | Diabetes mellitus gestacional, obesidade e hipotireoidismo                                                                                | 2 |  74.0 |\n",
       "| P | NA | NA |  53 | Nao informado                                                                                                                             | 2 |  29.5 |\n",
       "| Q | NA | NA |   6 | Nao informado                                                                                                                             | 2 |  29.5 |\n",
       "\n"
      ],
      "text/plain": [
       "   Paciente Idade da gestante Idade gestacional em semanas\n",
       "1  A        45                26                          \n",
       "2  B        38                28                          \n",
       "3  C        29                34                          \n",
       "4  D        37                34                          \n",
       "5  E        23                36                          \n",
       "6  F        28                25                          \n",
       "7  G        22                35                          \n",
       "8  H        26                32                          \n",
       "9  I        22                34                          \n",
       "10 J        32                38                          \n",
       "11 K        30                30                          \n",
       "12 L        27                37                          \n",
       "13 M        34                34                          \n",
       "14 N        39                 8                          \n",
       "15 O        26                21                          \n",
       "16 P        NA                NA                          \n",
       "17 Q        NA                NA                          \n",
       "   dias entre infeccao e parto\n",
       "1    3                        \n",
       "2    3                        \n",
       "3    0                        \n",
       "4    0                        \n",
       "5    0                        \n",
       "6   76                        \n",
       "7    4                        \n",
       "8   42                        \n",
       "9   33                        \n",
       "10   0                        \n",
       "11  46                        \n",
       "12  12                        \n",
       "13  26                        \n",
       "14 231                        \n",
       "15  74                        \n",
       "16  53                        \n",
       "17   6                        \n",
       "   Condicoes medicas                                                                                                                        \n",
       "1  Pre eclampsia e diabetes mellitus gestacional                                                                                            \n",
       "2  Hipotireoidismo pre gestacional                                                                                                          \n",
       "3  Diabetes mellitus gestacional, obesidade, hipotireoidismo, ex usuaria de substancia psicoativa e historico de sifilis devidamente tratada\n",
       "4  Transtorno de ansiedade generalizada                                                                                                     \n",
       "5  Nao informado                                                                                                                            \n",
       "6  Diabetes mellitus tipo 2                                                                                                                 \n",
       "7  Diabetes mellitus gestacional, obesidade e hipotireoidismo                                                                               \n",
       "8  Toxoplasmose aguda e hipotireoidismo                                                                                                     \n",
       "9  Asma, transtorno de ansiedade generalizada e obesidade                                                                                   \n",
       "10 Nao informado                                                                                                                            \n",
       "11 Pre eclampsia e diabetes mellitus gestacional, obesidade e infeccao do trato urinario de repeticao                                       \n",
       "12 Diabetes mellitus gestacional                                                                                                            \n",
       "13 Nao informado                                                                                                                            \n",
       "14 Nao informado                                                                                                                            \n",
       "15 Diabetes mellitus gestacional, obesidade e hipotireoidismo                                                                               \n",
       "16 Nao informado                                                                                                                            \n",
       "17 Nao informado                                                                                                                            \n",
       "   Valor Media_Dias_entre_Infeccao_e_Parto\n",
       "1  2       3.0                            \n",
       "2  2       3.0                            \n",
       "3  2       0.0                            \n",
       "4  2       0.0                            \n",
       "5  2       0.0                            \n",
       "6  2      76.0                            \n",
       "7  2       4.0                            \n",
       "8  2      42.0                            \n",
       "9  2      33.0                            \n",
       "10 2       0.0                            \n",
       "11 2      46.0                            \n",
       "12 2      12.0                            \n",
       "13 2      26.0                            \n",
       "14 2     231.0                            \n",
       "15 2      74.0                            \n",
       "16 2      29.5                            \n",
       "17 2      29.5                            "
      ]
     },
     "metadata": {},
     "output_type": "display_data"
    }
   ],
   "source": [
    "# Neste exemplo, estamos usando inner_join() para realizar um \"inner join\" entre DF2 e resumo_estatistico_1,\n",
    "resultado <- inner_join(DF2, resumo_estatistico_1)\n",
    "resultado"
   ]
  },
  {
   "cell_type": "markdown",
   "id": "248cf610",
   "metadata": {},
   "source": [
    "### O pacote \"tidyr\" é um pacote muito útil, ele concentra em transformar e organizar os dados.\n",
    "#### Funções do pacote tidyr:\n",
    "\n",
    "**A função gather()** (ou pivot_longer()) é usada para transformar dados de formato amplo para longo, onde as colunas se tornam variáveis e as células são preenchidas com valores correspondentes. Em outras palavras, ela ajuda a mover as informações das colunas para linhas.\n",
    "\n",
    "**spread() (ou pivot_wider()):** Usada para transformar dados de formato longo para amplo, onde as variáveis se tornam colunas e os valores correspondentes preenchem as células.\n",
    "\n",
    "**separate() e unite():** Usadas para separar e unir strings em colunas para criar ou dividir informações.\n",
    "\n",
    "**complete():** Usada para preencher valores ausentes em uma tabela de acordo com valores específicos."
   ]
  },
  {
   "cell_type": "code",
   "execution_count": 31,
   "id": "4683795c",
   "metadata": {
    "vscode": {
     "languageId": "r"
    }
   },
   "outputs": [
    {
     "name": "stderr",
     "output_type": "stream",
     "text": [
      "Warning message:\n",
      "\"package 'tidyr' was built under R version 4.2.3\"\n"
     ]
    }
   ],
   "source": [
    "library(tidyr)"
   ]
  },
  {
   "cell_type": "code",
   "execution_count": 32,
   "id": "b21303b8",
   "metadata": {
    "vscode": {
     "languageId": "r"
    }
   },
   "outputs": [
    {
     "data": {
      "text/html": [
       "<table class=\"dataframe\">\n",
       "<caption>A data.frame: 2 × 4</caption>\n",
       "<thead>\n",
       "\t<tr><th scope=col>Nome</th><th scope=col>Nota1</th><th scope=col>Nota2</th><th scope=col>Nota3</th></tr>\n",
       "\t<tr><th scope=col>&lt;chr&gt;</th><th scope=col>&lt;dbl&gt;</th><th scope=col>&lt;dbl&gt;</th><th scope=col>&lt;dbl&gt;</th></tr>\n",
       "</thead>\n",
       "<tbody>\n",
       "\t<tr><td>Alice</td><td>95</td><td>88</td><td>75</td></tr>\n",
       "\t<tr><td>Bob  </td><td>70</td><td>82</td><td>91</td></tr>\n",
       "</tbody>\n",
       "</table>\n"
      ],
      "text/latex": [
       "A data.frame: 2 × 4\n",
       "\\begin{tabular}{llll}\n",
       " Nome & Nota1 & Nota2 & Nota3\\\\\n",
       " <chr> & <dbl> & <dbl> & <dbl>\\\\\n",
       "\\hline\n",
       "\t Alice & 95 & 88 & 75\\\\\n",
       "\t Bob   & 70 & 82 & 91\\\\\n",
       "\\end{tabular}\n"
      ],
      "text/markdown": [
       "\n",
       "A data.frame: 2 × 4\n",
       "\n",
       "| Nome &lt;chr&gt; | Nota1 &lt;dbl&gt; | Nota2 &lt;dbl&gt; | Nota3 &lt;dbl&gt; |\n",
       "|---|---|---|---|\n",
       "| Alice | 95 | 88 | 75 |\n",
       "| Bob   | 70 | 82 | 91 |\n",
       "\n"
      ],
      "text/plain": [
       "  Nome  Nota1 Nota2 Nota3\n",
       "1 Alice 95    88    75   \n",
       "2 Bob   70    82    91   "
      ]
     },
     "metadata": {},
     "output_type": "display_data"
    }
   ],
   "source": [
    "#Criando um DF para realizar as transformações\n",
    "\n",
    "dados1 <- data.frame(\n",
    "  Nome = c(\"Alice\", \"Bob\"),\n",
    "  Nota1 = c(95, 70),\n",
    "  Nota2 = c(88, 82),\n",
    "  Nota3 = c(75, 91)\n",
    ")\n",
    "dados1"
   ]
  },
  {
   "cell_type": "code",
   "execution_count": 33,
   "id": "9cc4821e",
   "metadata": {
    "vscode": {
     "languageId": "r"
    }
   },
   "outputs": [
    {
     "data": {
      "text/html": [
       "<table class=\"dataframe\">\n",
       "<caption>A data.frame: 6 × 3</caption>\n",
       "<thead>\n",
       "\t<tr><th scope=col>Nome</th><th scope=col>Prova</th><th scope=col>Nota</th></tr>\n",
       "\t<tr><th scope=col>&lt;chr&gt;</th><th scope=col>&lt;chr&gt;</th><th scope=col>&lt;dbl&gt;</th></tr>\n",
       "</thead>\n",
       "<tbody>\n",
       "\t<tr><td>Alice</td><td>Nota1</td><td>95</td></tr>\n",
       "\t<tr><td>Bob  </td><td>Nota1</td><td>70</td></tr>\n",
       "\t<tr><td>Alice</td><td>Nota2</td><td>88</td></tr>\n",
       "\t<tr><td>Bob  </td><td>Nota2</td><td>82</td></tr>\n",
       "\t<tr><td>Alice</td><td>Nota3</td><td>75</td></tr>\n",
       "\t<tr><td>Bob  </td><td>Nota3</td><td>91</td></tr>\n",
       "</tbody>\n",
       "</table>\n"
      ],
      "text/latex": [
       "A data.frame: 6 × 3\n",
       "\\begin{tabular}{lll}\n",
       " Nome & Prova & Nota\\\\\n",
       " <chr> & <chr> & <dbl>\\\\\n",
       "\\hline\n",
       "\t Alice & Nota1 & 95\\\\\n",
       "\t Bob   & Nota1 & 70\\\\\n",
       "\t Alice & Nota2 & 88\\\\\n",
       "\t Bob   & Nota2 & 82\\\\\n",
       "\t Alice & Nota3 & 75\\\\\n",
       "\t Bob   & Nota3 & 91\\\\\n",
       "\\end{tabular}\n"
      ],
      "text/markdown": [
       "\n",
       "A data.frame: 6 × 3\n",
       "\n",
       "| Nome &lt;chr&gt; | Prova &lt;chr&gt; | Nota &lt;dbl&gt; |\n",
       "|---|---|---|\n",
       "| Alice | Nota1 | 95 |\n",
       "| Bob   | Nota1 | 70 |\n",
       "| Alice | Nota2 | 88 |\n",
       "| Bob   | Nota2 | 82 |\n",
       "| Alice | Nota3 | 75 |\n",
       "| Bob   | Nota3 | 91 |\n",
       "\n"
      ],
      "text/plain": [
       "  Nome  Prova Nota\n",
       "1 Alice Nota1 95  \n",
       "2 Bob   Nota1 70  \n",
       "3 Alice Nota2 88  \n",
       "4 Bob   Nota2 82  \n",
       "5 Alice Nota3 75  \n",
       "6 Bob   Nota3 91  "
      ]
     },
     "metadata": {},
     "output_type": "display_data"
    }
   ],
   "source": [
    "# Aplicando gather() para transformar em formato longo\n",
    "dados_long <- gather(dados1, key = \"Prova\", value = \"Nota\", Nota1:Nota3)\n",
    "dados_long\n",
    "\n",
    "#key = \"Prova\" indica que a nova coluna que conterá os 'nomes das colunas originais' será chamada \"Prova\".\n",
    "#value = \"Nota\" indica que a nova coluna que 'conterá os valores das colunas' originais será chamada \"Nota\".\n",
    "#Nota1:Nota3 são as colunas que você deseja que sejam transformadas em formato longo. "
   ]
  },
  {
   "cell_type": "code",
   "execution_count": 34,
   "id": "17ebaf42",
   "metadata": {
    "vscode": {
     "languageId": "r"
    }
   },
   "outputs": [
    {
     "data": {
      "text/html": [
       "<table class=\"dataframe\">\n",
       "<caption>A data.frame: 3 × 3</caption>\n",
       "<thead>\n",
       "\t<tr><th scope=col>Nome</th><th scope=col>Regiao_A</th><th scope=col>Regiao_B</th></tr>\n",
       "\t<tr><th scope=col>&lt;chr&gt;</th><th scope=col>&lt;dbl&gt;</th><th scope=col>&lt;dbl&gt;</th></tr>\n",
       "</thead>\n",
       "<tbody>\n",
       "\t<tr><td>Geografia </td><td>97</td><td>86</td></tr>\n",
       "\t<tr><td>Literatura</td><td>80</td><td>90</td></tr>\n",
       "\t<tr><td>Biologia  </td><td>84</td><td>91</td></tr>\n",
       "</tbody>\n",
       "</table>\n"
      ],
      "text/latex": [
       "A data.frame: 3 × 3\n",
       "\\begin{tabular}{lll}\n",
       " Nome & Regiao\\_A & Regiao\\_B\\\\\n",
       " <chr> & <dbl> & <dbl>\\\\\n",
       "\\hline\n",
       "\t Geografia  & 97 & 86\\\\\n",
       "\t Literatura & 80 & 90\\\\\n",
       "\t Biologia   & 84 & 91\\\\\n",
       "\\end{tabular}\n"
      ],
      "text/markdown": [
       "\n",
       "A data.frame: 3 × 3\n",
       "\n",
       "| Nome &lt;chr&gt; | Regiao_A &lt;dbl&gt; | Regiao_B &lt;dbl&gt; |\n",
       "|---|---|---|\n",
       "| Geografia  | 97 | 86 |\n",
       "| Literatura | 80 | 90 |\n",
       "| Biologia   | 84 | 91 |\n",
       "\n"
      ],
      "text/plain": [
       "  Nome       Regiao_A Regiao_B\n",
       "1 Geografia  97       86      \n",
       "2 Literatura 80       90      \n",
       "3 Biologia   84       91      "
      ]
     },
     "metadata": {},
     "output_type": "display_data"
    }
   ],
   "source": [
    "# Dados de notas em disciplinas\n",
    "dados2 <- data.frame(\n",
    "  Nome = c(\"Geografia\", \"Literatura\", \"Biologia\"),\n",
    "  Regiao_A = c(97, 80, 84),\n",
    "  Regiao_B = c(86, 90, 91)\n",
    ")\n",
    "dados2"
   ]
  },
  {
   "cell_type": "code",
   "execution_count": 35,
   "id": "8162ccca",
   "metadata": {
    "vscode": {
     "languageId": "r"
    }
   },
   "outputs": [
    {
     "data": {
      "text/html": [
       "<table class=\"dataframe\">\n",
       "<caption>A data.frame: 6 × 3</caption>\n",
       "<thead>\n",
       "\t<tr><th scope=col>Nome</th><th scope=col>Regiao</th><th scope=col>NotaFinal</th></tr>\n",
       "\t<tr><th scope=col>&lt;chr&gt;</th><th scope=col>&lt;chr&gt;</th><th scope=col>&lt;dbl&gt;</th></tr>\n",
       "</thead>\n",
       "<tbody>\n",
       "\t<tr><td>Geografia </td><td>Regiao_A</td><td>97</td></tr>\n",
       "\t<tr><td>Literatura</td><td>Regiao_A</td><td>80</td></tr>\n",
       "\t<tr><td>Biologia  </td><td>Regiao_A</td><td>84</td></tr>\n",
       "\t<tr><td>Geografia </td><td>Regiao_B</td><td>86</td></tr>\n",
       "\t<tr><td>Literatura</td><td>Regiao_B</td><td>90</td></tr>\n",
       "\t<tr><td>Biologia  </td><td>Regiao_B</td><td>91</td></tr>\n",
       "</tbody>\n",
       "</table>\n"
      ],
      "text/latex": [
       "A data.frame: 6 × 3\n",
       "\\begin{tabular}{lll}\n",
       " Nome & Regiao & NotaFinal\\\\\n",
       " <chr> & <chr> & <dbl>\\\\\n",
       "\\hline\n",
       "\t Geografia  & Regiao\\_A & 97\\\\\n",
       "\t Literatura & Regiao\\_A & 80\\\\\n",
       "\t Biologia   & Regiao\\_A & 84\\\\\n",
       "\t Geografia  & Regiao\\_B & 86\\\\\n",
       "\t Literatura & Regiao\\_B & 90\\\\\n",
       "\t Biologia   & Regiao\\_B & 91\\\\\n",
       "\\end{tabular}\n"
      ],
      "text/markdown": [
       "\n",
       "A data.frame: 6 × 3\n",
       "\n",
       "| Nome &lt;chr&gt; | Regiao &lt;chr&gt; | NotaFinal &lt;dbl&gt; |\n",
       "|---|---|---|\n",
       "| Geografia  | Regiao_A | 97 |\n",
       "| Literatura | Regiao_A | 80 |\n",
       "| Biologia   | Regiao_A | 84 |\n",
       "| Geografia  | Regiao_B | 86 |\n",
       "| Literatura | Regiao_B | 90 |\n",
       "| Biologia   | Regiao_B | 91 |\n",
       "\n"
      ],
      "text/plain": [
       "  Nome       Regiao   NotaFinal\n",
       "1 Geografia  Regiao_A 97       \n",
       "2 Literatura Regiao_A 80       \n",
       "3 Biologia   Regiao_A 84       \n",
       "4 Geografia  Regiao_B 86       \n",
       "5 Literatura Regiao_B 90       \n",
       "6 Biologia   Regiao_B 91       "
      ]
     },
     "metadata": {},
     "output_type": "display_data"
    }
   ],
   "source": [
    "dados_long_2 <- dados2 %>%\n",
    "  gather(Regiao, NotaFinal, Regiao_A:Regiao_B)\n",
    "#Região contém os nomes das colunas originais\n",
    "#Nota_final contém os valores das colunas originais \n",
    "dados_long_2"
   ]
  },
  {
   "cell_type": "code",
   "execution_count": 36,
   "id": "80724546",
   "metadata": {
    "vscode": {
     "languageId": "r"
    }
   },
   "outputs": [
    {
     "data": {
      "text/html": [
       "<table class=\"dataframe\">\n",
       "<caption>A data.frame: 6 × 3</caption>\n",
       "<thead>\n",
       "\t<tr><th scope=col>Nome</th><th scope=col>Prova</th><th scope=col>Nota</th></tr>\n",
       "\t<tr><th scope=col>&lt;chr&gt;</th><th scope=col>&lt;chr&gt;</th><th scope=col>&lt;dbl&gt;</th></tr>\n",
       "</thead>\n",
       "<tbody>\n",
       "\t<tr><td>Alice</td><td>Nota1</td><td>95</td></tr>\n",
       "\t<tr><td>Bob  </td><td>Nota1</td><td>70</td></tr>\n",
       "\t<tr><td>Alice</td><td>Nota2</td><td>88</td></tr>\n",
       "\t<tr><td>Bob  </td><td>Nota2</td><td>82</td></tr>\n",
       "\t<tr><td>Alice</td><td>Nota3</td><td>75</td></tr>\n",
       "\t<tr><td>Bob  </td><td>Nota3</td><td>91</td></tr>\n",
       "</tbody>\n",
       "</table>\n"
      ],
      "text/latex": [
       "A data.frame: 6 × 3\n",
       "\\begin{tabular}{lll}\n",
       " Nome & Prova & Nota\\\\\n",
       " <chr> & <chr> & <dbl>\\\\\n",
       "\\hline\n",
       "\t Alice & Nota1 & 95\\\\\n",
       "\t Bob   & Nota1 & 70\\\\\n",
       "\t Alice & Nota2 & 88\\\\\n",
       "\t Bob   & Nota2 & 82\\\\\n",
       "\t Alice & Nota3 & 75\\\\\n",
       "\t Bob   & Nota3 & 91\\\\\n",
       "\\end{tabular}\n"
      ],
      "text/markdown": [
       "\n",
       "A data.frame: 6 × 3\n",
       "\n",
       "| Nome &lt;chr&gt; | Prova &lt;chr&gt; | Nota &lt;dbl&gt; |\n",
       "|---|---|---|\n",
       "| Alice | Nota1 | 95 |\n",
       "| Bob   | Nota1 | 70 |\n",
       "| Alice | Nota2 | 88 |\n",
       "| Bob   | Nota2 | 82 |\n",
       "| Alice | Nota3 | 75 |\n",
       "| Bob   | Nota3 | 91 |\n",
       "\n"
      ],
      "text/plain": [
       "  Nome  Prova Nota\n",
       "1 Alice Nota1 95  \n",
       "2 Bob   Nota1 70  \n",
       "3 Alice Nota2 88  \n",
       "4 Bob   Nota2 82  \n",
       "5 Alice Nota3 75  \n",
       "6 Bob   Nota3 91  "
      ]
     },
     "metadata": {},
     "output_type": "display_data"
    }
   ],
   "source": [
    "#Aplicando spread para transformar dados de formato longo para formato amplo.\n",
    "dados_long"
   ]
  },
  {
   "cell_type": "code",
   "execution_count": 37,
   "id": "32a75e58",
   "metadata": {
    "vscode": {
     "languageId": "r"
    }
   },
   "outputs": [
    {
     "data": {
      "text/html": [
       "<table class=\"dataframe\">\n",
       "<caption>A data.frame: 2 × 4</caption>\n",
       "<thead>\n",
       "\t<tr><th scope=col>Nome</th><th scope=col>Nota1</th><th scope=col>Nota2</th><th scope=col>Nota3</th></tr>\n",
       "\t<tr><th scope=col>&lt;chr&gt;</th><th scope=col>&lt;dbl&gt;</th><th scope=col>&lt;dbl&gt;</th><th scope=col>&lt;dbl&gt;</th></tr>\n",
       "</thead>\n",
       "<tbody>\n",
       "\t<tr><td>Alice</td><td>95</td><td>88</td><td>75</td></tr>\n",
       "\t<tr><td>Bob  </td><td>70</td><td>82</td><td>91</td></tr>\n",
       "</tbody>\n",
       "</table>\n"
      ],
      "text/latex": [
       "A data.frame: 2 × 4\n",
       "\\begin{tabular}{llll}\n",
       " Nome & Nota1 & Nota2 & Nota3\\\\\n",
       " <chr> & <dbl> & <dbl> & <dbl>\\\\\n",
       "\\hline\n",
       "\t Alice & 95 & 88 & 75\\\\\n",
       "\t Bob   & 70 & 82 & 91\\\\\n",
       "\\end{tabular}\n"
      ],
      "text/markdown": [
       "\n",
       "A data.frame: 2 × 4\n",
       "\n",
       "| Nome &lt;chr&gt; | Nota1 &lt;dbl&gt; | Nota2 &lt;dbl&gt; | Nota3 &lt;dbl&gt; |\n",
       "|---|---|---|---|\n",
       "| Alice | 95 | 88 | 75 |\n",
       "| Bob   | 70 | 82 | 91 |\n",
       "\n"
      ],
      "text/plain": [
       "  Nome  Nota1 Nota2 Nota3\n",
       "1 Alice 95    88    75   \n",
       "2 Bob   70    82    91   "
      ]
     },
     "metadata": {},
     "output_type": "display_data"
    }
   ],
   "source": [
    "dados_ampl <- spread(dados_long, key = Prova, value = Nota)\n",
    "dados_ampl\n",
    "#key = Prova: define a coluna \"Prova\" como a coluna que contém os nomes das colunas originais que você deseja espalhar.\n",
    "#value = Nota: define a coluna \"Nota\" como a coluna que contém os valores que serão espalhados nas novas colunas"
   ]
  },
  {
   "cell_type": "code",
   "execution_count": 38,
   "id": "2f49d618",
   "metadata": {
    "vscode": {
     "languageId": "r"
    }
   },
   "outputs": [
    {
     "data": {
      "text/html": [
       "<table class=\"dataframe\">\n",
       "<caption>A data.frame: 6 × 3</caption>\n",
       "<thead>\n",
       "\t<tr><th scope=col>Nome</th><th scope=col>Regiao</th><th scope=col>NotaFinal</th></tr>\n",
       "\t<tr><th scope=col>&lt;chr&gt;</th><th scope=col>&lt;chr&gt;</th><th scope=col>&lt;dbl&gt;</th></tr>\n",
       "</thead>\n",
       "<tbody>\n",
       "\t<tr><td>Geografia </td><td>Regiao_A</td><td>97</td></tr>\n",
       "\t<tr><td>Literatura</td><td>Regiao_A</td><td>80</td></tr>\n",
       "\t<tr><td>Biologia  </td><td>Regiao_A</td><td>84</td></tr>\n",
       "\t<tr><td>Geografia </td><td>Regiao_B</td><td>86</td></tr>\n",
       "\t<tr><td>Literatura</td><td>Regiao_B</td><td>90</td></tr>\n",
       "\t<tr><td>Biologia  </td><td>Regiao_B</td><td>91</td></tr>\n",
       "</tbody>\n",
       "</table>\n"
      ],
      "text/latex": [
       "A data.frame: 6 × 3\n",
       "\\begin{tabular}{lll}\n",
       " Nome & Regiao & NotaFinal\\\\\n",
       " <chr> & <chr> & <dbl>\\\\\n",
       "\\hline\n",
       "\t Geografia  & Regiao\\_A & 97\\\\\n",
       "\t Literatura & Regiao\\_A & 80\\\\\n",
       "\t Biologia   & Regiao\\_A & 84\\\\\n",
       "\t Geografia  & Regiao\\_B & 86\\\\\n",
       "\t Literatura & Regiao\\_B & 90\\\\\n",
       "\t Biologia   & Regiao\\_B & 91\\\\\n",
       "\\end{tabular}\n"
      ],
      "text/markdown": [
       "\n",
       "A data.frame: 6 × 3\n",
       "\n",
       "| Nome &lt;chr&gt; | Regiao &lt;chr&gt; | NotaFinal &lt;dbl&gt; |\n",
       "|---|---|---|\n",
       "| Geografia  | Regiao_A | 97 |\n",
       "| Literatura | Regiao_A | 80 |\n",
       "| Biologia   | Regiao_A | 84 |\n",
       "| Geografia  | Regiao_B | 86 |\n",
       "| Literatura | Regiao_B | 90 |\n",
       "| Biologia   | Regiao_B | 91 |\n",
       "\n"
      ],
      "text/plain": [
       "  Nome       Regiao   NotaFinal\n",
       "1 Geografia  Regiao_A 97       \n",
       "2 Literatura Regiao_A 80       \n",
       "3 Biologia   Regiao_A 84       \n",
       "4 Geografia  Regiao_B 86       \n",
       "5 Literatura Regiao_B 90       \n",
       "6 Biologia   Regiao_B 91       "
      ]
     },
     "metadata": {},
     "output_type": "display_data"
    }
   ],
   "source": [
    "dados_long_2"
   ]
  },
  {
   "cell_type": "code",
   "execution_count": 39,
   "id": "fd3e77cb",
   "metadata": {
    "vscode": {
     "languageId": "r"
    }
   },
   "outputs": [
    {
     "data": {
      "text/html": [
       "<table class=\"dataframe\">\n",
       "<caption>A data.frame: 3 × 3</caption>\n",
       "<thead>\n",
       "\t<tr><th scope=col>Nome</th><th scope=col>Regiao_A</th><th scope=col>Regiao_B</th></tr>\n",
       "\t<tr><th scope=col>&lt;chr&gt;</th><th scope=col>&lt;dbl&gt;</th><th scope=col>&lt;dbl&gt;</th></tr>\n",
       "</thead>\n",
       "<tbody>\n",
       "\t<tr><td>Biologia  </td><td>84</td><td>91</td></tr>\n",
       "\t<tr><td>Geografia </td><td>97</td><td>86</td></tr>\n",
       "\t<tr><td>Literatura</td><td>80</td><td>90</td></tr>\n",
       "</tbody>\n",
       "</table>\n"
      ],
      "text/latex": [
       "A data.frame: 3 × 3\n",
       "\\begin{tabular}{lll}\n",
       " Nome & Regiao\\_A & Regiao\\_B\\\\\n",
       " <chr> & <dbl> & <dbl>\\\\\n",
       "\\hline\n",
       "\t Biologia   & 84 & 91\\\\\n",
       "\t Geografia  & 97 & 86\\\\\n",
       "\t Literatura & 80 & 90\\\\\n",
       "\\end{tabular}\n"
      ],
      "text/markdown": [
       "\n",
       "A data.frame: 3 × 3\n",
       "\n",
       "| Nome &lt;chr&gt; | Regiao_A &lt;dbl&gt; | Regiao_B &lt;dbl&gt; |\n",
       "|---|---|---|\n",
       "| Biologia   | 84 | 91 |\n",
       "| Geografia  | 97 | 86 |\n",
       "| Literatura | 80 | 90 |\n",
       "\n"
      ],
      "text/plain": [
       "  Nome       Regiao_A Regiao_B\n",
       "1 Biologia   84       91      \n",
       "2 Geografia  97       86      \n",
       "3 Literatura 80       90      "
      ]
     },
     "metadata": {},
     "output_type": "display_data"
    }
   ],
   "source": [
    "dados_long_2 %>%\n",
    "spread(Regiao, NotaFinal)"
   ]
  },
  {
   "cell_type": "code",
   "execution_count": 40,
   "id": "1953ddea",
   "metadata": {
    "vscode": {
     "languageId": "r"
    }
   },
   "outputs": [
    {
     "data": {
      "text/html": [
       "<table class=\"dataframe\">\n",
       "<caption>A tibble: 6 × 6</caption>\n",
       "<thead>\n",
       "\t<tr><th scope=col>Paciente</th><th scope=col>Idade da gestante</th><th scope=col>Idade gestacional em semanas</th><th scope=col>dias entre infeccao e parto</th><th scope=col>Condicoes medicas</th><th scope=col>Valor</th></tr>\n",
       "\t<tr><th scope=col>&lt;chr&gt;</th><th scope=col>&lt;dbl&gt;</th><th scope=col>&lt;dbl&gt;</th><th scope=col>&lt;dbl&gt;</th><th scope=col>&lt;chr&gt;</th><th scope=col>&lt;dbl&gt;</th></tr>\n",
       "</thead>\n",
       "<tbody>\n",
       "\t<tr><td>A</td><td>45</td><td>26</td><td> 3</td><td>Pre eclampsia e diabetes mellitus gestacional                                                                                            </td><td>2</td></tr>\n",
       "\t<tr><td>B</td><td>38</td><td>28</td><td> 3</td><td>Hipotireoidismo pre gestacional                                                                                                          </td><td>2</td></tr>\n",
       "\t<tr><td>C</td><td>29</td><td>34</td><td> 0</td><td>Diabetes mellitus gestacional, obesidade, hipotireoidismo, ex usuaria de substancia psicoativa e historico de sifilis devidamente tratada</td><td>2</td></tr>\n",
       "\t<tr><td>D</td><td>37</td><td>34</td><td> 0</td><td>Transtorno de ansiedade generalizada                                                                                                     </td><td>2</td></tr>\n",
       "\t<tr><td>E</td><td>23</td><td>36</td><td> 0</td><td>Nao informado                                                                                                                            </td><td>2</td></tr>\n",
       "\t<tr><td>F</td><td>28</td><td>25</td><td>76</td><td>Diabetes mellitus tipo 2                                                                                                                 </td><td>2</td></tr>\n",
       "</tbody>\n",
       "</table>\n"
      ],
      "text/latex": [
       "A tibble: 6 × 6\n",
       "\\begin{tabular}{llllll}\n",
       " Paciente & Idade da gestante & Idade gestacional em semanas & dias entre infeccao e parto & Condicoes medicas & Valor\\\\\n",
       " <chr> & <dbl> & <dbl> & <dbl> & <chr> & <dbl>\\\\\n",
       "\\hline\n",
       "\t A & 45 & 26 &  3 & Pre eclampsia e diabetes mellitus gestacional                                                                                             & 2\\\\\n",
       "\t B & 38 & 28 &  3 & Hipotireoidismo pre gestacional                                                                                                           & 2\\\\\n",
       "\t C & 29 & 34 &  0 & Diabetes mellitus gestacional, obesidade, hipotireoidismo, ex usuaria de substancia psicoativa e historico de sifilis devidamente tratada & 2\\\\\n",
       "\t D & 37 & 34 &  0 & Transtorno de ansiedade generalizada                                                                                                      & 2\\\\\n",
       "\t E & 23 & 36 &  0 & Nao informado                                                                                                                             & 2\\\\\n",
       "\t F & 28 & 25 & 76 & Diabetes mellitus tipo 2                                                                                                                  & 2\\\\\n",
       "\\end{tabular}\n"
      ],
      "text/markdown": [
       "\n",
       "A tibble: 6 × 6\n",
       "\n",
       "| Paciente &lt;chr&gt; | Idade da gestante &lt;dbl&gt; | Idade gestacional em semanas &lt;dbl&gt; | dias entre infeccao e parto &lt;dbl&gt; | Condicoes medicas &lt;chr&gt; | Valor &lt;dbl&gt; |\n",
       "|---|---|---|---|---|---|\n",
       "| A | 45 | 26 |  3 | Pre eclampsia e diabetes mellitus gestacional                                                                                             | 2 |\n",
       "| B | 38 | 28 |  3 | Hipotireoidismo pre gestacional                                                                                                           | 2 |\n",
       "| C | 29 | 34 |  0 | Diabetes mellitus gestacional, obesidade, hipotireoidismo, ex usuaria de substancia psicoativa e historico de sifilis devidamente tratada | 2 |\n",
       "| D | 37 | 34 |  0 | Transtorno de ansiedade generalizada                                                                                                      | 2 |\n",
       "| E | 23 | 36 |  0 | Nao informado                                                                                                                             | 2 |\n",
       "| F | 28 | 25 | 76 | Diabetes mellitus tipo 2                                                                                                                  | 2 |\n",
       "\n"
      ],
      "text/plain": [
       "  Paciente Idade da gestante Idade gestacional em semanas\n",
       "1 A        45                26                          \n",
       "2 B        38                28                          \n",
       "3 C        29                34                          \n",
       "4 D        37                34                          \n",
       "5 E        23                36                          \n",
       "6 F        28                25                          \n",
       "  dias entre infeccao e parto\n",
       "1  3                         \n",
       "2  3                         \n",
       "3  0                         \n",
       "4  0                         \n",
       "5  0                         \n",
       "6 76                         \n",
       "  Condicoes medicas                                                                                                                        \n",
       "1 Pre eclampsia e diabetes mellitus gestacional                                                                                            \n",
       "2 Hipotireoidismo pre gestacional                                                                                                          \n",
       "3 Diabetes mellitus gestacional, obesidade, hipotireoidismo, ex usuaria de substancia psicoativa e historico de sifilis devidamente tratada\n",
       "4 Transtorno de ansiedade generalizada                                                                                                     \n",
       "5 Nao informado                                                                                                                            \n",
       "6 Diabetes mellitus tipo 2                                                                                                                 \n",
       "  Valor\n",
       "1 2    \n",
       "2 2    \n",
       "3 2    \n",
       "4 2    \n",
       "5 2    \n",
       "6 2    "
      ]
     },
     "metadata": {},
     "output_type": "display_data"
    }
   ],
   "source": [
    "head(DF2)"
   ]
  },
  {
   "cell_type": "code",
   "execution_count": 41,
   "id": "193dc827",
   "metadata": {
    "vscode": {
     "languageId": "r"
    }
   },
   "outputs": [
    {
     "name": "stderr",
     "output_type": "stream",
     "text": [
      "Warning message:\n",
      "\"\u001b[1m\u001b[22mExpected 2 pieces. Additional pieces discarded in 5 rows [3, 7, 9, 11, 15].\"\n",
      "Warning message:\n",
      "\"\u001b[1m\u001b[22mExpected 2 pieces. Missing pieces filled with `NA` in 10 rows [2, 4, 5, 6, 10, 12, 13, 14, 16, 17].\"\n"
     ]
    },
    {
     "data": {
      "text/html": [
       "<table class=\"dataframe\">\n",
       "<caption>A tibble: 17 × 7</caption>\n",
       "<thead>\n",
       "\t<tr><th scope=col>Paciente</th><th scope=col>Idade da gestante</th><th scope=col>Idade gestacional em semanas</th><th scope=col>dias entre infeccao e parto</th><th scope=col>Primeira_Condicao</th><th scope=col>Outras_Condicoes</th><th scope=col>Valor</th></tr>\n",
       "\t<tr><th scope=col>&lt;chr&gt;</th><th scope=col>&lt;dbl&gt;</th><th scope=col>&lt;dbl&gt;</th><th scope=col>&lt;dbl&gt;</th><th scope=col>&lt;chr&gt;</th><th scope=col>&lt;chr&gt;</th><th scope=col>&lt;dbl&gt;</th></tr>\n",
       "</thead>\n",
       "<tbody>\n",
       "\t<tr><td>A</td><td>45</td><td>26</td><td>  3</td><td>Pre eclampsia                       </td><td>diabetes mellitus gestacional        </td><td>2</td></tr>\n",
       "\t<tr><td>B</td><td>38</td><td>28</td><td>  3</td><td>Hipotireoidismo pre gestacional     </td><td>NA                                   </td><td>2</td></tr>\n",
       "\t<tr><td>C</td><td>29</td><td>34</td><td>  0</td><td>Diabetes mellitus gestacional       </td><td> obesidade                           </td><td>2</td></tr>\n",
       "\t<tr><td>D</td><td>37</td><td>34</td><td>  0</td><td>Transtorno de ansiedade generalizada</td><td>NA                                   </td><td>2</td></tr>\n",
       "\t<tr><td>E</td><td>23</td><td>36</td><td>  0</td><td>Nao informado                       </td><td>NA                                   </td><td>2</td></tr>\n",
       "\t<tr><td>F</td><td>28</td><td>25</td><td> 76</td><td>Diabetes mellitus tipo 2            </td><td>NA                                   </td><td>2</td></tr>\n",
       "\t<tr><td>G</td><td>22</td><td>35</td><td>  4</td><td>Diabetes mellitus gestacional       </td><td> obesidade                           </td><td>2</td></tr>\n",
       "\t<tr><td>H</td><td>26</td><td>32</td><td> 42</td><td>Toxoplasmose aguda                  </td><td>hipotireoidismo                      </td><td>2</td></tr>\n",
       "\t<tr><td>I</td><td>22</td><td>34</td><td> 33</td><td>Asma                                </td><td> transtorno de ansiedade generalizada</td><td>2</td></tr>\n",
       "\t<tr><td>J</td><td>32</td><td>38</td><td>  0</td><td>Nao informado                       </td><td>NA                                   </td><td>2</td></tr>\n",
       "\t<tr><td>K</td><td>30</td><td>30</td><td> 46</td><td>Pre eclampsia                       </td><td>diabetes mellitus gestacional        </td><td>2</td></tr>\n",
       "\t<tr><td>L</td><td>27</td><td>37</td><td> 12</td><td>Diabetes mellitus gestacional       </td><td>NA                                   </td><td>2</td></tr>\n",
       "\t<tr><td>M</td><td>34</td><td>34</td><td> 26</td><td>Nao informado                       </td><td>NA                                   </td><td>2</td></tr>\n",
       "\t<tr><td>N</td><td>39</td><td> 8</td><td>231</td><td>Nao informado                       </td><td>NA                                   </td><td>2</td></tr>\n",
       "\t<tr><td>O</td><td>26</td><td>21</td><td> 74</td><td>Diabetes mellitus gestacional       </td><td> obesidade                           </td><td>2</td></tr>\n",
       "\t<tr><td>P</td><td>NA</td><td>NA</td><td> 53</td><td>Nao informado                       </td><td>NA                                   </td><td>2</td></tr>\n",
       "\t<tr><td>Q</td><td>NA</td><td>NA</td><td>  6</td><td>Nao informado                       </td><td>NA                                   </td><td>2</td></tr>\n",
       "</tbody>\n",
       "</table>\n"
      ],
      "text/latex": [
       "A tibble: 17 × 7\n",
       "\\begin{tabular}{lllllll}\n",
       " Paciente & Idade da gestante & Idade gestacional em semanas & dias entre infeccao e parto & Primeira\\_Condicao & Outras\\_Condicoes & Valor\\\\\n",
       " <chr> & <dbl> & <dbl> & <dbl> & <chr> & <chr> & <dbl>\\\\\n",
       "\\hline\n",
       "\t A & 45 & 26 &   3 & Pre eclampsia                        & diabetes mellitus gestacional         & 2\\\\\n",
       "\t B & 38 & 28 &   3 & Hipotireoidismo pre gestacional      & NA                                    & 2\\\\\n",
       "\t C & 29 & 34 &   0 & Diabetes mellitus gestacional        &  obesidade                            & 2\\\\\n",
       "\t D & 37 & 34 &   0 & Transtorno de ansiedade generalizada & NA                                    & 2\\\\\n",
       "\t E & 23 & 36 &   0 & Nao informado                        & NA                                    & 2\\\\\n",
       "\t F & 28 & 25 &  76 & Diabetes mellitus tipo 2             & NA                                    & 2\\\\\n",
       "\t G & 22 & 35 &   4 & Diabetes mellitus gestacional        &  obesidade                            & 2\\\\\n",
       "\t H & 26 & 32 &  42 & Toxoplasmose aguda                   & hipotireoidismo                       & 2\\\\\n",
       "\t I & 22 & 34 &  33 & Asma                                 &  transtorno de ansiedade generalizada & 2\\\\\n",
       "\t J & 32 & 38 &   0 & Nao informado                        & NA                                    & 2\\\\\n",
       "\t K & 30 & 30 &  46 & Pre eclampsia                        & diabetes mellitus gestacional         & 2\\\\\n",
       "\t L & 27 & 37 &  12 & Diabetes mellitus gestacional        & NA                                    & 2\\\\\n",
       "\t M & 34 & 34 &  26 & Nao informado                        & NA                                    & 2\\\\\n",
       "\t N & 39 &  8 & 231 & Nao informado                        & NA                                    & 2\\\\\n",
       "\t O & 26 & 21 &  74 & Diabetes mellitus gestacional        &  obesidade                            & 2\\\\\n",
       "\t P & NA & NA &  53 & Nao informado                        & NA                                    & 2\\\\\n",
       "\t Q & NA & NA &   6 & Nao informado                        & NA                                    & 2\\\\\n",
       "\\end{tabular}\n"
      ],
      "text/markdown": [
       "\n",
       "A tibble: 17 × 7\n",
       "\n",
       "| Paciente &lt;chr&gt; | Idade da gestante &lt;dbl&gt; | Idade gestacional em semanas &lt;dbl&gt; | dias entre infeccao e parto &lt;dbl&gt; | Primeira_Condicao &lt;chr&gt; | Outras_Condicoes &lt;chr&gt; | Valor &lt;dbl&gt; |\n",
       "|---|---|---|---|---|---|---|\n",
       "| A | 45 | 26 |   3 | Pre eclampsia                        | diabetes mellitus gestacional         | 2 |\n",
       "| B | 38 | 28 |   3 | Hipotireoidismo pre gestacional      | NA                                    | 2 |\n",
       "| C | 29 | 34 |   0 | Diabetes mellitus gestacional        |  obesidade                            | 2 |\n",
       "| D | 37 | 34 |   0 | Transtorno de ansiedade generalizada | NA                                    | 2 |\n",
       "| E | 23 | 36 |   0 | Nao informado                        | NA                                    | 2 |\n",
       "| F | 28 | 25 |  76 | Diabetes mellitus tipo 2             | NA                                    | 2 |\n",
       "| G | 22 | 35 |   4 | Diabetes mellitus gestacional        |  obesidade                            | 2 |\n",
       "| H | 26 | 32 |  42 | Toxoplasmose aguda                   | hipotireoidismo                       | 2 |\n",
       "| I | 22 | 34 |  33 | Asma                                 |  transtorno de ansiedade generalizada | 2 |\n",
       "| J | 32 | 38 |   0 | Nao informado                        | NA                                    | 2 |\n",
       "| K | 30 | 30 |  46 | Pre eclampsia                        | diabetes mellitus gestacional         | 2 |\n",
       "| L | 27 | 37 |  12 | Diabetes mellitus gestacional        | NA                                    | 2 |\n",
       "| M | 34 | 34 |  26 | Nao informado                        | NA                                    | 2 |\n",
       "| N | 39 |  8 | 231 | Nao informado                        | NA                                    | 2 |\n",
       "| O | 26 | 21 |  74 | Diabetes mellitus gestacional        |  obesidade                            | 2 |\n",
       "| P | NA | NA |  53 | Nao informado                        | NA                                    | 2 |\n",
       "| Q | NA | NA |   6 | Nao informado                        | NA                                    | 2 |\n",
       "\n"
      ],
      "text/plain": [
       "   Paciente Idade da gestante Idade gestacional em semanas\n",
       "1  A        45                26                          \n",
       "2  B        38                28                          \n",
       "3  C        29                34                          \n",
       "4  D        37                34                          \n",
       "5  E        23                36                          \n",
       "6  F        28                25                          \n",
       "7  G        22                35                          \n",
       "8  H        26                32                          \n",
       "9  I        22                34                          \n",
       "10 J        32                38                          \n",
       "11 K        30                30                          \n",
       "12 L        27                37                          \n",
       "13 M        34                34                          \n",
       "14 N        39                 8                          \n",
       "15 O        26                21                          \n",
       "16 P        NA                NA                          \n",
       "17 Q        NA                NA                          \n",
       "   dias entre infeccao e parto Primeira_Condicao                   \n",
       "1    3                         Pre eclampsia                       \n",
       "2    3                         Hipotireoidismo pre gestacional     \n",
       "3    0                         Diabetes mellitus gestacional       \n",
       "4    0                         Transtorno de ansiedade generalizada\n",
       "5    0                         Nao informado                       \n",
       "6   76                         Diabetes mellitus tipo 2            \n",
       "7    4                         Diabetes mellitus gestacional       \n",
       "8   42                         Toxoplasmose aguda                  \n",
       "9   33                         Asma                                \n",
       "10   0                         Nao informado                       \n",
       "11  46                         Pre eclampsia                       \n",
       "12  12                         Diabetes mellitus gestacional       \n",
       "13  26                         Nao informado                       \n",
       "14 231                         Nao informado                       \n",
       "15  74                         Diabetes mellitus gestacional       \n",
       "16  53                         Nao informado                       \n",
       "17   6                         Nao informado                       \n",
       "   Outras_Condicoes                      Valor\n",
       "1  diabetes mellitus gestacional         2    \n",
       "2  NA                                    2    \n",
       "3   obesidade                            2    \n",
       "4  NA                                    2    \n",
       "5  NA                                    2    \n",
       "6  NA                                    2    \n",
       "7   obesidade                            2    \n",
       "8  hipotireoidismo                       2    \n",
       "9   transtorno de ansiedade generalizada 2    \n",
       "10 NA                                    2    \n",
       "11 diabetes mellitus gestacional         2    \n",
       "12 NA                                    2    \n",
       "13 NA                                    2    \n",
       "14 NA                                    2    \n",
       "15  obesidade                            2    \n",
       "16 NA                                    2    \n",
       "17 NA                                    2    "
      ]
     },
     "metadata": {},
     "output_type": "display_data"
    }
   ],
   "source": [
    "# Usando separate() para dividir a coluna Condições médicas\n",
    "# into = c: indica o nome das novas colunas\n",
    "# sep =  especifica o separador(es) usado(s) para dividir o texto\n",
    "\n",
    "condicoes_med_separadas <- separate(DF2, col = `Condicoes medicas`, into = \n",
    "                                    c('Primeira_Condicao', 'Outras_Condicoes'), sep = ',| e ')\n",
    "condicoes_med_separadas"
   ]
  },
  {
   "cell_type": "code",
   "execution_count": 42,
   "id": "26d16d61",
   "metadata": {
    "vscode": {
     "languageId": "r"
    }
   },
   "outputs": [
    {
     "data": {
      "text/html": [
       "<table class=\"dataframe\">\n",
       "<caption>A tibble: 17 × 5</caption>\n",
       "<thead>\n",
       "\t<tr><th scope=col>Paciente_idade</th><th scope=col>Idade gestacional em semanas</th><th scope=col>dias entre infeccao e parto</th><th scope=col>Condicoes medicas</th><th scope=col>Valor</th></tr>\n",
       "\t<tr><th scope=col>&lt;chr&gt;</th><th scope=col>&lt;dbl&gt;</th><th scope=col>&lt;dbl&gt;</th><th scope=col>&lt;chr&gt;</th><th scope=col>&lt;dbl&gt;</th></tr>\n",
       "</thead>\n",
       "<tbody>\n",
       "\t<tr><td>A-45</td><td>26</td><td>  3</td><td>Pre eclampsia e diabetes mellitus gestacional                                                                                            </td><td>2</td></tr>\n",
       "\t<tr><td>B-38</td><td>28</td><td>  3</td><td>Hipotireoidismo pre gestacional                                                                                                          </td><td>2</td></tr>\n",
       "\t<tr><td>C-29</td><td>34</td><td>  0</td><td>Diabetes mellitus gestacional, obesidade, hipotireoidismo, ex usuaria de substancia psicoativa e historico de sifilis devidamente tratada</td><td>2</td></tr>\n",
       "\t<tr><td>D-37</td><td>34</td><td>  0</td><td>Transtorno de ansiedade generalizada                                                                                                     </td><td>2</td></tr>\n",
       "\t<tr><td>E-23</td><td>36</td><td>  0</td><td>Nao informado                                                                                                                            </td><td>2</td></tr>\n",
       "\t<tr><td>F-28</td><td>25</td><td> 76</td><td>Diabetes mellitus tipo 2                                                                                                                 </td><td>2</td></tr>\n",
       "\t<tr><td>G-22</td><td>35</td><td>  4</td><td>Diabetes mellitus gestacional, obesidade e hipotireoidismo                                                                               </td><td>2</td></tr>\n",
       "\t<tr><td>H-26</td><td>32</td><td> 42</td><td>Toxoplasmose aguda e hipotireoidismo                                                                                                     </td><td>2</td></tr>\n",
       "\t<tr><td>I-22</td><td>34</td><td> 33</td><td>Asma, transtorno de ansiedade generalizada e obesidade                                                                                   </td><td>2</td></tr>\n",
       "\t<tr><td>J-32</td><td>38</td><td>  0</td><td>Nao informado                                                                                                                            </td><td>2</td></tr>\n",
       "\t<tr><td>K-30</td><td>30</td><td> 46</td><td>Pre eclampsia e diabetes mellitus gestacional, obesidade e infeccao do trato urinario de repeticao                                       </td><td>2</td></tr>\n",
       "\t<tr><td>L-27</td><td>37</td><td> 12</td><td>Diabetes mellitus gestacional                                                                                                            </td><td>2</td></tr>\n",
       "\t<tr><td>M-34</td><td>34</td><td> 26</td><td>Nao informado                                                                                                                            </td><td>2</td></tr>\n",
       "\t<tr><td>N-39</td><td> 8</td><td>231</td><td>Nao informado                                                                                                                            </td><td>2</td></tr>\n",
       "\t<tr><td>O-26</td><td>21</td><td> 74</td><td>Diabetes mellitus gestacional, obesidade e hipotireoidismo                                                                               </td><td>2</td></tr>\n",
       "\t<tr><td>P-NA</td><td>NA</td><td> 53</td><td>Nao informado                                                                                                                            </td><td>2</td></tr>\n",
       "\t<tr><td>Q-NA</td><td>NA</td><td>  6</td><td>Nao informado                                                                                                                            </td><td>2</td></tr>\n",
       "</tbody>\n",
       "</table>\n"
      ],
      "text/latex": [
       "A tibble: 17 × 5\n",
       "\\begin{tabular}{lllll}\n",
       " Paciente\\_idade & Idade gestacional em semanas & dias entre infeccao e parto & Condicoes medicas & Valor\\\\\n",
       " <chr> & <dbl> & <dbl> & <chr> & <dbl>\\\\\n",
       "\\hline\n",
       "\t A-45 & 26 &   3 & Pre eclampsia e diabetes mellitus gestacional                                                                                             & 2\\\\\n",
       "\t B-38 & 28 &   3 & Hipotireoidismo pre gestacional                                                                                                           & 2\\\\\n",
       "\t C-29 & 34 &   0 & Diabetes mellitus gestacional, obesidade, hipotireoidismo, ex usuaria de substancia psicoativa e historico de sifilis devidamente tratada & 2\\\\\n",
       "\t D-37 & 34 &   0 & Transtorno de ansiedade generalizada                                                                                                      & 2\\\\\n",
       "\t E-23 & 36 &   0 & Nao informado                                                                                                                             & 2\\\\\n",
       "\t F-28 & 25 &  76 & Diabetes mellitus tipo 2                                                                                                                  & 2\\\\\n",
       "\t G-22 & 35 &   4 & Diabetes mellitus gestacional, obesidade e hipotireoidismo                                                                                & 2\\\\\n",
       "\t H-26 & 32 &  42 & Toxoplasmose aguda e hipotireoidismo                                                                                                      & 2\\\\\n",
       "\t I-22 & 34 &  33 & Asma, transtorno de ansiedade generalizada e obesidade                                                                                    & 2\\\\\n",
       "\t J-32 & 38 &   0 & Nao informado                                                                                                                             & 2\\\\\n",
       "\t K-30 & 30 &  46 & Pre eclampsia e diabetes mellitus gestacional, obesidade e infeccao do trato urinario de repeticao                                        & 2\\\\\n",
       "\t L-27 & 37 &  12 & Diabetes mellitus gestacional                                                                                                             & 2\\\\\n",
       "\t M-34 & 34 &  26 & Nao informado                                                                                                                             & 2\\\\\n",
       "\t N-39 &  8 & 231 & Nao informado                                                                                                                             & 2\\\\\n",
       "\t O-26 & 21 &  74 & Diabetes mellitus gestacional, obesidade e hipotireoidismo                                                                                & 2\\\\\n",
       "\t P-NA & NA &  53 & Nao informado                                                                                                                             & 2\\\\\n",
       "\t Q-NA & NA &   6 & Nao informado                                                                                                                             & 2\\\\\n",
       "\\end{tabular}\n"
      ],
      "text/markdown": [
       "\n",
       "A tibble: 17 × 5\n",
       "\n",
       "| Paciente_idade &lt;chr&gt; | Idade gestacional em semanas &lt;dbl&gt; | dias entre infeccao e parto &lt;dbl&gt; | Condicoes medicas &lt;chr&gt; | Valor &lt;dbl&gt; |\n",
       "|---|---|---|---|---|\n",
       "| A-45 | 26 |   3 | Pre eclampsia e diabetes mellitus gestacional                                                                                             | 2 |\n",
       "| B-38 | 28 |   3 | Hipotireoidismo pre gestacional                                                                                                           | 2 |\n",
       "| C-29 | 34 |   0 | Diabetes mellitus gestacional, obesidade, hipotireoidismo, ex usuaria de substancia psicoativa e historico de sifilis devidamente tratada | 2 |\n",
       "| D-37 | 34 |   0 | Transtorno de ansiedade generalizada                                                                                                      | 2 |\n",
       "| E-23 | 36 |   0 | Nao informado                                                                                                                             | 2 |\n",
       "| F-28 | 25 |  76 | Diabetes mellitus tipo 2                                                                                                                  | 2 |\n",
       "| G-22 | 35 |   4 | Diabetes mellitus gestacional, obesidade e hipotireoidismo                                                                                | 2 |\n",
       "| H-26 | 32 |  42 | Toxoplasmose aguda e hipotireoidismo                                                                                                      | 2 |\n",
       "| I-22 | 34 |  33 | Asma, transtorno de ansiedade generalizada e obesidade                                                                                    | 2 |\n",
       "| J-32 | 38 |   0 | Nao informado                                                                                                                             | 2 |\n",
       "| K-30 | 30 |  46 | Pre eclampsia e diabetes mellitus gestacional, obesidade e infeccao do trato urinario de repeticao                                        | 2 |\n",
       "| L-27 | 37 |  12 | Diabetes mellitus gestacional                                                                                                             | 2 |\n",
       "| M-34 | 34 |  26 | Nao informado                                                                                                                             | 2 |\n",
       "| N-39 |  8 | 231 | Nao informado                                                                                                                             | 2 |\n",
       "| O-26 | 21 |  74 | Diabetes mellitus gestacional, obesidade e hipotireoidismo                                                                                | 2 |\n",
       "| P-NA | NA |  53 | Nao informado                                                                                                                             | 2 |\n",
       "| Q-NA | NA |   6 | Nao informado                                                                                                                             | 2 |\n",
       "\n"
      ],
      "text/plain": [
       "   Paciente_idade Idade gestacional em semanas dias entre infeccao e parto\n",
       "1  A-45           26                             3                        \n",
       "2  B-38           28                             3                        \n",
       "3  C-29           34                             0                        \n",
       "4  D-37           34                             0                        \n",
       "5  E-23           36                             0                        \n",
       "6  F-28           25                            76                        \n",
       "7  G-22           35                             4                        \n",
       "8  H-26           32                            42                        \n",
       "9  I-22           34                            33                        \n",
       "10 J-32           38                             0                        \n",
       "11 K-30           30                            46                        \n",
       "12 L-27           37                            12                        \n",
       "13 M-34           34                            26                        \n",
       "14 N-39            8                           231                        \n",
       "15 O-26           21                            74                        \n",
       "16 P-NA           NA                            53                        \n",
       "17 Q-NA           NA                             6                        \n",
       "   Condicoes medicas                                                                                                                        \n",
       "1  Pre eclampsia e diabetes mellitus gestacional                                                                                            \n",
       "2  Hipotireoidismo pre gestacional                                                                                                          \n",
       "3  Diabetes mellitus gestacional, obesidade, hipotireoidismo, ex usuaria de substancia psicoativa e historico de sifilis devidamente tratada\n",
       "4  Transtorno de ansiedade generalizada                                                                                                     \n",
       "5  Nao informado                                                                                                                            \n",
       "6  Diabetes mellitus tipo 2                                                                                                                 \n",
       "7  Diabetes mellitus gestacional, obesidade e hipotireoidismo                                                                               \n",
       "8  Toxoplasmose aguda e hipotireoidismo                                                                                                     \n",
       "9  Asma, transtorno de ansiedade generalizada e obesidade                                                                                   \n",
       "10 Nao informado                                                                                                                            \n",
       "11 Pre eclampsia e diabetes mellitus gestacional, obesidade e infeccao do trato urinario de repeticao                                       \n",
       "12 Diabetes mellitus gestacional                                                                                                            \n",
       "13 Nao informado                                                                                                                            \n",
       "14 Nao informado                                                                                                                            \n",
       "15 Diabetes mellitus gestacional, obesidade e hipotireoidismo                                                                               \n",
       "16 Nao informado                                                                                                                            \n",
       "17 Nao informado                                                                                                                            \n",
       "   Valor\n",
       "1  2    \n",
       "2  2    \n",
       "3  2    \n",
       "4  2    \n",
       "5  2    \n",
       "6  2    \n",
       "7  2    \n",
       "8  2    \n",
       "9  2    \n",
       "10 2    \n",
       "11 2    \n",
       "12 2    \n",
       "13 2    \n",
       "14 2    \n",
       "15 2    \n",
       "16 2    \n",
       "17 2    "
      ]
     },
     "metadata": {},
     "output_type": "display_data"
    }
   ],
   "source": [
    "#Usando unite para combinar colunas \n",
    "#col = especifica o nome da nova coluna resultante.\n",
    "# Paciente, `Idade da gestante`são as colunas que serão combinadas.\n",
    "#sep = \" -\" define o separador que você deseja entre as partes combinadas\n",
    "dados_combinados <- unite(DF2, col = 'Paciente_idade', Paciente, `Idade da gestante`, sep = '-')\n",
    "dados_combinados"
   ]
  },
  {
   "cell_type": "markdown",
   "id": "02ad524a",
   "metadata": {},
   "source": [
    "### Pacote Reshape 2, é uma extensão do pacote reshape no R,  fornece uma interface mais intuitiva e simplificada para a remodelação e transformação de dados. \n",
    "\n",
    "Algumas das funções-chave do pacote reshape2 incluem:\n",
    "\n",
    "**melt():** Essa função é usada para transformar um dataframe de formato amplo em formato longo, onde as colunas se tornam variáveis e os valores correspondentes são colocados em uma única coluna. **É semelhante ao gather() no pacote tidyr.**  \n",
    "\n",
    "**dcast():** Esta função é usada para transformar dados de formato longo em formato amplo, onde as variáveis se tornam colunas e os valores correspondentes são preenchidos nas células. **É semelhante ao spread() no pacote tidyr.**  \n",
    "\n",
    "**acast():** Esta função é semelhante ao dcast() e é usada para criar tabelas cruzadas a partir de dados no formato longo.\n",
    "\n",
    "**recast():** Semelhante ao dcast(), mas permite operações de remodelação mais complexas.\n",
    "\n",
    "**Na prática, o tidyr é capaz de realizar todas as tarefas que o reshape2 faz, e muito mais. Portanto, o tidyr pode substituir completamente o reshape2 e é amplamente preferido para tarefas de manipulação de dados no R devido à sua sintaxe mais clara e à integração com o pacote dplyr.**"
   ]
  },
  {
   "cell_type": "markdown",
   "id": "32c56a01",
   "metadata": {},
   "source": [
    "### --------------------------------------------------------------------------------------------------------------------------------------------------------------\n",
    "### O pacote plyr é um pacote muito útil no R que fornece uma variedade de funções para realizar operações de manipulação de dados em dataframes. \n",
    "\n",
    "### O plyr é amplamente conhecido por seguir o paradigma \"split-apply-combine\", o que significa que ele divide um dataframe em partes, aplica uma função a cada parte e, em seguida, combina os resultados. \n",
    "\n",
    "### Isso torna o plyr uma ferramenta poderosa para realizar operações complexas em dataframes de maneira organizada e eficiente.\n",
    "\n",
    "**Alguns dos principais conceitos do plyr incluem:** \n",
    "\n",
    "**Split:** O primeiro passo é dividir os dados em grupos com base em critérios específicos. Isso é geralmente feito usando a função **ddply() (data frame ply) ou dlply() (list ply),** que divide o dataframe em partes.  \n",
    "\n",
    "**Apply:** Em seguida, você aplica uma função a cada grupo de dados. As funções aplicadas são as mesmas presentes no pacote **dplyr**\n",
    "\n",
    "**Combine:** Por fim, o plyr combina os resultados da aplicação das funções para produzir o resultado final. Isso pode ser feito usando funções como **rbind.fill() ou rbind.all(),** dependendo dos requisitos.\n",
    "\n",
    "**Desta forma, o pacote plyr fornece funções de \"split\"  e funções de \"combine\" .**\n",
    "\n",
    "**As principais funções de aplicação do pacote plyr incluem:**\n",
    "\n",
    "**ddply():** Usada para dividir um dataframe em grupos com base em critérios específicos e aplicar funções a cada grupo. É semelhante ao group_by() do pacote dplyr.\n",
    "\n",
    "**ldply():** Usada para dividir uma lista em subgrupos e aplicar funções a cada subgrupo.\n",
    "\n",
    "**adply():** Usada para dividir um dataframe em grupos e aplicar funções, mas, ao contrário do ddply(), retorna os resultados em um novo dataframe.\n",
    "\n",
    "**mdply():** Usada para criar um dataframe que combina todas as combinações possíveis de variáveis.\n",
    "\n",
    "**join_all():** Usada para realizar junções (merges) entre múltiplos dataframes ou listas.\n",
    "\n",
    "**rbind.fill():**  Usada para combinar dataframes, preenchendo com valores ausentes nas colunas que não existem em todos os dataframes.\n",
    "\n",
    "**rbind.all():** Usada para combinar dataframes sem preencher com valores ausentes."
   ]
  },
  {
   "cell_type": "code",
   "execution_count": 43,
   "id": "fe6915af",
   "metadata": {
    "vscode": {
     "languageId": "r"
    }
   },
   "outputs": [
    {
     "name": "stderr",
     "output_type": "stream",
     "text": [
      "Warning message:\n",
      "\"package 'plyr' was built under R version 4.2.3\"\n",
      "------------------------------------------------------------------------------\n",
      "\n",
      "You have loaded plyr after dplyr - this is likely to cause problems.\n",
      "If you need functions from both plyr and dplyr, please load plyr first, then dplyr:\n",
      "library(plyr); library(dplyr)\n",
      "\n",
      "------------------------------------------------------------------------------\n",
      "\n",
      "\n",
      "Attaching package: 'plyr'\n",
      "\n",
      "\n",
      "The following objects are masked from 'package:dplyr':\n",
      "\n",
      "    arrange, count, desc, failwith, id, mutate, rename, summarise,\n",
      "    summarize\n",
      "\n",
      "\n"
     ]
    }
   ],
   "source": [
    "library(plyr)"
   ]
  },
  {
   "cell_type": "code",
   "execution_count": 44,
   "id": "038c7582",
   "metadata": {
    "vscode": {
     "languageId": "r"
    }
   },
   "outputs": [
    {
     "data": {
      "text/html": [
       "<table class=\"dataframe\">\n",
       "<caption>A tibble: 6 × 6</caption>\n",
       "<thead>\n",
       "\t<tr><th scope=col>Paciente</th><th scope=col>Idade da gestante</th><th scope=col>Idade gestacional em semanas</th><th scope=col>dias entre infeccao e parto</th><th scope=col>Condicoes medicas</th><th scope=col>Valor</th></tr>\n",
       "\t<tr><th scope=col>&lt;chr&gt;</th><th scope=col>&lt;dbl&gt;</th><th scope=col>&lt;dbl&gt;</th><th scope=col>&lt;dbl&gt;</th><th scope=col>&lt;chr&gt;</th><th scope=col>&lt;dbl&gt;</th></tr>\n",
       "</thead>\n",
       "<tbody>\n",
       "\t<tr><td>A</td><td>45</td><td>26</td><td> 3</td><td>Pre eclampsia e diabetes mellitus gestacional                                                                                            </td><td>2</td></tr>\n",
       "\t<tr><td>B</td><td>38</td><td>28</td><td> 3</td><td>Hipotireoidismo pre gestacional                                                                                                          </td><td>2</td></tr>\n",
       "\t<tr><td>C</td><td>29</td><td>34</td><td> 0</td><td>Diabetes mellitus gestacional, obesidade, hipotireoidismo, ex usuaria de substancia psicoativa e historico de sifilis devidamente tratada</td><td>2</td></tr>\n",
       "\t<tr><td>D</td><td>37</td><td>34</td><td> 0</td><td>Transtorno de ansiedade generalizada                                                                                                     </td><td>2</td></tr>\n",
       "\t<tr><td>E</td><td>23</td><td>36</td><td> 0</td><td>Nao informado                                                                                                                            </td><td>2</td></tr>\n",
       "\t<tr><td>F</td><td>28</td><td>25</td><td>76</td><td>Diabetes mellitus tipo 2                                                                                                                 </td><td>2</td></tr>\n",
       "</tbody>\n",
       "</table>\n"
      ],
      "text/latex": [
       "A tibble: 6 × 6\n",
       "\\begin{tabular}{llllll}\n",
       " Paciente & Idade da gestante & Idade gestacional em semanas & dias entre infeccao e parto & Condicoes medicas & Valor\\\\\n",
       " <chr> & <dbl> & <dbl> & <dbl> & <chr> & <dbl>\\\\\n",
       "\\hline\n",
       "\t A & 45 & 26 &  3 & Pre eclampsia e diabetes mellitus gestacional                                                                                             & 2\\\\\n",
       "\t B & 38 & 28 &  3 & Hipotireoidismo pre gestacional                                                                                                           & 2\\\\\n",
       "\t C & 29 & 34 &  0 & Diabetes mellitus gestacional, obesidade, hipotireoidismo, ex usuaria de substancia psicoativa e historico de sifilis devidamente tratada & 2\\\\\n",
       "\t D & 37 & 34 &  0 & Transtorno de ansiedade generalizada                                                                                                      & 2\\\\\n",
       "\t E & 23 & 36 &  0 & Nao informado                                                                                                                             & 2\\\\\n",
       "\t F & 28 & 25 & 76 & Diabetes mellitus tipo 2                                                                                                                  & 2\\\\\n",
       "\\end{tabular}\n"
      ],
      "text/markdown": [
       "\n",
       "A tibble: 6 × 6\n",
       "\n",
       "| Paciente &lt;chr&gt; | Idade da gestante &lt;dbl&gt; | Idade gestacional em semanas &lt;dbl&gt; | dias entre infeccao e parto &lt;dbl&gt; | Condicoes medicas &lt;chr&gt; | Valor &lt;dbl&gt; |\n",
       "|---|---|---|---|---|---|\n",
       "| A | 45 | 26 |  3 | Pre eclampsia e diabetes mellitus gestacional                                                                                             | 2 |\n",
       "| B | 38 | 28 |  3 | Hipotireoidismo pre gestacional                                                                                                           | 2 |\n",
       "| C | 29 | 34 |  0 | Diabetes mellitus gestacional, obesidade, hipotireoidismo, ex usuaria de substancia psicoativa e historico de sifilis devidamente tratada | 2 |\n",
       "| D | 37 | 34 |  0 | Transtorno de ansiedade generalizada                                                                                                      | 2 |\n",
       "| E | 23 | 36 |  0 | Nao informado                                                                                                                             | 2 |\n",
       "| F | 28 | 25 | 76 | Diabetes mellitus tipo 2                                                                                                                  | 2 |\n",
       "\n"
      ],
      "text/plain": [
       "  Paciente Idade da gestante Idade gestacional em semanas\n",
       "1 A        45                26                          \n",
       "2 B        38                28                          \n",
       "3 C        29                34                          \n",
       "4 D        37                34                          \n",
       "5 E        23                36                          \n",
       "6 F        28                25                          \n",
       "  dias entre infeccao e parto\n",
       "1  3                         \n",
       "2  3                         \n",
       "3  0                         \n",
       "4  0                         \n",
       "5  0                         \n",
       "6 76                         \n",
       "  Condicoes medicas                                                                                                                        \n",
       "1 Pre eclampsia e diabetes mellitus gestacional                                                                                            \n",
       "2 Hipotireoidismo pre gestacional                                                                                                          \n",
       "3 Diabetes mellitus gestacional, obesidade, hipotireoidismo, ex usuaria de substancia psicoativa e historico de sifilis devidamente tratada\n",
       "4 Transtorno de ansiedade generalizada                                                                                                     \n",
       "5 Nao informado                                                                                                                            \n",
       "6 Diabetes mellitus tipo 2                                                                                                                 \n",
       "  Valor\n",
       "1 2    \n",
       "2 2    \n",
       "3 2    \n",
       "4 2    \n",
       "5 2    \n",
       "6 2    "
      ]
     },
     "metadata": {},
     "output_type": "display_data"
    }
   ],
   "source": [
    "head(DF2)"
   ]
  },
  {
   "cell_type": "code",
   "execution_count": 45,
   "id": "a465f27c",
   "metadata": {
    "vscode": {
     "languageId": "r"
    }
   },
   "outputs": [],
   "source": [
    "# Usando ddply para calcular a média dos dias entre infeccao e o parto\n",
    "#(): A parte entre parênteses vazios () indica que não estamos dividindo os dados em grupos específicos. \n",
    "#Estamos aplicando a operação a todo o dataframe.\n",
    "ddply_DF2 <- ddply(DF2, .(), summarize, Media_infeccao_parto = mean(`dias entre infeccao e parto`))"
   ]
  },
  {
   "cell_type": "code",
   "execution_count": 46,
   "id": "c236a1f1",
   "metadata": {
    "vscode": {
     "languageId": "r"
    }
   },
   "outputs": [
    {
     "data": {
      "text/html": [
       "<table class=\"dataframe\">\n",
       "<caption>A data.frame: 1 × 2</caption>\n",
       "<thead>\n",
       "\t<tr><th scope=col>.id</th><th scope=col>Media_infeccao_parto</th></tr>\n",
       "\t<tr><th scope=col>&lt;chr&gt;</th><th scope=col>&lt;dbl&gt;</th></tr>\n",
       "</thead>\n",
       "<tbody>\n",
       "\t<tr><td>NA</td><td>35.82353</td></tr>\n",
       "</tbody>\n",
       "</table>\n"
      ],
      "text/latex": [
       "A data.frame: 1 × 2\n",
       "\\begin{tabular}{ll}\n",
       " .id & Media\\_infeccao\\_parto\\\\\n",
       " <chr> & <dbl>\\\\\n",
       "\\hline\n",
       "\t NA & 35.82353\\\\\n",
       "\\end{tabular}\n"
      ],
      "text/markdown": [
       "\n",
       "A data.frame: 1 × 2\n",
       "\n",
       "| .id &lt;chr&gt; | Media_infeccao_parto &lt;dbl&gt; |\n",
       "|---|---|\n",
       "| NA | 35.82353 |\n",
       "\n"
      ],
      "text/plain": [
       "  .id Media_infeccao_parto\n",
       "1 NA  35.82353            "
      ]
     },
     "metadata": {},
     "output_type": "display_data"
    }
   ],
   "source": [
    "ddply_DF2"
   ]
  },
  {
   "cell_type": "markdown",
   "id": "135f4280",
   "metadata": {},
   "source": [
    "## O pacote data.table é uma biblioteca popular que oferece uma estrutura de dados eficiente e versátil para manipulação de conjuntos de dados. \n",
    "\n",
    "### Ela é especialmente útil para lidar com conjuntos de dados grandes e complexos, tornando as operações de manipulação de dados mais rápidas do que as abordagens tradicionais do R, como o uso de data frames.\n",
    "\n",
    "**Ele pode substituir o data.frame em arquivos grandes e posso utilizar alguns métodos e atributos intercambiáveis entre eles.**  \n",
    "\n",
    "**O pacote data.table já foi carregado anteriormente para uso da função fread.** "
   ]
  },
  {
   "cell_type": "code",
   "execution_count": 47,
   "id": "376a0f92",
   "metadata": {
    "vscode": {
     "languageId": "r"
    }
   },
   "outputs": [
    {
     "data": {
      "text/html": [
       "<table class=\"dataframe\">\n",
       "<caption>A data.table: 5 × 3</caption>\n",
       "<thead>\n",
       "\t<tr><th scope=col>ID</th><th scope=col>Nome</th><th scope=col>Idade</th></tr>\n",
       "\t<tr><th scope=col>&lt;int&gt;</th><th scope=col>&lt;chr&gt;</th><th scope=col>&lt;dbl&gt;</th></tr>\n",
       "</thead>\n",
       "<tbody>\n",
       "\t<tr><td>1</td><td>Alice  </td><td>25</td></tr>\n",
       "\t<tr><td>2</td><td>Bob    </td><td>30</td></tr>\n",
       "\t<tr><td>3</td><td>Charlie</td><td>22</td></tr>\n",
       "\t<tr><td>4</td><td>David  </td><td>35</td></tr>\n",
       "\t<tr><td>5</td><td>Eve    </td><td>28</td></tr>\n",
       "</tbody>\n",
       "</table>\n"
      ],
      "text/latex": [
       "A data.table: 5 × 3\n",
       "\\begin{tabular}{lll}\n",
       " ID & Nome & Idade\\\\\n",
       " <int> & <chr> & <dbl>\\\\\n",
       "\\hline\n",
       "\t 1 & Alice   & 25\\\\\n",
       "\t 2 & Bob     & 30\\\\\n",
       "\t 3 & Charlie & 22\\\\\n",
       "\t 4 & David   & 35\\\\\n",
       "\t 5 & Eve     & 28\\\\\n",
       "\\end{tabular}\n"
      ],
      "text/markdown": [
       "\n",
       "A data.table: 5 × 3\n",
       "\n",
       "| ID &lt;int&gt; | Nome &lt;chr&gt; | Idade &lt;dbl&gt; |\n",
       "|---|---|---|\n",
       "| 1 | Alice   | 25 |\n",
       "| 2 | Bob     | 30 |\n",
       "| 3 | Charlie | 22 |\n",
       "| 4 | David   | 35 |\n",
       "| 5 | Eve     | 28 |\n",
       "\n"
      ],
      "text/plain": [
       "  ID Nome    Idade\n",
       "1 1  Alice   25   \n",
       "2 2  Bob     30   \n",
       "3 3  Charlie 22   \n",
       "4 4  David   35   \n",
       "5 5  Eve     28   "
      ]
     },
     "metadata": {},
     "output_type": "display_data"
    }
   ],
   "source": [
    "# Exemplo: Criando uma tabela de dados\n",
    "dt <- data.table(\n",
    "  ID = 1:5,\n",
    "  Nome = c(\"Alice\", \"Bob\", \"Charlie\", \"David\", \"Eve\"),\n",
    "  Idade = c(25, 30, 22, 35, 28)\n",
    ")\n",
    "\n",
    "dt"
   ]
  },
  {
   "cell_type": "code",
   "execution_count": 48,
   "id": "109c971e",
   "metadata": {
    "vscode": {
     "languageId": "r"
    }
   },
   "outputs": [
    {
     "data": {
      "text/html": [
       "<table class=\"dataframe\">\n",
       "<caption>A data.table: 3 × 3</caption>\n",
       "<thead>\n",
       "\t<tr><th scope=col>ID</th><th scope=col>Nome</th><th scope=col>Idade</th></tr>\n",
       "\t<tr><th scope=col>&lt;int&gt;</th><th scope=col>&lt;chr&gt;</th><th scope=col>&lt;dbl&gt;</th></tr>\n",
       "</thead>\n",
       "<tbody>\n",
       "\t<tr><td>2</td><td>Bob  </td><td>30</td></tr>\n",
       "\t<tr><td>4</td><td>David</td><td>35</td></tr>\n",
       "\t<tr><td>5</td><td>Eve  </td><td>28</td></tr>\n",
       "</tbody>\n",
       "</table>\n"
      ],
      "text/latex": [
       "A data.table: 3 × 3\n",
       "\\begin{tabular}{lll}\n",
       " ID & Nome & Idade\\\\\n",
       " <int> & <chr> & <dbl>\\\\\n",
       "\\hline\n",
       "\t 2 & Bob   & 30\\\\\n",
       "\t 4 & David & 35\\\\\n",
       "\t 5 & Eve   & 28\\\\\n",
       "\\end{tabular}\n"
      ],
      "text/markdown": [
       "\n",
       "A data.table: 3 × 3\n",
       "\n",
       "| ID &lt;int&gt; | Nome &lt;chr&gt; | Idade &lt;dbl&gt; |\n",
       "|---|---|---|\n",
       "| 2 | Bob   | 30 |\n",
       "| 4 | David | 35 |\n",
       "| 5 | Eve   | 28 |\n",
       "\n"
      ],
      "text/plain": [
       "  ID Nome  Idade\n",
       "1 2  Bob   30   \n",
       "2 4  David 35   \n",
       "3 5  Eve   28   "
      ]
     },
     "metadata": {},
     "output_type": "display_data"
    }
   ],
   "source": [
    "# Acessando dados\n",
    "# Selecionando todas as linhas em que a idade é maior que 25\n",
    "dt[Idade > 25]"
   ]
  },
  {
   "cell_type": "code",
   "execution_count": 49,
   "id": "5c554062",
   "metadata": {
    "vscode": {
     "languageId": "r"
    }
   },
   "outputs": [
    {
     "data": {
      "text/html": [
       "<table class=\"dataframe\">\n",
       "<caption>A data.table: 5 × 3</caption>\n",
       "<thead>\n",
       "\t<tr><th scope=col>ID</th><th scope=col>Nome</th><th scope=col>Idade</th></tr>\n",
       "\t<tr><th scope=col>&lt;int&gt;</th><th scope=col>&lt;chr&gt;</th><th scope=col>&lt;dbl&gt;</th></tr>\n",
       "</thead>\n",
       "<tbody>\n",
       "\t<tr><td>1</td><td>Alice  </td><td>25</td></tr>\n",
       "\t<tr><td>2</td><td>Bob    </td><td>30</td></tr>\n",
       "\t<tr><td>3</td><td>Charlie</td><td>22</td></tr>\n",
       "\t<tr><td>4</td><td>David  </td><td>35</td></tr>\n",
       "\t<tr><td>5</td><td>Eve    </td><td>28</td></tr>\n",
       "</tbody>\n",
       "</table>\n"
      ],
      "text/latex": [
       "A data.table: 5 × 3\n",
       "\\begin{tabular}{lll}\n",
       " ID & Nome & Idade\\\\\n",
       " <int> & <chr> & <dbl>\\\\\n",
       "\\hline\n",
       "\t 1 & Alice   & 25\\\\\n",
       "\t 2 & Bob     & 30\\\\\n",
       "\t 3 & Charlie & 22\\\\\n",
       "\t 4 & David   & 35\\\\\n",
       "\t 5 & Eve     & 28\\\\\n",
       "\\end{tabular}\n"
      ],
      "text/markdown": [
       "\n",
       "A data.table: 5 × 3\n",
       "\n",
       "| ID &lt;int&gt; | Nome &lt;chr&gt; | Idade &lt;dbl&gt; |\n",
       "|---|---|---|\n",
       "| 1 | Alice   | 25 |\n",
       "| 2 | Bob     | 30 |\n",
       "| 3 | Charlie | 22 |\n",
       "| 4 | David   | 35 |\n",
       "| 5 | Eve     | 28 |\n",
       "\n"
      ],
      "text/plain": [
       "  ID Nome    Idade\n",
       "1 1  Alice   25   \n",
       "2 2  Bob     30   \n",
       "3 3  Charlie 22   \n",
       "4 4  David   35   \n",
       "5 5  Eve     28   "
      ]
     },
     "metadata": {},
     "output_type": "display_data"
    }
   ],
   "source": [
    "# Ordenando a tabela pelo nome em ordem alfabética crescente\n",
    "dt[order(Nome)]"
   ]
  },
  {
   "cell_type": "code",
   "execution_count": 50,
   "id": "f15f957a",
   "metadata": {
    "vscode": {
     "languageId": "r"
    }
   },
   "outputs": [
    {
     "data": {
      "text/html": [
       "<table class=\"dataframe\">\n",
       "<caption>A data.table: 1 × 1</caption>\n",
       "<thead>\n",
       "\t<tr><th scope=col>Media_Idade</th></tr>\n",
       "\t<tr><th scope=col>&lt;dbl&gt;</th></tr>\n",
       "</thead>\n",
       "<tbody>\n",
       "\t<tr><td>28</td></tr>\n",
       "</tbody>\n",
       "</table>\n"
      ],
      "text/latex": [
       "A data.table: 1 × 1\n",
       "\\begin{tabular}{l}\n",
       " Media\\_Idade\\\\\n",
       " <dbl>\\\\\n",
       "\\hline\n",
       "\t 28\\\\\n",
       "\\end{tabular}\n"
      ],
      "text/markdown": [
       "\n",
       "A data.table: 1 × 1\n",
       "\n",
       "| Media_Idade &lt;dbl&gt; |\n",
       "|---|\n",
       "| 28 |\n",
       "\n"
      ],
      "text/plain": [
       "  Media_Idade\n",
       "1 28         "
      ]
     },
     "metadata": {},
     "output_type": "display_data"
    }
   ],
   "source": [
    "# Calculando a média de idade\n",
    "#Na notação [,...], a parte que fica antes da vírgula (,) é usada para selecionar linhas da tabela. \n",
    "# .(): Isso cria uma nova tabela de dados temporária. A notação .() é usada para criar um objeto de tabela de dados \n",
    "# vazio no qual podemos armazenar resultados intermediários ou calcular novas colunas. \n",
    "dt[, .(Media_Idade = mean(Idade))]"
   ]
  },
  {
   "cell_type": "code",
   "execution_count": 51,
   "id": "1b53e284",
   "metadata": {
    "vscode": {
     "languageId": "r"
    }
   },
   "outputs": [
    {
     "data": {
      "text/html": [
       "<table class=\"dataframe\">\n",
       "<caption>A data.table: 5 × 3</caption>\n",
       "<thead>\n",
       "\t<tr><th scope=col>ID</th><th scope=col>Nome</th><th scope=col>Idade</th></tr>\n",
       "\t<tr><th scope=col>&lt;int&gt;</th><th scope=col>&lt;chr&gt;</th><th scope=col>&lt;dbl&gt;</th></tr>\n",
       "</thead>\n",
       "<tbody>\n",
       "\t<tr><td>1</td><td>Alice  </td><td>25</td></tr>\n",
       "\t<tr><td>2</td><td>Bob    </td><td>30</td></tr>\n",
       "\t<tr><td>3</td><td>Charlie</td><td>22</td></tr>\n",
       "\t<tr><td>4</td><td>David  </td><td>35</td></tr>\n",
       "\t<tr><td>5</td><td>Eve    </td><td>28</td></tr>\n",
       "</tbody>\n",
       "</table>\n"
      ],
      "text/latex": [
       "A data.table: 5 × 3\n",
       "\\begin{tabular}{lll}\n",
       " ID & Nome & Idade\\\\\n",
       " <int> & <chr> & <dbl>\\\\\n",
       "\\hline\n",
       "\t 1 & Alice   & 25\\\\\n",
       "\t 2 & Bob     & 30\\\\\n",
       "\t 3 & Charlie & 22\\\\\n",
       "\t 4 & David   & 35\\\\\n",
       "\t 5 & Eve     & 28\\\\\n",
       "\\end{tabular}\n"
      ],
      "text/markdown": [
       "\n",
       "A data.table: 5 × 3\n",
       "\n",
       "| ID &lt;int&gt; | Nome &lt;chr&gt; | Idade &lt;dbl&gt; |\n",
       "|---|---|---|\n",
       "| 1 | Alice   | 25 |\n",
       "| 2 | Bob     | 30 |\n",
       "| 3 | Charlie | 22 |\n",
       "| 4 | David   | 35 |\n",
       "| 5 | Eve     | 28 |\n",
       "\n"
      ],
      "text/plain": [
       "  ID Nome    Idade\n",
       "1 1  Alice   25   \n",
       "2 2  Bob     30   \n",
       "3 3  Charlie 22   \n",
       "4 4  David   35   \n",
       "5 5  Eve     28   "
      ]
     },
     "metadata": {},
     "output_type": "display_data"
    }
   ],
   "source": [
    "#O \"slice\" em um data.table é uma operação que permite selecionar um subconjunto específico de linhas e/ou colunas de uma \n",
    "#tabela de dados.\n",
    "\n",
    "dt"
   ]
  },
  {
   "cell_type": "code",
   "execution_count": 52,
   "id": "df47adec",
   "metadata": {
    "vscode": {
     "languageId": "r"
    }
   },
   "outputs": [
    {
     "data": {
      "text/html": [
       "<table class=\"dataframe\">\n",
       "<caption>A data.table: 3 × 2</caption>\n",
       "<thead>\n",
       "\t<tr><th scope=col>Nome</th><th scope=col>Idade</th></tr>\n",
       "\t<tr><th scope=col>&lt;chr&gt;</th><th scope=col>&lt;dbl&gt;</th></tr>\n",
       "</thead>\n",
       "<tbody>\n",
       "\t<tr><td>Alice  </td><td>25</td></tr>\n",
       "\t<tr><td>Bob    </td><td>30</td></tr>\n",
       "\t<tr><td>Charlie</td><td>22</td></tr>\n",
       "</tbody>\n",
       "</table>\n"
      ],
      "text/latex": [
       "A data.table: 3 × 2\n",
       "\\begin{tabular}{ll}\n",
       " Nome & Idade\\\\\n",
       " <chr> & <dbl>\\\\\n",
       "\\hline\n",
       "\t Alice   & 25\\\\\n",
       "\t Bob     & 30\\\\\n",
       "\t Charlie & 22\\\\\n",
       "\\end{tabular}\n"
      ],
      "text/markdown": [
       "\n",
       "A data.table: 3 × 2\n",
       "\n",
       "| Nome &lt;chr&gt; | Idade &lt;dbl&gt; |\n",
       "|---|---|\n",
       "| Alice   | 25 |\n",
       "| Bob     | 30 |\n",
       "| Charlie | 22 |\n",
       "\n"
      ],
      "text/plain": [
       "  Nome    Idade\n",
       "1 Alice   25   \n",
       "2 Bob     30   \n",
       "3 Charlie 22   "
      ]
     },
     "metadata": {},
     "output_type": "display_data"
    }
   ],
   "source": [
    "#Seleção de linhas e colunas específicas:\n",
    "#Selecionando linhas 1 à 3 e colunas 'nome' e 'idade'\n",
    "dt[1:3, c(\"Nome\", \"Idade\")]"
   ]
  },
  {
   "cell_type": "code",
   "execution_count": 53,
   "id": "44f29fef",
   "metadata": {
    "vscode": {
     "languageId": "r"
    }
   },
   "outputs": [
    {
     "data": {
      "text/html": [
       "<table class=\"dataframe\">\n",
       "<caption>A data.table: 3 × 3</caption>\n",
       "<thead>\n",
       "\t<tr><th scope=col>ID</th><th scope=col>Nome</th><th scope=col>Idade</th></tr>\n",
       "\t<tr><th scope=col>&lt;int&gt;</th><th scope=col>&lt;chr&gt;</th><th scope=col>&lt;dbl&gt;</th></tr>\n",
       "</thead>\n",
       "<tbody>\n",
       "\t<tr><td>2</td><td>Bob  </td><td>30</td></tr>\n",
       "\t<tr><td>4</td><td>David</td><td>35</td></tr>\n",
       "\t<tr><td>5</td><td>Eve  </td><td>28</td></tr>\n",
       "</tbody>\n",
       "</table>\n"
      ],
      "text/latex": [
       "A data.table: 3 × 3\n",
       "\\begin{tabular}{lll}\n",
       " ID & Nome & Idade\\\\\n",
       " <int> & <chr> & <dbl>\\\\\n",
       "\\hline\n",
       "\t 2 & Bob   & 30\\\\\n",
       "\t 4 & David & 35\\\\\n",
       "\t 5 & Eve   & 28\\\\\n",
       "\\end{tabular}\n"
      ],
      "text/markdown": [
       "\n",
       "A data.table: 3 × 3\n",
       "\n",
       "| ID &lt;int&gt; | Nome &lt;chr&gt; | Idade &lt;dbl&gt; |\n",
       "|---|---|---|\n",
       "| 2 | Bob   | 30 |\n",
       "| 4 | David | 35 |\n",
       "| 5 | Eve   | 28 |\n",
       "\n"
      ],
      "text/plain": [
       "  ID Nome  Idade\n",
       "1 2  Bob   30   \n",
       "2 4  David 35   \n",
       "3 5  Eve   28   "
      ]
     },
     "metadata": {},
     "output_type": "display_data"
    }
   ],
   "source": [
    "#Filtragem de linhas com base em uma condição\n",
    "dt[Idade > 25]"
   ]
  },
  {
   "cell_type": "markdown",
   "id": "9b4d04ec",
   "metadata": {},
   "source": [
    "### gsub é uma função em R que é usada para realizar substituições de padrões em strings. \n",
    "\n",
    "#### Ela é uma parte da linguagem base do R e é frequentemente utilizada para processar e manipular strings em conjuntos de dados. O nome gsub é uma abreviação de \"global substitution\" (substituição global), o que significa que a função pode substituir todas as ocorrências de um padrão dentro de uma string."
   ]
  },
  {
   "cell_type": "code",
   "execution_count": 54,
   "id": "556d3925",
   "metadata": {
    "vscode": {
     "languageId": "r"
    }
   },
   "outputs": [
    {
     "data": {
      "text/html": [
       "'Hoje é um dia ensolarado.'"
      ],
      "text/latex": [
       "'Hoje é um dia ensolarado.'"
      ],
      "text/markdown": [
       "'Hoje é um dia ensolarado.'"
      ],
      "text/plain": [
       "[1] \"Hoje é um dia ensolarado.\""
      ]
     },
     "metadata": {},
     "output_type": "display_data"
    }
   ],
   "source": [
    "#exemplos de uso da função gsub:\n",
    "texto <- \"Hoje é um dia ensolarado.\"\n",
    "texto"
   ]
  },
  {
   "cell_type": "code",
   "execution_count": 55,
   "id": "dccadc7c",
   "metadata": {
    "vscode": {
     "languageId": "r"
    }
   },
   "outputs": [
    {
     "data": {
      "text/html": [
       "'Hoje é um dia chuvoso.'"
      ],
      "text/latex": [
       "'Hoje é um dia chuvoso.'"
      ],
      "text/markdown": [
       "'Hoje é um dia chuvoso.'"
      ],
      "text/plain": [
       "[1] \"Hoje é um dia chuvoso.\""
      ]
     },
     "metadata": {},
     "output_type": "display_data"
    }
   ],
   "source": [
    "novo_texto <- gsub(\"ensolarado\", \"chuvoso\", texto)\n",
    "novo_texto"
   ]
  },
  {
   "cell_type": "code",
   "execution_count": 56,
   "id": "4b49e95f",
   "metadata": {
    "vscode": {
     "languageId": "r"
    }
   },
   "outputs": [
    {
     "data": {
      "text/html": [
       "<style>\n",
       ".list-inline {list-style: none; margin:0; padding: 0}\n",
       ".list-inline>li {display: inline-block}\n",
       ".list-inline>li:not(:last-child)::after {content: \"\\00b7\"; padding: 0 .5ex}\n",
       "</style>\n",
       "<ol class=list-inline><li>'gato'</li><li>'cachorro'</li><li>'gato preto'</li><li>'gato branco'</li></ol>\n"
      ],
      "text/latex": [
       "\\begin{enumerate*}\n",
       "\\item 'gato'\n",
       "\\item 'cachorro'\n",
       "\\item 'gato preto'\n",
       "\\item 'gato branco'\n",
       "\\end{enumerate*}\n"
      ],
      "text/markdown": [
       "1. 'gato'\n",
       "2. 'cachorro'\n",
       "3. 'gato preto'\n",
       "4. 'gato branco'\n",
       "\n",
       "\n"
      ],
      "text/plain": [
       "[1] \"gato\"        \"cachorro\"    \"gato preto\"  \"gato branco\""
      ]
     },
     "metadata": {},
     "output_type": "display_data"
    }
   ],
   "source": [
    "# Substituição em um vetor de strings:\n",
    "palavras <- c(\"gato\", \"cachorro\", \"gato preto\", \"gato branco\")\n",
    "palavras"
   ]
  },
  {
   "cell_type": "code",
   "execution_count": 57,
   "id": "e5f12508",
   "metadata": {
    "vscode": {
     "languageId": "r"
    }
   },
   "outputs": [
    {
     "data": {
      "text/html": [
       "<style>\n",
       ".list-inline {list-style: none; margin:0; padding: 0}\n",
       ".list-inline>li {display: inline-block}\n",
       ".list-inline>li:not(:last-child)::after {content: \"\\00b7\"; padding: 0 .5ex}\n",
       "</style>\n",
       "<ol class=list-inline><li>'felino'</li><li>'cachorro'</li><li>'felino preto'</li><li>'felino branco'</li></ol>\n"
      ],
      "text/latex": [
       "\\begin{enumerate*}\n",
       "\\item 'felino'\n",
       "\\item 'cachorro'\n",
       "\\item 'felino preto'\n",
       "\\item 'felino branco'\n",
       "\\end{enumerate*}\n"
      ],
      "text/markdown": [
       "1. 'felino'\n",
       "2. 'cachorro'\n",
       "3. 'felino preto'\n",
       "4. 'felino branco'\n",
       "\n",
       "\n"
      ],
      "text/plain": [
       "[1] \"felino\"        \"cachorro\"      \"felino preto\"  \"felino branco\""
      ]
     },
     "metadata": {},
     "output_type": "display_data"
    }
   ],
   "source": [
    "#Neste exemplo, a função gsub está substituindo a palavra \"gato\" por \"felino\" em todas as strings do vetor palavras.\n",
    "novas_palavras <- gsub(\"gato\", \"felino\", palavras)\n",
    "novas_palavras"
   ]
  },
  {
   "cell_type": "markdown",
   "id": "2aa77b1b",
   "metadata": {},
   "source": [
    "### A função subset é uma função em R que é usada para criar subconjuntos de dados a partir de um data frame ou uma tabela de dados (incluindo objetos data.frame e data.table). Ela permite filtrar com base em condições específicas."
   ]
  },
  {
   "cell_type": "code",
   "execution_count": 58,
   "id": "ce4803dc",
   "metadata": {
    "vscode": {
     "languageId": "r"
    }
   },
   "outputs": [
    {
     "data": {
      "text/html": [
       "<table class=\"dataframe\">\n",
       "<caption>A tibble: 8 × 6</caption>\n",
       "<thead>\n",
       "\t<tr><th scope=col>Paciente</th><th scope=col>Idade da gestante</th><th scope=col>Idade gestacional em semanas</th><th scope=col>dias entre infeccao e parto</th><th scope=col>Condicoes medicas</th><th scope=col>Valor</th></tr>\n",
       "\t<tr><th scope=col>&lt;chr&gt;</th><th scope=col>&lt;dbl&gt;</th><th scope=col>&lt;dbl&gt;</th><th scope=col>&lt;dbl&gt;</th><th scope=col>&lt;chr&gt;</th><th scope=col>&lt;dbl&gt;</th></tr>\n",
       "</thead>\n",
       "<tbody>\n",
       "\t<tr><td>F</td><td>28</td><td>25</td><td> 76</td><td>Diabetes mellitus tipo 2                                                                          </td><td>2</td></tr>\n",
       "\t<tr><td>H</td><td>26</td><td>32</td><td> 42</td><td>Toxoplasmose aguda e hipotireoidismo                                                              </td><td>2</td></tr>\n",
       "\t<tr><td>I</td><td>22</td><td>34</td><td> 33</td><td>Asma, transtorno de ansiedade generalizada e obesidade                                            </td><td>2</td></tr>\n",
       "\t<tr><td>K</td><td>30</td><td>30</td><td> 46</td><td>Pre eclampsia e diabetes mellitus gestacional, obesidade e infeccao do trato urinario de repeticao</td><td>2</td></tr>\n",
       "\t<tr><td>M</td><td>34</td><td>34</td><td> 26</td><td>Nao informado                                                                                     </td><td>2</td></tr>\n",
       "\t<tr><td>N</td><td>39</td><td> 8</td><td>231</td><td>Nao informado                                                                                     </td><td>2</td></tr>\n",
       "\t<tr><td>O</td><td>26</td><td>21</td><td> 74</td><td>Diabetes mellitus gestacional, obesidade e hipotireoidismo                                        </td><td>2</td></tr>\n",
       "\t<tr><td>P</td><td>NA</td><td>NA</td><td> 53</td><td>Nao informado                                                                                     </td><td>2</td></tr>\n",
       "</tbody>\n",
       "</table>\n"
      ],
      "text/latex": [
       "A tibble: 8 × 6\n",
       "\\begin{tabular}{llllll}\n",
       " Paciente & Idade da gestante & Idade gestacional em semanas & dias entre infeccao e parto & Condicoes medicas & Valor\\\\\n",
       " <chr> & <dbl> & <dbl> & <dbl> & <chr> & <dbl>\\\\\n",
       "\\hline\n",
       "\t F & 28 & 25 &  76 & Diabetes mellitus tipo 2                                                                           & 2\\\\\n",
       "\t H & 26 & 32 &  42 & Toxoplasmose aguda e hipotireoidismo                                                               & 2\\\\\n",
       "\t I & 22 & 34 &  33 & Asma, transtorno de ansiedade generalizada e obesidade                                             & 2\\\\\n",
       "\t K & 30 & 30 &  46 & Pre eclampsia e diabetes mellitus gestacional, obesidade e infeccao do trato urinario de repeticao & 2\\\\\n",
       "\t M & 34 & 34 &  26 & Nao informado                                                                                      & 2\\\\\n",
       "\t N & 39 &  8 & 231 & Nao informado                                                                                      & 2\\\\\n",
       "\t O & 26 & 21 &  74 & Diabetes mellitus gestacional, obesidade e hipotireoidismo                                         & 2\\\\\n",
       "\t P & NA & NA &  53 & Nao informado                                                                                      & 2\\\\\n",
       "\\end{tabular}\n"
      ],
      "text/markdown": [
       "\n",
       "A tibble: 8 × 6\n",
       "\n",
       "| Paciente &lt;chr&gt; | Idade da gestante &lt;dbl&gt; | Idade gestacional em semanas &lt;dbl&gt; | dias entre infeccao e parto &lt;dbl&gt; | Condicoes medicas &lt;chr&gt; | Valor &lt;dbl&gt; |\n",
       "|---|---|---|---|---|---|\n",
       "| F | 28 | 25 |  76 | Diabetes mellitus tipo 2                                                                           | 2 |\n",
       "| H | 26 | 32 |  42 | Toxoplasmose aguda e hipotireoidismo                                                               | 2 |\n",
       "| I | 22 | 34 |  33 | Asma, transtorno de ansiedade generalizada e obesidade                                             | 2 |\n",
       "| K | 30 | 30 |  46 | Pre eclampsia e diabetes mellitus gestacional, obesidade e infeccao do trato urinario de repeticao | 2 |\n",
       "| M | 34 | 34 |  26 | Nao informado                                                                                      | 2 |\n",
       "| N | 39 |  8 | 231 | Nao informado                                                                                      | 2 |\n",
       "| O | 26 | 21 |  74 | Diabetes mellitus gestacional, obesidade e hipotireoidismo                                         | 2 |\n",
       "| P | NA | NA |  53 | Nao informado                                                                                      | 2 |\n",
       "\n"
      ],
      "text/plain": [
       "  Paciente Idade da gestante Idade gestacional em semanas\n",
       "1 F        28                25                          \n",
       "2 H        26                32                          \n",
       "3 I        22                34                          \n",
       "4 K        30                30                          \n",
       "5 M        34                34                          \n",
       "6 N        39                 8                          \n",
       "7 O        26                21                          \n",
       "8 P        NA                NA                          \n",
       "  dias entre infeccao e parto\n",
       "1  76                        \n",
       "2  42                        \n",
       "3  33                        \n",
       "4  46                        \n",
       "5  26                        \n",
       "6 231                        \n",
       "7  74                        \n",
       "8  53                        \n",
       "  Condicoes medicas                                                                                 \n",
       "1 Diabetes mellitus tipo 2                                                                          \n",
       "2 Toxoplasmose aguda e hipotireoidismo                                                              \n",
       "3 Asma, transtorno de ansiedade generalizada e obesidade                                            \n",
       "4 Pre eclampsia e diabetes mellitus gestacional, obesidade e infeccao do trato urinario de repeticao\n",
       "5 Nao informado                                                                                     \n",
       "6 Nao informado                                                                                     \n",
       "7 Diabetes mellitus gestacional, obesidade e hipotireoidismo                                        \n",
       "8 Nao informado                                                                                     \n",
       "  Valor\n",
       "1 2    \n",
       "2 2    \n",
       "3 2    \n",
       "4 2    \n",
       "5 2    \n",
       "6 2    \n",
       "7 2    \n",
       "8 2    "
      ]
     },
     "metadata": {},
     "output_type": "display_data"
    }
   ],
   "source": [
    "#Subconjunto de linhas com base em uma condição:\n",
    "# dias entre infeccao e parto maior que 25\n",
    "subconjunto_linhas <- subset(DF2, `dias entre infeccao e parto` > 25)\n",
    "subconjunto_linhas"
   ]
  },
  {
   "cell_type": "code",
   "execution_count": 59,
   "id": "2415ff6d",
   "metadata": {
    "vscode": {
     "languageId": "r"
    }
   },
   "outputs": [
    {
     "data": {
      "text/html": [
       "<table class=\"dataframe\">\n",
       "<caption>A tibble: 2 × 6</caption>\n",
       "<thead>\n",
       "\t<tr><th scope=col>Paciente</th><th scope=col>Idade da gestante</th><th scope=col>Idade gestacional em semanas</th><th scope=col>dias entre infeccao e parto</th><th scope=col>Condicoes medicas</th><th scope=col>Valor</th></tr>\n",
       "\t<tr><th scope=col>&lt;chr&gt;</th><th scope=col>&lt;dbl&gt;</th><th scope=col>&lt;dbl&gt;</th><th scope=col>&lt;dbl&gt;</th><th scope=col>&lt;chr&gt;</th><th scope=col>&lt;dbl&gt;</th></tr>\n",
       "</thead>\n",
       "<tbody>\n",
       "\t<tr><td>F</td><td>28</td><td>25</td><td>76</td><td>Diabetes mellitus tipo 2            </td><td>2</td></tr>\n",
       "\t<tr><td>H</td><td>26</td><td>32</td><td>42</td><td>Toxoplasmose aguda e hipotireoidismo</td><td>2</td></tr>\n",
       "</tbody>\n",
       "</table>\n"
      ],
      "text/latex": [
       "A tibble: 2 × 6\n",
       "\\begin{tabular}{llllll}\n",
       " Paciente & Idade da gestante & Idade gestacional em semanas & dias entre infeccao e parto & Condicoes medicas & Valor\\\\\n",
       " <chr> & <dbl> & <dbl> & <dbl> & <chr> & <dbl>\\\\\n",
       "\\hline\n",
       "\t F & 28 & 25 & 76 & Diabetes mellitus tipo 2             & 2\\\\\n",
       "\t H & 26 & 32 & 42 & Toxoplasmose aguda e hipotireoidismo & 2\\\\\n",
       "\\end{tabular}\n"
      ],
      "text/markdown": [
       "\n",
       "A tibble: 2 × 6\n",
       "\n",
       "| Paciente &lt;chr&gt; | Idade da gestante &lt;dbl&gt; | Idade gestacional em semanas &lt;dbl&gt; | dias entre infeccao e parto &lt;dbl&gt; | Condicoes medicas &lt;chr&gt; | Valor &lt;dbl&gt; |\n",
       "|---|---|---|---|---|---|\n",
       "| F | 28 | 25 | 76 | Diabetes mellitus tipo 2             | 2 |\n",
       "| H | 26 | 32 | 42 | Toxoplasmose aguda e hipotireoidismo | 2 |\n",
       "\n"
      ],
      "text/plain": [
       "  Paciente Idade da gestante Idade gestacional em semanas\n",
       "1 F        28                25                          \n",
       "2 H        26                32                          \n",
       "  dias entre infeccao e parto Condicoes medicas                    Valor\n",
       "1 76                          Diabetes mellitus tipo 2             2    \n",
       "2 42                          Toxoplasmose aguda e hipotireoidismo 2    "
      ]
     },
     "metadata": {},
     "output_type": "display_data"
    }
   ],
   "source": [
    "#O operador %in% é usado para verificar se um elemento está presente em um vetor ou conjunto de elementos\n",
    "subconjunto_linhas1 <- subset(DF2, Paciente %in% c('F', 'H'))\n",
    "subconjunto_linhas1"
   ]
  },
  {
   "cell_type": "code",
   "execution_count": 60,
   "id": "f0343c7f",
   "metadata": {
    "vscode": {
     "languageId": "r"
    }
   },
   "outputs": [
    {
     "data": {
      "text/html": [
       "<table class=\"dataframe\">\n",
       "<caption>A tibble: 8 × 2</caption>\n",
       "<thead>\n",
       "\t<tr><th scope=col>Paciente</th><th scope=col>dias entre infeccao e parto</th></tr>\n",
       "\t<tr><th scope=col>&lt;chr&gt;</th><th scope=col>&lt;dbl&gt;</th></tr>\n",
       "</thead>\n",
       "<tbody>\n",
       "\t<tr><td>F</td><td> 76</td></tr>\n",
       "\t<tr><td>H</td><td> 42</td></tr>\n",
       "\t<tr><td>I</td><td> 33</td></tr>\n",
       "\t<tr><td>K</td><td> 46</td></tr>\n",
       "\t<tr><td>M</td><td> 26</td></tr>\n",
       "\t<tr><td>N</td><td>231</td></tr>\n",
       "\t<tr><td>O</td><td> 74</td></tr>\n",
       "\t<tr><td>P</td><td> 53</td></tr>\n",
       "</tbody>\n",
       "</table>\n"
      ],
      "text/latex": [
       "A tibble: 8 × 2\n",
       "\\begin{tabular}{ll}\n",
       " Paciente & dias entre infeccao e parto\\\\\n",
       " <chr> & <dbl>\\\\\n",
       "\\hline\n",
       "\t F &  76\\\\\n",
       "\t H &  42\\\\\n",
       "\t I &  33\\\\\n",
       "\t K &  46\\\\\n",
       "\t M &  26\\\\\n",
       "\t N & 231\\\\\n",
       "\t O &  74\\\\\n",
       "\t P &  53\\\\\n",
       "\\end{tabular}\n"
      ],
      "text/markdown": [
       "\n",
       "A tibble: 8 × 2\n",
       "\n",
       "| Paciente &lt;chr&gt; | dias entre infeccao e parto &lt;dbl&gt; |\n",
       "|---|---|\n",
       "| F |  76 |\n",
       "| H |  42 |\n",
       "| I |  33 |\n",
       "| K |  46 |\n",
       "| M |  26 |\n",
       "| N | 231 |\n",
       "| O |  74 |\n",
       "| P |  53 |\n",
       "\n"
      ],
      "text/plain": [
       "  Paciente dias entre infeccao e parto\n",
       "1 F         76                        \n",
       "2 H         42                        \n",
       "3 I         33                        \n",
       "4 K         46                        \n",
       "5 M         26                        \n",
       "6 N        231                        \n",
       "7 O         74                        \n",
       "8 P         53                        "
      ]
     },
     "metadata": {},
     "output_type": "display_data"
    }
   ],
   "source": [
    "#Seleção de colunas específicas no subconjunto:\n",
    "#Selecionando apenas as colunas paciente e dias entre infeccao e parto\n",
    "subconjunto_colunas <- subset(DF2, `dias entre infeccao e parto` > 25, select = c(Paciente, `dias entre infeccao e parto`))\n",
    "subconjunto_colunas"
   ]
  },
  {
   "cell_type": "markdown",
   "id": "24a01f2a",
   "metadata": {},
   "source": [
    "### cbind e rbind são funções em R usadas para combinar objetos em formato de tabela (geralmente data frames ou matrizes) ao longo de suas colunas (cbind) ou linhas (rbind).\n",
    "\n",
    "### cbind - Combinar por Colunas:\n",
    "\n",
    "**A função cbind (abreviação de \"column bind\") é usada para combinar objetos, como data frames ou matrizes, ao longo de suas colunas. Ela cria uma nova tabela de dados ou matriz onde os objetos originais são concatenados lado a lado, ou seja, as colunas são unidas.**\n",
    "\n",
    "## rbind - Combinar por Linhas:\n",
    "\n",
    "**A função rbind (abreviação de \"row bind\") é usada para combinar objetos, como data frames ou matrizes, ao longo de suas linhas. Ela cria uma nova tabela de dados ou matriz onde os objetos originais são empilhados verticalmente, ou seja, as linhas são unidas.**\n"
   ]
  },
  {
   "cell_type": "code",
   "execution_count": 61,
   "id": "643b45ca",
   "metadata": {
    "vscode": {
     "languageId": "r"
    }
   },
   "outputs": [
    {
     "data": {
      "text/html": [
       "<table class=\"dataframe\">\n",
       "<caption>A data.frame: 17 × 12</caption>\n",
       "<thead>\n",
       "\t<tr><th scope=col>Paciente</th><th scope=col>Idade da gestante</th><th scope=col>Idade gestacional em semanas</th><th scope=col>dias entre infeccao e parto</th><th scope=col>Condicoes medicas</th><th scope=col>Valor</th><th scope=col>Paciente</th><th scope=col>Idade da gestante</th><th scope=col>Idade gestacional em semanas</th><th scope=col>dias entre infeccao e parto</th><th scope=col>Condicoes medicas</th><th scope=col>Valor</th></tr>\n",
       "\t<tr><th scope=col>&lt;chr&gt;</th><th scope=col>&lt;dbl&gt;</th><th scope=col>&lt;dbl&gt;</th><th scope=col>&lt;dbl&gt;</th><th scope=col>&lt;chr&gt;</th><th scope=col>&lt;dbl&gt;</th><th scope=col>&lt;chr&gt;</th><th scope=col>&lt;dbl&gt;</th><th scope=col>&lt;dbl&gt;</th><th scope=col>&lt;dbl&gt;</th><th scope=col>&lt;chr&gt;</th><th scope=col>&lt;dbl&gt;</th></tr>\n",
       "</thead>\n",
       "<tbody>\n",
       "\t<tr><td>A</td><td>45</td><td>26</td><td>  3</td><td>Pre eclampsia e diabetes mellitus gestacional                                                                                            </td><td>2</td><td>A</td><td>45</td><td>26</td><td>  3</td><td>Pre eclampsia e diabetes mellitus gestacional                                                                                            </td><td>2</td></tr>\n",
       "\t<tr><td>B</td><td>38</td><td>28</td><td>  3</td><td>Hipotireoidismo pre gestacional                                                                                                          </td><td>2</td><td>B</td><td>38</td><td>28</td><td>  3</td><td>Hipotireoidismo pre gestacional                                                                                                          </td><td>2</td></tr>\n",
       "\t<tr><td>C</td><td>29</td><td>34</td><td>  0</td><td>Diabetes mellitus gestacional, obesidade, hipotireoidismo, ex usuaria de substancia psicoativa e historico de sifilis devidamente tratada</td><td>2</td><td>C</td><td>29</td><td>34</td><td>  0</td><td>Diabetes mellitus gestacional, obesidade, hipotireoidismo, ex usuaria de substancia psicoativa e historico de sifilis devidamente tratada</td><td>2</td></tr>\n",
       "\t<tr><td>D</td><td>37</td><td>34</td><td>  0</td><td>Transtorno de ansiedade generalizada                                                                                                     </td><td>2</td><td>D</td><td>37</td><td>34</td><td>  0</td><td>Transtorno de ansiedade generalizada                                                                                                     </td><td>2</td></tr>\n",
       "\t<tr><td>E</td><td>23</td><td>36</td><td>  0</td><td>Nao informado                                                                                                                            </td><td>2</td><td>E</td><td>23</td><td>36</td><td>  0</td><td>Nao informado                                                                                                                            </td><td>2</td></tr>\n",
       "\t<tr><td>F</td><td>28</td><td>25</td><td> 76</td><td>Diabetes mellitus tipo 2                                                                                                                 </td><td>2</td><td>F</td><td>28</td><td>25</td><td> 76</td><td>Diabetes mellitus tipo 2                                                                                                                 </td><td>2</td></tr>\n",
       "\t<tr><td>G</td><td>22</td><td>35</td><td>  4</td><td>Diabetes mellitus gestacional, obesidade e hipotireoidismo                                                                               </td><td>2</td><td>G</td><td>22</td><td>35</td><td>  4</td><td>Diabetes mellitus gestacional, obesidade e hipotireoidismo                                                                               </td><td>2</td></tr>\n",
       "\t<tr><td>H</td><td>26</td><td>32</td><td> 42</td><td>Toxoplasmose aguda e hipotireoidismo                                                                                                     </td><td>2</td><td>H</td><td>26</td><td>32</td><td> 42</td><td>Toxoplasmose aguda e hipotireoidismo                                                                                                     </td><td>2</td></tr>\n",
       "\t<tr><td>I</td><td>22</td><td>34</td><td> 33</td><td>Asma, transtorno de ansiedade generalizada e obesidade                                                                                   </td><td>2</td><td>I</td><td>22</td><td>34</td><td> 33</td><td>Asma, transtorno de ansiedade generalizada e obesidade                                                                                   </td><td>2</td></tr>\n",
       "\t<tr><td>J</td><td>32</td><td>38</td><td>  0</td><td>Nao informado                                                                                                                            </td><td>2</td><td>J</td><td>32</td><td>38</td><td>  0</td><td>Nao informado                                                                                                                            </td><td>2</td></tr>\n",
       "\t<tr><td>K</td><td>30</td><td>30</td><td> 46</td><td>Pre eclampsia e diabetes mellitus gestacional, obesidade e infeccao do trato urinario de repeticao                                       </td><td>2</td><td>K</td><td>30</td><td>30</td><td> 46</td><td>Pre eclampsia e diabetes mellitus gestacional, obesidade e infeccao do trato urinario de repeticao                                       </td><td>2</td></tr>\n",
       "\t<tr><td>L</td><td>27</td><td>37</td><td> 12</td><td>Diabetes mellitus gestacional                                                                                                            </td><td>2</td><td>L</td><td>27</td><td>37</td><td> 12</td><td>Diabetes mellitus gestacional                                                                                                            </td><td>2</td></tr>\n",
       "\t<tr><td>M</td><td>34</td><td>34</td><td> 26</td><td>Nao informado                                                                                                                            </td><td>2</td><td>M</td><td>34</td><td>34</td><td> 26</td><td>Nao informado                                                                                                                            </td><td>2</td></tr>\n",
       "\t<tr><td>N</td><td>39</td><td> 8</td><td>231</td><td>Nao informado                                                                                                                            </td><td>2</td><td>N</td><td>39</td><td> 8</td><td>231</td><td>Nao informado                                                                                                                            </td><td>2</td></tr>\n",
       "\t<tr><td>O</td><td>26</td><td>21</td><td> 74</td><td>Diabetes mellitus gestacional, obesidade e hipotireoidismo                                                                               </td><td>2</td><td>O</td><td>26</td><td>21</td><td> 74</td><td>Diabetes mellitus gestacional, obesidade e hipotireoidismo                                                                               </td><td>2</td></tr>\n",
       "\t<tr><td>P</td><td>NA</td><td>NA</td><td> 53</td><td>Nao informado                                                                                                                            </td><td>2</td><td>P</td><td>NA</td><td>NA</td><td> 53</td><td>Nao informado                                                                                                                            </td><td>2</td></tr>\n",
       "\t<tr><td>Q</td><td>NA</td><td>NA</td><td>  6</td><td>Nao informado                                                                                                                            </td><td>2</td><td>Q</td><td>NA</td><td>NA</td><td>  6</td><td>Nao informado                                                                                                                            </td><td>2</td></tr>\n",
       "</tbody>\n",
       "</table>\n"
      ],
      "text/latex": [
       "A data.frame: 17 × 12\n",
       "\\begin{tabular}{llllllllllll}\n",
       " Paciente & Idade da gestante & Idade gestacional em semanas & dias entre infeccao e parto & Condicoes medicas & Valor & Paciente & Idade da gestante & Idade gestacional em semanas & dias entre infeccao e parto & Condicoes medicas & Valor\\\\\n",
       " <chr> & <dbl> & <dbl> & <dbl> & <chr> & <dbl> & <chr> & <dbl> & <dbl> & <dbl> & <chr> & <dbl>\\\\\n",
       "\\hline\n",
       "\t A & 45 & 26 &   3 & Pre eclampsia e diabetes mellitus gestacional                                                                                             & 2 & A & 45 & 26 &   3 & Pre eclampsia e diabetes mellitus gestacional                                                                                             & 2\\\\\n",
       "\t B & 38 & 28 &   3 & Hipotireoidismo pre gestacional                                                                                                           & 2 & B & 38 & 28 &   3 & Hipotireoidismo pre gestacional                                                                                                           & 2\\\\\n",
       "\t C & 29 & 34 &   0 & Diabetes mellitus gestacional, obesidade, hipotireoidismo, ex usuaria de substancia psicoativa e historico de sifilis devidamente tratada & 2 & C & 29 & 34 &   0 & Diabetes mellitus gestacional, obesidade, hipotireoidismo, ex usuaria de substancia psicoativa e historico de sifilis devidamente tratada & 2\\\\\n",
       "\t D & 37 & 34 &   0 & Transtorno de ansiedade generalizada                                                                                                      & 2 & D & 37 & 34 &   0 & Transtorno de ansiedade generalizada                                                                                                      & 2\\\\\n",
       "\t E & 23 & 36 &   0 & Nao informado                                                                                                                             & 2 & E & 23 & 36 &   0 & Nao informado                                                                                                                             & 2\\\\\n",
       "\t F & 28 & 25 &  76 & Diabetes mellitus tipo 2                                                                                                                  & 2 & F & 28 & 25 &  76 & Diabetes mellitus tipo 2                                                                                                                  & 2\\\\\n",
       "\t G & 22 & 35 &   4 & Diabetes mellitus gestacional, obesidade e hipotireoidismo                                                                                & 2 & G & 22 & 35 &   4 & Diabetes mellitus gestacional, obesidade e hipotireoidismo                                                                                & 2\\\\\n",
       "\t H & 26 & 32 &  42 & Toxoplasmose aguda e hipotireoidismo                                                                                                      & 2 & H & 26 & 32 &  42 & Toxoplasmose aguda e hipotireoidismo                                                                                                      & 2\\\\\n",
       "\t I & 22 & 34 &  33 & Asma, transtorno de ansiedade generalizada e obesidade                                                                                    & 2 & I & 22 & 34 &  33 & Asma, transtorno de ansiedade generalizada e obesidade                                                                                    & 2\\\\\n",
       "\t J & 32 & 38 &   0 & Nao informado                                                                                                                             & 2 & J & 32 & 38 &   0 & Nao informado                                                                                                                             & 2\\\\\n",
       "\t K & 30 & 30 &  46 & Pre eclampsia e diabetes mellitus gestacional, obesidade e infeccao do trato urinario de repeticao                                        & 2 & K & 30 & 30 &  46 & Pre eclampsia e diabetes mellitus gestacional, obesidade e infeccao do trato urinario de repeticao                                        & 2\\\\\n",
       "\t L & 27 & 37 &  12 & Diabetes mellitus gestacional                                                                                                             & 2 & L & 27 & 37 &  12 & Diabetes mellitus gestacional                                                                                                             & 2\\\\\n",
       "\t M & 34 & 34 &  26 & Nao informado                                                                                                                             & 2 & M & 34 & 34 &  26 & Nao informado                                                                                                                             & 2\\\\\n",
       "\t N & 39 &  8 & 231 & Nao informado                                                                                                                             & 2 & N & 39 &  8 & 231 & Nao informado                                                                                                                             & 2\\\\\n",
       "\t O & 26 & 21 &  74 & Diabetes mellitus gestacional, obesidade e hipotireoidismo                                                                                & 2 & O & 26 & 21 &  74 & Diabetes mellitus gestacional, obesidade e hipotireoidismo                                                                                & 2\\\\\n",
       "\t P & NA & NA &  53 & Nao informado                                                                                                                             & 2 & P & NA & NA &  53 & Nao informado                                                                                                                             & 2\\\\\n",
       "\t Q & NA & NA &   6 & Nao informado                                                                                                                             & 2 & Q & NA & NA &   6 & Nao informado                                                                                                                             & 2\\\\\n",
       "\\end{tabular}\n"
      ],
      "text/markdown": [
       "\n",
       "A data.frame: 17 × 12\n",
       "\n",
       "| Paciente &lt;chr&gt; | Idade da gestante &lt;dbl&gt; | Idade gestacional em semanas &lt;dbl&gt; | dias entre infeccao e parto &lt;dbl&gt; | Condicoes medicas &lt;chr&gt; | Valor &lt;dbl&gt; | Paciente &lt;chr&gt; | Idade da gestante &lt;dbl&gt; | Idade gestacional em semanas &lt;dbl&gt; | dias entre infeccao e parto &lt;dbl&gt; | Condicoes medicas &lt;chr&gt; | Valor &lt;dbl&gt; |\n",
       "|---|---|---|---|---|---|---|---|---|---|---|---|\n",
       "| A | 45 | 26 |   3 | Pre eclampsia e diabetes mellitus gestacional                                                                                             | 2 | A | 45 | 26 |   3 | Pre eclampsia e diabetes mellitus gestacional                                                                                             | 2 |\n",
       "| B | 38 | 28 |   3 | Hipotireoidismo pre gestacional                                                                                                           | 2 | B | 38 | 28 |   3 | Hipotireoidismo pre gestacional                                                                                                           | 2 |\n",
       "| C | 29 | 34 |   0 | Diabetes mellitus gestacional, obesidade, hipotireoidismo, ex usuaria de substancia psicoativa e historico de sifilis devidamente tratada | 2 | C | 29 | 34 |   0 | Diabetes mellitus gestacional, obesidade, hipotireoidismo, ex usuaria de substancia psicoativa e historico de sifilis devidamente tratada | 2 |\n",
       "| D | 37 | 34 |   0 | Transtorno de ansiedade generalizada                                                                                                      | 2 | D | 37 | 34 |   0 | Transtorno de ansiedade generalizada                                                                                                      | 2 |\n",
       "| E | 23 | 36 |   0 | Nao informado                                                                                                                             | 2 | E | 23 | 36 |   0 | Nao informado                                                                                                                             | 2 |\n",
       "| F | 28 | 25 |  76 | Diabetes mellitus tipo 2                                                                                                                  | 2 | F | 28 | 25 |  76 | Diabetes mellitus tipo 2                                                                                                                  | 2 |\n",
       "| G | 22 | 35 |   4 | Diabetes mellitus gestacional, obesidade e hipotireoidismo                                                                                | 2 | G | 22 | 35 |   4 | Diabetes mellitus gestacional, obesidade e hipotireoidismo                                                                                | 2 |\n",
       "| H | 26 | 32 |  42 | Toxoplasmose aguda e hipotireoidismo                                                                                                      | 2 | H | 26 | 32 |  42 | Toxoplasmose aguda e hipotireoidismo                                                                                                      | 2 |\n",
       "| I | 22 | 34 |  33 | Asma, transtorno de ansiedade generalizada e obesidade                                                                                    | 2 | I | 22 | 34 |  33 | Asma, transtorno de ansiedade generalizada e obesidade                                                                                    | 2 |\n",
       "| J | 32 | 38 |   0 | Nao informado                                                                                                                             | 2 | J | 32 | 38 |   0 | Nao informado                                                                                                                             | 2 |\n",
       "| K | 30 | 30 |  46 | Pre eclampsia e diabetes mellitus gestacional, obesidade e infeccao do trato urinario de repeticao                                        | 2 | K | 30 | 30 |  46 | Pre eclampsia e diabetes mellitus gestacional, obesidade e infeccao do trato urinario de repeticao                                        | 2 |\n",
       "| L | 27 | 37 |  12 | Diabetes mellitus gestacional                                                                                                             | 2 | L | 27 | 37 |  12 | Diabetes mellitus gestacional                                                                                                             | 2 |\n",
       "| M | 34 | 34 |  26 | Nao informado                                                                                                                             | 2 | M | 34 | 34 |  26 | Nao informado                                                                                                                             | 2 |\n",
       "| N | 39 |  8 | 231 | Nao informado                                                                                                                             | 2 | N | 39 |  8 | 231 | Nao informado                                                                                                                             | 2 |\n",
       "| O | 26 | 21 |  74 | Diabetes mellitus gestacional, obesidade e hipotireoidismo                                                                                | 2 | O | 26 | 21 |  74 | Diabetes mellitus gestacional, obesidade e hipotireoidismo                                                                                | 2 |\n",
       "| P | NA | NA |  53 | Nao informado                                                                                                                             | 2 | P | NA | NA |  53 | Nao informado                                                                                                                             | 2 |\n",
       "| Q | NA | NA |   6 | Nao informado                                                                                                                             | 2 | Q | NA | NA |   6 | Nao informado                                                                                                                             | 2 |\n",
       "\n"
      ],
      "text/plain": [
       "   Paciente Idade da gestante Idade gestacional em semanas\n",
       "1  A        45                26                          \n",
       "2  B        38                28                          \n",
       "3  C        29                34                          \n",
       "4  D        37                34                          \n",
       "5  E        23                36                          \n",
       "6  F        28                25                          \n",
       "7  G        22                35                          \n",
       "8  H        26                32                          \n",
       "9  I        22                34                          \n",
       "10 J        32                38                          \n",
       "11 K        30                30                          \n",
       "12 L        27                37                          \n",
       "13 M        34                34                          \n",
       "14 N        39                 8                          \n",
       "15 O        26                21                          \n",
       "16 P        NA                NA                          \n",
       "17 Q        NA                NA                          \n",
       "   dias entre infeccao e parto\n",
       "1    3                        \n",
       "2    3                        \n",
       "3    0                        \n",
       "4    0                        \n",
       "5    0                        \n",
       "6   76                        \n",
       "7    4                        \n",
       "8   42                        \n",
       "9   33                        \n",
       "10   0                        \n",
       "11  46                        \n",
       "12  12                        \n",
       "13  26                        \n",
       "14 231                        \n",
       "15  74                        \n",
       "16  53                        \n",
       "17   6                        \n",
       "   Condicoes medicas                                                                                                                        \n",
       "1  Pre eclampsia e diabetes mellitus gestacional                                                                                            \n",
       "2  Hipotireoidismo pre gestacional                                                                                                          \n",
       "3  Diabetes mellitus gestacional, obesidade, hipotireoidismo, ex usuaria de substancia psicoativa e historico de sifilis devidamente tratada\n",
       "4  Transtorno de ansiedade generalizada                                                                                                     \n",
       "5  Nao informado                                                                                                                            \n",
       "6  Diabetes mellitus tipo 2                                                                                                                 \n",
       "7  Diabetes mellitus gestacional, obesidade e hipotireoidismo                                                                               \n",
       "8  Toxoplasmose aguda e hipotireoidismo                                                                                                     \n",
       "9  Asma, transtorno de ansiedade generalizada e obesidade                                                                                   \n",
       "10 Nao informado                                                                                                                            \n",
       "11 Pre eclampsia e diabetes mellitus gestacional, obesidade e infeccao do trato urinario de repeticao                                       \n",
       "12 Diabetes mellitus gestacional                                                                                                            \n",
       "13 Nao informado                                                                                                                            \n",
       "14 Nao informado                                                                                                                            \n",
       "15 Diabetes mellitus gestacional, obesidade e hipotireoidismo                                                                               \n",
       "16 Nao informado                                                                                                                            \n",
       "17 Nao informado                                                                                                                            \n",
       "   Valor Paciente Idade da gestante Idade gestacional em semanas\n",
       "1  2     A        45                26                          \n",
       "2  2     B        38                28                          \n",
       "3  2     C        29                34                          \n",
       "4  2     D        37                34                          \n",
       "5  2     E        23                36                          \n",
       "6  2     F        28                25                          \n",
       "7  2     G        22                35                          \n",
       "8  2     H        26                32                          \n",
       "9  2     I        22                34                          \n",
       "10 2     J        32                38                          \n",
       "11 2     K        30                30                          \n",
       "12 2     L        27                37                          \n",
       "13 2     M        34                34                          \n",
       "14 2     N        39                 8                          \n",
       "15 2     O        26                21                          \n",
       "16 2     P        NA                NA                          \n",
       "17 2     Q        NA                NA                          \n",
       "   dias entre infeccao e parto\n",
       "1    3                        \n",
       "2    3                        \n",
       "3    0                        \n",
       "4    0                        \n",
       "5    0                        \n",
       "6   76                        \n",
       "7    4                        \n",
       "8   42                        \n",
       "9   33                        \n",
       "10   0                        \n",
       "11  46                        \n",
       "12  12                        \n",
       "13  26                        \n",
       "14 231                        \n",
       "15  74                        \n",
       "16  53                        \n",
       "17   6                        \n",
       "   Condicoes medicas                                                                                                                        \n",
       "1  Pre eclampsia e diabetes mellitus gestacional                                                                                            \n",
       "2  Hipotireoidismo pre gestacional                                                                                                          \n",
       "3  Diabetes mellitus gestacional, obesidade, hipotireoidismo, ex usuaria de substancia psicoativa e historico de sifilis devidamente tratada\n",
       "4  Transtorno de ansiedade generalizada                                                                                                     \n",
       "5  Nao informado                                                                                                                            \n",
       "6  Diabetes mellitus tipo 2                                                                                                                 \n",
       "7  Diabetes mellitus gestacional, obesidade e hipotireoidismo                                                                               \n",
       "8  Toxoplasmose aguda e hipotireoidismo                                                                                                     \n",
       "9  Asma, transtorno de ansiedade generalizada e obesidade                                                                                   \n",
       "10 Nao informado                                                                                                                            \n",
       "11 Pre eclampsia e diabetes mellitus gestacional, obesidade e infeccao do trato urinario de repeticao                                       \n",
       "12 Diabetes mellitus gestacional                                                                                                            \n",
       "13 Nao informado                                                                                                                            \n",
       "14 Nao informado                                                                                                                            \n",
       "15 Diabetes mellitus gestacional, obesidade e hipotireoidismo                                                                               \n",
       "16 Nao informado                                                                                                                            \n",
       "17 Nao informado                                                                                                                            \n",
       "   Valor\n",
       "1  2    \n",
       "2  2    \n",
       "3  2    \n",
       "4  2    \n",
       "5  2    \n",
       "6  2    \n",
       "7  2    \n",
       "8  2    \n",
       "9  2    \n",
       "10 2    \n",
       "11 2    \n",
       "12 2    \n",
       "13 2    \n",
       "14 2    \n",
       "15 2    \n",
       "16 2    \n",
       "17 2    "
      ]
     },
     "metadata": {},
     "output_type": "display_data"
    }
   ],
   "source": [
    "#Combinar por colunas\n",
    "resultado_cbind <- cbind(DF2,DF2)\n",
    "resultado_cbind "
   ]
  },
  {
   "cell_type": "code",
   "execution_count": 62,
   "id": "e4e3997f",
   "metadata": {
    "vscode": {
     "languageId": "r"
    }
   },
   "outputs": [
    {
     "data": {
      "text/html": [
       "<table class=\"dataframe\">\n",
       "<caption>A spec_tbl_df: 34 × 6</caption>\n",
       "<thead>\n",
       "\t<tr><th scope=col>Paciente</th><th scope=col>Idade da gestante</th><th scope=col>Idade gestacional em semanas</th><th scope=col>dias entre infeccao e parto</th><th scope=col>Condicoes medicas</th><th scope=col>Valor</th></tr>\n",
       "\t<tr><th scope=col>&lt;chr&gt;</th><th scope=col>&lt;dbl&gt;</th><th scope=col>&lt;dbl&gt;</th><th scope=col>&lt;dbl&gt;</th><th scope=col>&lt;chr&gt;</th><th scope=col>&lt;dbl&gt;</th></tr>\n",
       "</thead>\n",
       "<tbody>\n",
       "\t<tr><td>A</td><td>45</td><td>26</td><td>  3</td><td>Pre eclampsia e diabetes mellitus gestacional                                                                                            </td><td>2</td></tr>\n",
       "\t<tr><td>B</td><td>38</td><td>28</td><td>  3</td><td>Hipotireoidismo pre gestacional                                                                                                          </td><td>2</td></tr>\n",
       "\t<tr><td>C</td><td>29</td><td>34</td><td>  0</td><td>Diabetes mellitus gestacional, obesidade, hipotireoidismo, ex usuaria de substancia psicoativa e historico de sifilis devidamente tratada</td><td>2</td></tr>\n",
       "\t<tr><td>D</td><td>37</td><td>34</td><td>  0</td><td>Transtorno de ansiedade generalizada                                                                                                     </td><td>2</td></tr>\n",
       "\t<tr><td>E</td><td>23</td><td>36</td><td>  0</td><td>Nao informado                                                                                                                            </td><td>2</td></tr>\n",
       "\t<tr><td>F</td><td>28</td><td>25</td><td> 76</td><td>Diabetes mellitus tipo 2                                                                                                                 </td><td>2</td></tr>\n",
       "\t<tr><td>G</td><td>22</td><td>35</td><td>  4</td><td>Diabetes mellitus gestacional, obesidade e hipotireoidismo                                                                               </td><td>2</td></tr>\n",
       "\t<tr><td>H</td><td>26</td><td>32</td><td> 42</td><td>Toxoplasmose aguda e hipotireoidismo                                                                                                     </td><td>2</td></tr>\n",
       "\t<tr><td>I</td><td>22</td><td>34</td><td> 33</td><td>Asma, transtorno de ansiedade generalizada e obesidade                                                                                   </td><td>2</td></tr>\n",
       "\t<tr><td>J</td><td>32</td><td>38</td><td>  0</td><td>Nao informado                                                                                                                            </td><td>2</td></tr>\n",
       "\t<tr><td>K</td><td>30</td><td>30</td><td> 46</td><td>Pre eclampsia e diabetes mellitus gestacional, obesidade e infeccao do trato urinario de repeticao                                       </td><td>2</td></tr>\n",
       "\t<tr><td>L</td><td>27</td><td>37</td><td> 12</td><td>Diabetes mellitus gestacional                                                                                                            </td><td>2</td></tr>\n",
       "\t<tr><td>M</td><td>34</td><td>34</td><td> 26</td><td>Nao informado                                                                                                                            </td><td>2</td></tr>\n",
       "\t<tr><td>N</td><td>39</td><td> 8</td><td>231</td><td>Nao informado                                                                                                                            </td><td>2</td></tr>\n",
       "\t<tr><td>O</td><td>26</td><td>21</td><td> 74</td><td>Diabetes mellitus gestacional, obesidade e hipotireoidismo                                                                               </td><td>2</td></tr>\n",
       "\t<tr><td>P</td><td>NA</td><td>NA</td><td> 53</td><td>Nao informado                                                                                                                            </td><td>2</td></tr>\n",
       "\t<tr><td>Q</td><td>NA</td><td>NA</td><td>  6</td><td>Nao informado                                                                                                                            </td><td>2</td></tr>\n",
       "\t<tr><td>A</td><td>45</td><td>26</td><td>  3</td><td>Pre eclampsia e diabetes mellitus gestacional                                                                                            </td><td>2</td></tr>\n",
       "\t<tr><td>B</td><td>38</td><td>28</td><td>  3</td><td>Hipotireoidismo pre gestacional                                                                                                          </td><td>2</td></tr>\n",
       "\t<tr><td>C</td><td>29</td><td>34</td><td>  0</td><td>Diabetes mellitus gestacional, obesidade, hipotireoidismo, ex usuaria de substancia psicoativa e historico de sifilis devidamente tratada</td><td>2</td></tr>\n",
       "\t<tr><td>D</td><td>37</td><td>34</td><td>  0</td><td>Transtorno de ansiedade generalizada                                                                                                     </td><td>2</td></tr>\n",
       "\t<tr><td>E</td><td>23</td><td>36</td><td>  0</td><td>Nao informado                                                                                                                            </td><td>2</td></tr>\n",
       "\t<tr><td>F</td><td>28</td><td>25</td><td> 76</td><td>Diabetes mellitus tipo 2                                                                                                                 </td><td>2</td></tr>\n",
       "\t<tr><td>G</td><td>22</td><td>35</td><td>  4</td><td>Diabetes mellitus gestacional, obesidade e hipotireoidismo                                                                               </td><td>2</td></tr>\n",
       "\t<tr><td>H</td><td>26</td><td>32</td><td> 42</td><td>Toxoplasmose aguda e hipotireoidismo                                                                                                     </td><td>2</td></tr>\n",
       "\t<tr><td>I</td><td>22</td><td>34</td><td> 33</td><td>Asma, transtorno de ansiedade generalizada e obesidade                                                                                   </td><td>2</td></tr>\n",
       "\t<tr><td>J</td><td>32</td><td>38</td><td>  0</td><td>Nao informado                                                                                                                            </td><td>2</td></tr>\n",
       "\t<tr><td>K</td><td>30</td><td>30</td><td> 46</td><td>Pre eclampsia e diabetes mellitus gestacional, obesidade e infeccao do trato urinario de repeticao                                       </td><td>2</td></tr>\n",
       "\t<tr><td>L</td><td>27</td><td>37</td><td> 12</td><td>Diabetes mellitus gestacional                                                                                                            </td><td>2</td></tr>\n",
       "\t<tr><td>M</td><td>34</td><td>34</td><td> 26</td><td>Nao informado                                                                                                                            </td><td>2</td></tr>\n",
       "\t<tr><td>N</td><td>39</td><td> 8</td><td>231</td><td>Nao informado                                                                                                                            </td><td>2</td></tr>\n",
       "\t<tr><td>O</td><td>26</td><td>21</td><td> 74</td><td>Diabetes mellitus gestacional, obesidade e hipotireoidismo                                                                               </td><td>2</td></tr>\n",
       "\t<tr><td>P</td><td>NA</td><td>NA</td><td> 53</td><td>Nao informado                                                                                                                            </td><td>2</td></tr>\n",
       "\t<tr><td>Q</td><td>NA</td><td>NA</td><td>  6</td><td>Nao informado                                                                                                                            </td><td>2</td></tr>\n",
       "</tbody>\n",
       "</table>\n"
      ],
      "text/latex": [
       "A spec\\_tbl\\_df: 34 × 6\n",
       "\\begin{tabular}{llllll}\n",
       " Paciente & Idade da gestante & Idade gestacional em semanas & dias entre infeccao e parto & Condicoes medicas & Valor\\\\\n",
       " <chr> & <dbl> & <dbl> & <dbl> & <chr> & <dbl>\\\\\n",
       "\\hline\n",
       "\t A & 45 & 26 &   3 & Pre eclampsia e diabetes mellitus gestacional                                                                                             & 2\\\\\n",
       "\t B & 38 & 28 &   3 & Hipotireoidismo pre gestacional                                                                                                           & 2\\\\\n",
       "\t C & 29 & 34 &   0 & Diabetes mellitus gestacional, obesidade, hipotireoidismo, ex usuaria de substancia psicoativa e historico de sifilis devidamente tratada & 2\\\\\n",
       "\t D & 37 & 34 &   0 & Transtorno de ansiedade generalizada                                                                                                      & 2\\\\\n",
       "\t E & 23 & 36 &   0 & Nao informado                                                                                                                             & 2\\\\\n",
       "\t F & 28 & 25 &  76 & Diabetes mellitus tipo 2                                                                                                                  & 2\\\\\n",
       "\t G & 22 & 35 &   4 & Diabetes mellitus gestacional, obesidade e hipotireoidismo                                                                                & 2\\\\\n",
       "\t H & 26 & 32 &  42 & Toxoplasmose aguda e hipotireoidismo                                                                                                      & 2\\\\\n",
       "\t I & 22 & 34 &  33 & Asma, transtorno de ansiedade generalizada e obesidade                                                                                    & 2\\\\\n",
       "\t J & 32 & 38 &   0 & Nao informado                                                                                                                             & 2\\\\\n",
       "\t K & 30 & 30 &  46 & Pre eclampsia e diabetes mellitus gestacional, obesidade e infeccao do trato urinario de repeticao                                        & 2\\\\\n",
       "\t L & 27 & 37 &  12 & Diabetes mellitus gestacional                                                                                                             & 2\\\\\n",
       "\t M & 34 & 34 &  26 & Nao informado                                                                                                                             & 2\\\\\n",
       "\t N & 39 &  8 & 231 & Nao informado                                                                                                                             & 2\\\\\n",
       "\t O & 26 & 21 &  74 & Diabetes mellitus gestacional, obesidade e hipotireoidismo                                                                                & 2\\\\\n",
       "\t P & NA & NA &  53 & Nao informado                                                                                                                             & 2\\\\\n",
       "\t Q & NA & NA &   6 & Nao informado                                                                                                                             & 2\\\\\n",
       "\t A & 45 & 26 &   3 & Pre eclampsia e diabetes mellitus gestacional                                                                                             & 2\\\\\n",
       "\t B & 38 & 28 &   3 & Hipotireoidismo pre gestacional                                                                                                           & 2\\\\\n",
       "\t C & 29 & 34 &   0 & Diabetes mellitus gestacional, obesidade, hipotireoidismo, ex usuaria de substancia psicoativa e historico de sifilis devidamente tratada & 2\\\\\n",
       "\t D & 37 & 34 &   0 & Transtorno de ansiedade generalizada                                                                                                      & 2\\\\\n",
       "\t E & 23 & 36 &   0 & Nao informado                                                                                                                             & 2\\\\\n",
       "\t F & 28 & 25 &  76 & Diabetes mellitus tipo 2                                                                                                                  & 2\\\\\n",
       "\t G & 22 & 35 &   4 & Diabetes mellitus gestacional, obesidade e hipotireoidismo                                                                                & 2\\\\\n",
       "\t H & 26 & 32 &  42 & Toxoplasmose aguda e hipotireoidismo                                                                                                      & 2\\\\\n",
       "\t I & 22 & 34 &  33 & Asma, transtorno de ansiedade generalizada e obesidade                                                                                    & 2\\\\\n",
       "\t J & 32 & 38 &   0 & Nao informado                                                                                                                             & 2\\\\\n",
       "\t K & 30 & 30 &  46 & Pre eclampsia e diabetes mellitus gestacional, obesidade e infeccao do trato urinario de repeticao                                        & 2\\\\\n",
       "\t L & 27 & 37 &  12 & Diabetes mellitus gestacional                                                                                                             & 2\\\\\n",
       "\t M & 34 & 34 &  26 & Nao informado                                                                                                                             & 2\\\\\n",
       "\t N & 39 &  8 & 231 & Nao informado                                                                                                                             & 2\\\\\n",
       "\t O & 26 & 21 &  74 & Diabetes mellitus gestacional, obesidade e hipotireoidismo                                                                                & 2\\\\\n",
       "\t P & NA & NA &  53 & Nao informado                                                                                                                             & 2\\\\\n",
       "\t Q & NA & NA &   6 & Nao informado                                                                                                                             & 2\\\\\n",
       "\\end{tabular}\n"
      ],
      "text/markdown": [
       "\n",
       "A spec_tbl_df: 34 × 6\n",
       "\n",
       "| Paciente &lt;chr&gt; | Idade da gestante &lt;dbl&gt; | Idade gestacional em semanas &lt;dbl&gt; | dias entre infeccao e parto &lt;dbl&gt; | Condicoes medicas &lt;chr&gt; | Valor &lt;dbl&gt; |\n",
       "|---|---|---|---|---|---|\n",
       "| A | 45 | 26 |   3 | Pre eclampsia e diabetes mellitus gestacional                                                                                             | 2 |\n",
       "| B | 38 | 28 |   3 | Hipotireoidismo pre gestacional                                                                                                           | 2 |\n",
       "| C | 29 | 34 |   0 | Diabetes mellitus gestacional, obesidade, hipotireoidismo, ex usuaria de substancia psicoativa e historico de sifilis devidamente tratada | 2 |\n",
       "| D | 37 | 34 |   0 | Transtorno de ansiedade generalizada                                                                                                      | 2 |\n",
       "| E | 23 | 36 |   0 | Nao informado                                                                                                                             | 2 |\n",
       "| F | 28 | 25 |  76 | Diabetes mellitus tipo 2                                                                                                                  | 2 |\n",
       "| G | 22 | 35 |   4 | Diabetes mellitus gestacional, obesidade e hipotireoidismo                                                                                | 2 |\n",
       "| H | 26 | 32 |  42 | Toxoplasmose aguda e hipotireoidismo                                                                                                      | 2 |\n",
       "| I | 22 | 34 |  33 | Asma, transtorno de ansiedade generalizada e obesidade                                                                                    | 2 |\n",
       "| J | 32 | 38 |   0 | Nao informado                                                                                                                             | 2 |\n",
       "| K | 30 | 30 |  46 | Pre eclampsia e diabetes mellitus gestacional, obesidade e infeccao do trato urinario de repeticao                                        | 2 |\n",
       "| L | 27 | 37 |  12 | Diabetes mellitus gestacional                                                                                                             | 2 |\n",
       "| M | 34 | 34 |  26 | Nao informado                                                                                                                             | 2 |\n",
       "| N | 39 |  8 | 231 | Nao informado                                                                                                                             | 2 |\n",
       "| O | 26 | 21 |  74 | Diabetes mellitus gestacional, obesidade e hipotireoidismo                                                                                | 2 |\n",
       "| P | NA | NA |  53 | Nao informado                                                                                                                             | 2 |\n",
       "| Q | NA | NA |   6 | Nao informado                                                                                                                             | 2 |\n",
       "| A | 45 | 26 |   3 | Pre eclampsia e diabetes mellitus gestacional                                                                                             | 2 |\n",
       "| B | 38 | 28 |   3 | Hipotireoidismo pre gestacional                                                                                                           | 2 |\n",
       "| C | 29 | 34 |   0 | Diabetes mellitus gestacional, obesidade, hipotireoidismo, ex usuaria de substancia psicoativa e historico de sifilis devidamente tratada | 2 |\n",
       "| D | 37 | 34 |   0 | Transtorno de ansiedade generalizada                                                                                                      | 2 |\n",
       "| E | 23 | 36 |   0 | Nao informado                                                                                                                             | 2 |\n",
       "| F | 28 | 25 |  76 | Diabetes mellitus tipo 2                                                                                                                  | 2 |\n",
       "| G | 22 | 35 |   4 | Diabetes mellitus gestacional, obesidade e hipotireoidismo                                                                                | 2 |\n",
       "| H | 26 | 32 |  42 | Toxoplasmose aguda e hipotireoidismo                                                                                                      | 2 |\n",
       "| I | 22 | 34 |  33 | Asma, transtorno de ansiedade generalizada e obesidade                                                                                    | 2 |\n",
       "| J | 32 | 38 |   0 | Nao informado                                                                                                                             | 2 |\n",
       "| K | 30 | 30 |  46 | Pre eclampsia e diabetes mellitus gestacional, obesidade e infeccao do trato urinario de repeticao                                        | 2 |\n",
       "| L | 27 | 37 |  12 | Diabetes mellitus gestacional                                                                                                             | 2 |\n",
       "| M | 34 | 34 |  26 | Nao informado                                                                                                                             | 2 |\n",
       "| N | 39 |  8 | 231 | Nao informado                                                                                                                             | 2 |\n",
       "| O | 26 | 21 |  74 | Diabetes mellitus gestacional, obesidade e hipotireoidismo                                                                                | 2 |\n",
       "| P | NA | NA |  53 | Nao informado                                                                                                                             | 2 |\n",
       "| Q | NA | NA |   6 | Nao informado                                                                                                                             | 2 |\n",
       "\n"
      ],
      "text/plain": [
       "   Paciente Idade da gestante Idade gestacional em semanas\n",
       "1  A        45                26                          \n",
       "2  B        38                28                          \n",
       "3  C        29                34                          \n",
       "4  D        37                34                          \n",
       "5  E        23                36                          \n",
       "6  F        28                25                          \n",
       "7  G        22                35                          \n",
       "8  H        26                32                          \n",
       "9  I        22                34                          \n",
       "10 J        32                38                          \n",
       "11 K        30                30                          \n",
       "12 L        27                37                          \n",
       "13 M        34                34                          \n",
       "14 N        39                 8                          \n",
       "15 O        26                21                          \n",
       "16 P        NA                NA                          \n",
       "17 Q        NA                NA                          \n",
       "18 A        45                26                          \n",
       "19 B        38                28                          \n",
       "20 C        29                34                          \n",
       "21 D        37                34                          \n",
       "22 E        23                36                          \n",
       "23 F        28                25                          \n",
       "24 G        22                35                          \n",
       "25 H        26                32                          \n",
       "26 I        22                34                          \n",
       "27 J        32                38                          \n",
       "28 K        30                30                          \n",
       "29 L        27                37                          \n",
       "30 M        34                34                          \n",
       "31 N        39                 8                          \n",
       "32 O        26                21                          \n",
       "33 P        NA                NA                          \n",
       "34 Q        NA                NA                          \n",
       "   dias entre infeccao e parto\n",
       "1    3                        \n",
       "2    3                        \n",
       "3    0                        \n",
       "4    0                        \n",
       "5    0                        \n",
       "6   76                        \n",
       "7    4                        \n",
       "8   42                        \n",
       "9   33                        \n",
       "10   0                        \n",
       "11  46                        \n",
       "12  12                        \n",
       "13  26                        \n",
       "14 231                        \n",
       "15  74                        \n",
       "16  53                        \n",
       "17   6                        \n",
       "18   3                        \n",
       "19   3                        \n",
       "20   0                        \n",
       "21   0                        \n",
       "22   0                        \n",
       "23  76                        \n",
       "24   4                        \n",
       "25  42                        \n",
       "26  33                        \n",
       "27   0                        \n",
       "28  46                        \n",
       "29  12                        \n",
       "30  26                        \n",
       "31 231                        \n",
       "32  74                        \n",
       "33  53                        \n",
       "34   6                        \n",
       "   Condicoes medicas                                                                                                                        \n",
       "1  Pre eclampsia e diabetes mellitus gestacional                                                                                            \n",
       "2  Hipotireoidismo pre gestacional                                                                                                          \n",
       "3  Diabetes mellitus gestacional, obesidade, hipotireoidismo, ex usuaria de substancia psicoativa e historico de sifilis devidamente tratada\n",
       "4  Transtorno de ansiedade generalizada                                                                                                     \n",
       "5  Nao informado                                                                                                                            \n",
       "6  Diabetes mellitus tipo 2                                                                                                                 \n",
       "7  Diabetes mellitus gestacional, obesidade e hipotireoidismo                                                                               \n",
       "8  Toxoplasmose aguda e hipotireoidismo                                                                                                     \n",
       "9  Asma, transtorno de ansiedade generalizada e obesidade                                                                                   \n",
       "10 Nao informado                                                                                                                            \n",
       "11 Pre eclampsia e diabetes mellitus gestacional, obesidade e infeccao do trato urinario de repeticao                                       \n",
       "12 Diabetes mellitus gestacional                                                                                                            \n",
       "13 Nao informado                                                                                                                            \n",
       "14 Nao informado                                                                                                                            \n",
       "15 Diabetes mellitus gestacional, obesidade e hipotireoidismo                                                                               \n",
       "16 Nao informado                                                                                                                            \n",
       "17 Nao informado                                                                                                                            \n",
       "18 Pre eclampsia e diabetes mellitus gestacional                                                                                            \n",
       "19 Hipotireoidismo pre gestacional                                                                                                          \n",
       "20 Diabetes mellitus gestacional, obesidade, hipotireoidismo, ex usuaria de substancia psicoativa e historico de sifilis devidamente tratada\n",
       "21 Transtorno de ansiedade generalizada                                                                                                     \n",
       "22 Nao informado                                                                                                                            \n",
       "23 Diabetes mellitus tipo 2                                                                                                                 \n",
       "24 Diabetes mellitus gestacional, obesidade e hipotireoidismo                                                                               \n",
       "25 Toxoplasmose aguda e hipotireoidismo                                                                                                     \n",
       "26 Asma, transtorno de ansiedade generalizada e obesidade                                                                                   \n",
       "27 Nao informado                                                                                                                            \n",
       "28 Pre eclampsia e diabetes mellitus gestacional, obesidade e infeccao do trato urinario de repeticao                                       \n",
       "29 Diabetes mellitus gestacional                                                                                                            \n",
       "30 Nao informado                                                                                                                            \n",
       "31 Nao informado                                                                                                                            \n",
       "32 Diabetes mellitus gestacional, obesidade e hipotireoidismo                                                                               \n",
       "33 Nao informado                                                                                                                            \n",
       "34 Nao informado                                                                                                                            \n",
       "   Valor\n",
       "1  2    \n",
       "2  2    \n",
       "3  2    \n",
       "4  2    \n",
       "5  2    \n",
       "6  2    \n",
       "7  2    \n",
       "8  2    \n",
       "9  2    \n",
       "10 2    \n",
       "11 2    \n",
       "12 2    \n",
       "13 2    \n",
       "14 2    \n",
       "15 2    \n",
       "16 2    \n",
       "17 2    \n",
       "18 2    \n",
       "19 2    \n",
       "20 2    \n",
       "21 2    \n",
       "22 2    \n",
       "23 2    \n",
       "24 2    \n",
       "25 2    \n",
       "26 2    \n",
       "27 2    \n",
       "28 2    \n",
       "29 2    \n",
       "30 2    \n",
       "31 2    \n",
       "32 2    \n",
       "33 2    \n",
       "34 2    "
      ]
     },
     "metadata": {},
     "output_type": "display_data"
    }
   ],
   "source": [
    "resultado_rbind <- rbind(DF2,DF2)\n",
    "resultado_rbind "
   ]
  },
  {
   "cell_type": "markdown",
   "id": "df504fb1",
   "metadata": {},
   "source": [
    "### A família de funções apply em R é um conjunto de funções que permite aplicar uma função a uma matriz (ou data frame) ao longo de linhas ou colunas. As funções apply são frequentemente usadas para realizar operações de resumo, transformação ou cálculos em dados tabulares.\n",
    "\n",
    "### As funções apply mais comuns são as seguintes:\n",
    "\n",
    "**apply():** Essa função aplica uma função a uma matriz ou data frame ao longo de linhas ou colunas, especificando o valor 1 para linhas e 2 para colunas. Ela é útil para realizar operações em uma dimensão específica dos dados."
   ]
  },
  {
   "cell_type": "code",
   "execution_count": 63,
   "id": "b98a352f",
   "metadata": {
    "vscode": {
     "languageId": "r"
    }
   },
   "outputs": [
    {
     "data": {
      "text/html": [
       "<table class=\"dataframe\">\n",
       "<caption>A matrix: 3 × 3 of type int</caption>\n",
       "<tbody>\n",
       "\t<tr><td>1</td><td>4</td><td>7</td></tr>\n",
       "\t<tr><td>2</td><td>5</td><td>8</td></tr>\n",
       "\t<tr><td>3</td><td>6</td><td>9</td></tr>\n",
       "</tbody>\n",
       "</table>\n"
      ],
      "text/latex": [
       "A matrix: 3 × 3 of type int\n",
       "\\begin{tabular}{lll}\n",
       "\t 1 & 4 & 7\\\\\n",
       "\t 2 & 5 & 8\\\\\n",
       "\t 3 & 6 & 9\\\\\n",
       "\\end{tabular}\n"
      ],
      "text/markdown": [
       "\n",
       "A matrix: 3 × 3 of type int\n",
       "\n",
       "| 1 | 4 | 7 |\n",
       "| 2 | 5 | 8 |\n",
       "| 3 | 6 | 9 |\n",
       "\n"
      ],
      "text/plain": [
       "     [,1] [,2] [,3]\n",
       "[1,] 1    4    7   \n",
       "[2,] 2    5    8   \n",
       "[3,] 3    6    9   "
      ]
     },
     "metadata": {},
     "output_type": "display_data"
    }
   ],
   "source": [
    "#Criando uma matriz para fornecer o exemplo do uso de apply\n",
    "matriz <- matrix(1:9, ncol = 3)\n",
    "matriz"
   ]
  },
  {
   "cell_type": "code",
   "execution_count": 64,
   "id": "1b0b0bd9",
   "metadata": {
    "vscode": {
     "languageId": "r"
    }
   },
   "outputs": [
    {
     "data": {
      "text/html": [
       "<style>\n",
       ".list-inline {list-style: none; margin:0; padding: 0}\n",
       ".list-inline>li {display: inline-block}\n",
       ".list-inline>li:not(:last-child)::after {content: \"\\00b7\"; padding: 0 .5ex}\n",
       "</style>\n",
       "<ol class=list-inline><li>6</li><li>15</li><li>24</li></ol>\n"
      ],
      "text/latex": [
       "\\begin{enumerate*}\n",
       "\\item 6\n",
       "\\item 15\n",
       "\\item 24\n",
       "\\end{enumerate*}\n"
      ],
      "text/markdown": [
       "1. 6\n",
       "2. 15\n",
       "3. 24\n",
       "\n",
       "\n"
      ],
      "text/plain": [
       "[1]  6 15 24"
      ]
     },
     "metadata": {},
     "output_type": "display_data"
    }
   ],
   "source": [
    "# Aplicar a função de soma por coluna, 2 indica que você deseja aplicar por coluna\n",
    "apply(matriz, 2, sum)"
   ]
  },
  {
   "cell_type": "code",
   "execution_count": 65,
   "id": "322d0148",
   "metadata": {
    "vscode": {
     "languageId": "r"
    }
   },
   "outputs": [
    {
     "data": {
      "text/html": [
       "<style>\n",
       ".list-inline {list-style: none; margin:0; padding: 0}\n",
       ".list-inline>li {display: inline-block}\n",
       ".list-inline>li:not(:last-child)::after {content: \"\\00b7\"; padding: 0 .5ex}\n",
       "</style>\n",
       "<ol class=list-inline><li>12</li><li>15</li><li>18</li></ol>\n"
      ],
      "text/latex": [
       "\\begin{enumerate*}\n",
       "\\item 12\n",
       "\\item 15\n",
       "\\item 18\n",
       "\\end{enumerate*}\n"
      ],
      "text/markdown": [
       "1. 12\n",
       "2. 15\n",
       "3. 18\n",
       "\n",
       "\n"
      ],
      "text/plain": [
       "[1] 12 15 18"
      ]
     },
     "metadata": {},
     "output_type": "display_data"
    }
   ],
   "source": [
    "# Aplicar a função de soma por linha, 1 indica que você deseja aplicar por coluna\n",
    "apply(matriz, 1, sum)"
   ]
  },
  {
   "cell_type": "markdown",
   "id": "5db49d79",
   "metadata": {},
   "source": [
    "**lapply():** Essa função é usada para aplicar uma função a todos os elementos de uma lista. Ela retorna uma lista com os resultados."
   ]
  },
  {
   "cell_type": "code",
   "execution_count": 66,
   "id": "a1464dc1",
   "metadata": {
    "vscode": {
     "languageId": "r"
    }
   },
   "outputs": [
    {
     "data": {
      "text/html": [
       "<dl>\n",
       "\t<dt>$a</dt>\n",
       "\t\t<dd><style>\n",
       ".list-inline {list-style: none; margin:0; padding: 0}\n",
       ".list-inline>li {display: inline-block}\n",
       ".list-inline>li:not(:last-child)::after {content: \"\\00b7\"; padding: 0 .5ex}\n",
       "</style>\n",
       "<ol class=list-inline><li>1</li><li>2</li><li>3</li></ol>\n",
       "</dd>\n",
       "\t<dt>$b</dt>\n",
       "\t\t<dd><style>\n",
       ".list-inline {list-style: none; margin:0; padding: 0}\n",
       ".list-inline>li {display: inline-block}\n",
       ".list-inline>li:not(:last-child)::after {content: \"\\00b7\"; padding: 0 .5ex}\n",
       "</style>\n",
       "<ol class=list-inline><li>4</li><li>5</li><li>6</li></ol>\n",
       "</dd>\n",
       "</dl>\n"
      ],
      "text/latex": [
       "\\begin{description}\n",
       "\\item[\\$a] \\begin{enumerate*}\n",
       "\\item 1\n",
       "\\item 2\n",
       "\\item 3\n",
       "\\end{enumerate*}\n",
       "\n",
       "\\item[\\$b] \\begin{enumerate*}\n",
       "\\item 4\n",
       "\\item 5\n",
       "\\item 6\n",
       "\\end{enumerate*}\n",
       "\n",
       "\\end{description}\n"
      ],
      "text/markdown": [
       "$a\n",
       ":   1. 1\n",
       "2. 2\n",
       "3. 3\n",
       "\n",
       "\n",
       "\n",
       "$b\n",
       ":   1. 4\n",
       "2. 5\n",
       "3. 6\n",
       "\n",
       "\n",
       "\n",
       "\n",
       "\n"
      ],
      "text/plain": [
       "$a\n",
       "[1] 1 2 3\n",
       "\n",
       "$b\n",
       "[1] 4 5 6\n"
      ]
     },
     "metadata": {},
     "output_type": "display_data"
    }
   ],
   "source": [
    "#Criando uma lista para fornecer o exemplo do uso de lapply\n",
    "minha_lista <- list(a = 1:3, b = 4:6)\n",
    "minha_lista"
   ]
  },
  {
   "cell_type": "code",
   "execution_count": 67,
   "id": "9bd41b4f",
   "metadata": {
    "vscode": {
     "languageId": "r"
    }
   },
   "outputs": [
    {
     "data": {
      "text/html": [
       "<dl>\n",
       "\t<dt>$a</dt>\n",
       "\t\t<dd><style>\n",
       ".list-inline {list-style: none; margin:0; padding: 0}\n",
       ".list-inline>li {display: inline-block}\n",
       ".list-inline>li:not(:last-child)::after {content: \"\\00b7\"; padding: 0 .5ex}\n",
       "</style>\n",
       "<ol class=list-inline><li>1</li><li>1.4142135623731</li><li>1.73205080756888</li></ol>\n",
       "</dd>\n",
       "\t<dt>$b</dt>\n",
       "\t\t<dd><style>\n",
       ".list-inline {list-style: none; margin:0; padding: 0}\n",
       ".list-inline>li {display: inline-block}\n",
       ".list-inline>li:not(:last-child)::after {content: \"\\00b7\"; padding: 0 .5ex}\n",
       "</style>\n",
       "<ol class=list-inline><li>2</li><li>2.23606797749979</li><li>2.44948974278318</li></ol>\n",
       "</dd>\n",
       "</dl>\n"
      ],
      "text/latex": [
       "\\begin{description}\n",
       "\\item[\\$a] \\begin{enumerate*}\n",
       "\\item 1\n",
       "\\item 1.4142135623731\n",
       "\\item 1.73205080756888\n",
       "\\end{enumerate*}\n",
       "\n",
       "\\item[\\$b] \\begin{enumerate*}\n",
       "\\item 2\n",
       "\\item 2.23606797749979\n",
       "\\item 2.44948974278318\n",
       "\\end{enumerate*}\n",
       "\n",
       "\\end{description}\n"
      ],
      "text/markdown": [
       "$a\n",
       ":   1. 1\n",
       "2. 1.4142135623731\n",
       "3. 1.73205080756888\n",
       "\n",
       "\n",
       "\n",
       "$b\n",
       ":   1. 2\n",
       "2. 2.23606797749979\n",
       "3. 2.44948974278318\n",
       "\n",
       "\n",
       "\n",
       "\n",
       "\n"
      ],
      "text/plain": [
       "$a\n",
       "[1] 1.000000 1.414214 1.732051\n",
       "\n",
       "$b\n",
       "[1] 2.000000 2.236068 2.449490\n"
      ]
     },
     "metadata": {},
     "output_type": "display_data"
    }
   ],
   "source": [
    "# Aplicando a função sqrt a todos os elementos da lista\n",
    "lapply(minha_lista, sqrt)"
   ]
  },
  {
   "cell_type": "markdown",
   "id": "e4bfdc93",
   "metadata": {},
   "source": [
    "**sapply():** Esta é uma versão simplificada de lapply. Ela tenta simplificar o resultado em um vetor ou matriz, sempre que possível."
   ]
  },
  {
   "cell_type": "code",
   "execution_count": 68,
   "id": "64f1efc0",
   "metadata": {
    "vscode": {
     "languageId": "r"
    }
   },
   "outputs": [
    {
     "data": {
      "text/html": [
       "<table class=\"dataframe\">\n",
       "<caption>A matrix: 3 × 2 of type dbl</caption>\n",
       "<thead>\n",
       "\t<tr><th scope=col>a</th><th scope=col>b</th></tr>\n",
       "</thead>\n",
       "<tbody>\n",
       "\t<tr><td>1.000000</td><td>2.000000</td></tr>\n",
       "\t<tr><td>1.414214</td><td>2.236068</td></tr>\n",
       "\t<tr><td>1.732051</td><td>2.449490</td></tr>\n",
       "</tbody>\n",
       "</table>\n"
      ],
      "text/latex": [
       "A matrix: 3 × 2 of type dbl\n",
       "\\begin{tabular}{ll}\n",
       " a & b\\\\\n",
       "\\hline\n",
       "\t 1.000000 & 2.000000\\\\\n",
       "\t 1.414214 & 2.236068\\\\\n",
       "\t 1.732051 & 2.449490\\\\\n",
       "\\end{tabular}\n"
      ],
      "text/markdown": [
       "\n",
       "A matrix: 3 × 2 of type dbl\n",
       "\n",
       "| a | b |\n",
       "|---|---|\n",
       "| 1.000000 | 2.000000 |\n",
       "| 1.414214 | 2.236068 |\n",
       "| 1.732051 | 2.449490 |\n",
       "\n"
      ],
      "text/plain": [
       "     a        b       \n",
       "[1,] 1.000000 2.000000\n",
       "[2,] 1.414214 2.236068\n",
       "[3,] 1.732051 2.449490"
      ]
     },
     "metadata": {},
     "output_type": "display_data"
    }
   ],
   "source": [
    "sapply(minha_lista, sqrt)"
   ]
  },
  {
   "cell_type": "markdown",
   "id": "874f2745",
   "metadata": {},
   "source": [
    "**tapply():** Essa função é usada para aplicar uma função a uma variável em grupos, definidos por outra variável. É frequentemente usada para resumir dados agregados."
   ]
  },
  {
   "cell_type": "code",
   "execution_count": 69,
   "id": "d550d0b0",
   "metadata": {
    "vscode": {
     "languageId": "r"
    }
   },
   "outputs": [
    {
     "data": {
      "text/html": [
       "<table class=\"dataframe\">\n",
       "<caption>A data.frame: 4 × 2</caption>\n",
       "<thead>\n",
       "\t<tr><th scope=col>Grupo</th><th scope=col>Valor</th></tr>\n",
       "\t<tr><th scope=col>&lt;chr&gt;</th><th scope=col>&lt;dbl&gt;</th></tr>\n",
       "</thead>\n",
       "<tbody>\n",
       "\t<tr><td>A</td><td>10</td></tr>\n",
       "\t<tr><td>B</td><td>20</td></tr>\n",
       "\t<tr><td>A</td><td>15</td></tr>\n",
       "\t<tr><td>B</td><td>25</td></tr>\n",
       "</tbody>\n",
       "</table>\n"
      ],
      "text/latex": [
       "A data.frame: 4 × 2\n",
       "\\begin{tabular}{ll}\n",
       " Grupo & Valor\\\\\n",
       " <chr> & <dbl>\\\\\n",
       "\\hline\n",
       "\t A & 10\\\\\n",
       "\t B & 20\\\\\n",
       "\t A & 15\\\\\n",
       "\t B & 25\\\\\n",
       "\\end{tabular}\n"
      ],
      "text/markdown": [
       "\n",
       "A data.frame: 4 × 2\n",
       "\n",
       "| Grupo &lt;chr&gt; | Valor &lt;dbl&gt; |\n",
       "|---|---|\n",
       "| A | 10 |\n",
       "| B | 20 |\n",
       "| A | 15 |\n",
       "| B | 25 |\n",
       "\n"
      ],
      "text/plain": [
       "  Grupo Valor\n",
       "1 A     10   \n",
       "2 B     20   \n",
       "3 A     15   \n",
       "4 B     25   "
      ]
     },
     "metadata": {},
     "output_type": "display_data"
    }
   ],
   "source": [
    "# Criando um data frame de exemplo\n",
    "df <- data.frame(Grupo = c(\"A\", \"B\", \"A\", \"B\"),\n",
    "                 Valor = c(10, 20, 15, 25))\n",
    "df"
   ]
  },
  {
   "cell_type": "code",
   "execution_count": 70,
   "id": "da8e32f7",
   "metadata": {
    "vscode": {
     "languageId": "r"
    }
   },
   "outputs": [
    {
     "data": {
      "text/html": [
       "<table class=\"dataframe\">\n",
       "<caption>A data.frame: 2 × 1</caption>\n",
       "<thead>\n",
       "\t<tr><th></th><th scope=col>tapply.df.Valor..df.Grupo..mean.</th></tr>\n",
       "\t<tr><th></th><th scope=col>&lt;dbl&gt;</th></tr>\n",
       "</thead>\n",
       "<tbody>\n",
       "\t<tr><th scope=row>A</th><td>12.5</td></tr>\n",
       "\t<tr><th scope=row>B</th><td>22.5</td></tr>\n",
       "</tbody>\n",
       "</table>\n"
      ],
      "text/latex": [
       "A data.frame: 2 × 1\n",
       "\\begin{tabular}{r|l}\n",
       "  & tapply.df.Valor..df.Grupo..mean.\\\\\n",
       "  & <dbl>\\\\\n",
       "\\hline\n",
       "\tA & 12.5\\\\\n",
       "\tB & 22.5\\\\\n",
       "\\end{tabular}\n"
      ],
      "text/markdown": [
       "\n",
       "A data.frame: 2 × 1\n",
       "\n",
       "| <!--/--> | tapply.df.Valor..df.Grupo..mean. &lt;dbl&gt; |\n",
       "|---|---|\n",
       "| A | 12.5 |\n",
       "| B | 22.5 |\n",
       "\n"
      ],
      "text/plain": [
       "  tapply.df.Valor..df.Grupo..mean.\n",
       "A 12.5                            \n",
       "B 22.5                            "
      ]
     },
     "metadata": {},
     "output_type": "display_data"
    }
   ],
   "source": [
    "# Aplicando a função mean a \"Valor\" por grupo\n",
    "data.frame(tapply(df$Valor, df$Grupo, mean))"
   ]
  },
  {
   "cell_type": "markdown",
   "id": "ca6f0f56",
   "metadata": {},
   "source": [
    "**vapply():** Funciona de forma semelhante ao sapply(), mas permite que você especifique o tipo de retorno da função, o que pode ser útil para garantir que o resultado tenha o tipo desejado"
   ]
  },
  {
   "cell_type": "code",
   "execution_count": 71,
   "id": "6c4cb780",
   "metadata": {
    "vscode": {
     "languageId": "r"
    }
   },
   "outputs": [
    {
     "data": {
      "text/html": [
       "<dl>\n",
       "\t<dt>$a</dt>\n",
       "\t\t<dd><style>\n",
       ".list-inline {list-style: none; margin:0; padding: 0}\n",
       ".list-inline>li {display: inline-block}\n",
       ".list-inline>li:not(:last-child)::after {content: \"\\00b7\"; padding: 0 .5ex}\n",
       "</style>\n",
       "<ol class=list-inline><li>1</li><li>2</li><li>3</li></ol>\n",
       "</dd>\n",
       "\t<dt>$b</dt>\n",
       "\t\t<dd><style>\n",
       ".list-inline {list-style: none; margin:0; padding: 0}\n",
       ".list-inline>li {display: inline-block}\n",
       ".list-inline>li:not(:last-child)::after {content: \"\\00b7\"; padding: 0 .5ex}\n",
       "</style>\n",
       "<ol class=list-inline><li>4</li><li>5</li><li>6</li></ol>\n",
       "</dd>\n",
       "</dl>\n"
      ],
      "text/latex": [
       "\\begin{description}\n",
       "\\item[\\$a] \\begin{enumerate*}\n",
       "\\item 1\n",
       "\\item 2\n",
       "\\item 3\n",
       "\\end{enumerate*}\n",
       "\n",
       "\\item[\\$b] \\begin{enumerate*}\n",
       "\\item 4\n",
       "\\item 5\n",
       "\\item 6\n",
       "\\end{enumerate*}\n",
       "\n",
       "\\end{description}\n"
      ],
      "text/markdown": [
       "$a\n",
       ":   1. 1\n",
       "2. 2\n",
       "3. 3\n",
       "\n",
       "\n",
       "\n",
       "$b\n",
       ":   1. 4\n",
       "2. 5\n",
       "3. 6\n",
       "\n",
       "\n",
       "\n",
       "\n",
       "\n"
      ],
      "text/plain": [
       "$a\n",
       "[1] 1 2 3\n",
       "\n",
       "$b\n",
       "[1] 4 5 6\n"
      ]
     },
     "metadata": {},
     "output_type": "display_data"
    }
   ],
   "source": [
    "minha_lista"
   ]
  },
  {
   "cell_type": "code",
   "execution_count": 72,
   "id": "bedb7468",
   "metadata": {
    "vscode": {
     "languageId": "r"
    }
   },
   "outputs": [
    {
     "data": {
      "text/html": [
       "<style>\n",
       ".dl-inline {width: auto; margin:0; padding: 0}\n",
       ".dl-inline>dt, .dl-inline>dd {float: none; width: auto; display: inline-block}\n",
       ".dl-inline>dt::after {content: \":\\0020\"; padding-right: .5ex}\n",
       ".dl-inline>dt:not(:first-of-type) {padding-left: .5ex}\n",
       "</style><dl class=dl-inline><dt>a</dt><dd>2</dd><dt>b</dt><dd>5</dd></dl>\n"
      ],
      "text/latex": [
       "\\begin{description*}\n",
       "\\item[a] 2\n",
       "\\item[b] 5\n",
       "\\end{description*}\n"
      ],
      "text/markdown": [
       "a\n",
       ":   2b\n",
       ":   5\n",
       "\n"
      ],
      "text/plain": [
       "a b \n",
       "2 5 "
      ]
     },
     "metadata": {},
     "output_type": "display_data"
    }
   ],
   "source": [
    "vapply(minha_lista, mean, numeric(1))"
   ]
  },
  {
   "cell_type": "markdown",
   "id": "7fba8a69",
   "metadata": {},
   "source": [
    "**by():** Embora não seja parte da família apply, a função by() é frequentemente usada para dividir um data frame em subconjuntos com base em uma variável específica e, em seguida, aplicar uma função a cada subconjunto."
   ]
  },
  {
   "cell_type": "code",
   "execution_count": 73,
   "id": "41239741",
   "metadata": {
    "vscode": {
     "languageId": "r"
    }
   },
   "outputs": [
    {
     "data": {
      "text/html": [
       "<table class=\"dataframe\">\n",
       "<caption>A data.frame: 4 × 2</caption>\n",
       "<thead>\n",
       "\t<tr><th scope=col>Grupo</th><th scope=col>Valor</th></tr>\n",
       "\t<tr><th scope=col>&lt;chr&gt;</th><th scope=col>&lt;dbl&gt;</th></tr>\n",
       "</thead>\n",
       "<tbody>\n",
       "\t<tr><td>A</td><td>10</td></tr>\n",
       "\t<tr><td>B</td><td>20</td></tr>\n",
       "\t<tr><td>A</td><td>15</td></tr>\n",
       "\t<tr><td>B</td><td>25</td></tr>\n",
       "</tbody>\n",
       "</table>\n"
      ],
      "text/latex": [
       "A data.frame: 4 × 2\n",
       "\\begin{tabular}{ll}\n",
       " Grupo & Valor\\\\\n",
       " <chr> & <dbl>\\\\\n",
       "\\hline\n",
       "\t A & 10\\\\\n",
       "\t B & 20\\\\\n",
       "\t A & 15\\\\\n",
       "\t B & 25\\\\\n",
       "\\end{tabular}\n"
      ],
      "text/markdown": [
       "\n",
       "A data.frame: 4 × 2\n",
       "\n",
       "| Grupo &lt;chr&gt; | Valor &lt;dbl&gt; |\n",
       "|---|---|\n",
       "| A | 10 |\n",
       "| B | 20 |\n",
       "| A | 15 |\n",
       "| B | 25 |\n",
       "\n"
      ],
      "text/plain": [
       "  Grupo Valor\n",
       "1 A     10   \n",
       "2 B     20   \n",
       "3 A     15   \n",
       "4 B     25   "
      ]
     },
     "metadata": {},
     "output_type": "display_data"
    }
   ],
   "source": [
    "df <- data.frame(Grupo = c(\"A\", \"B\", \"A\", \"B\"), Valor = c(10, 20, 15, 25))\n",
    "df"
   ]
  },
  {
   "cell_type": "code",
   "execution_count": 74,
   "id": "be09ab4a",
   "metadata": {
    "vscode": {
     "languageId": "r"
    }
   },
   "outputs": [
    {
     "data": {
      "text/plain": [
       "df$Grupo: A\n",
       "[1] 12.5\n",
       "------------------------------------------------------------ \n",
       "df$Grupo: B\n",
       "[1] 22.5"
      ]
     },
     "metadata": {},
     "output_type": "display_data"
    }
   ],
   "source": [
    "by(df$Valor, df$Grupo, mean)"
   ]
  },
  {
   "cell_type": "markdown",
   "id": "7dadeffc",
   "metadata": {},
   "source": [
    "**do.call()** é uma função em R que permite chamar uma função usando uma lista de argumentos. Ela é frequentemente usada quando você precisa aplicar uma função a um conjunto de argumentos armazenados em uma lista. Isso pode ser útil quando os argumentos de uma função são dinâmicos e não são conhecidos a priori. A função do.call() ajuda a construir uma chamada de função com base em uma lista de argumentos e, em seguida, a executar essa chamada.  \n",
    "\n",
    "Aqui está um exemplo de uso prático com do.call() para calcular a média de uma lista de vetores:"
   ]
  },
  {
   "cell_type": "code",
   "execution_count": 75,
   "id": "aef124a5",
   "metadata": {
    "vscode": {
     "languageId": "r"
    }
   },
   "outputs": [
    {
     "data": {
      "text/html": [
       "<table class=\"dataframe\">\n",
       "<caption>A data.frame: 1 × 2</caption>\n",
       "<thead>\n",
       "\t<tr><th scope=col>X5</th><th scope=col>X3</th></tr>\n",
       "\t<tr><th scope=col>&lt;dbl&gt;</th><th scope=col>&lt;dbl&gt;</th></tr>\n",
       "</thead>\n",
       "<tbody>\n",
       "\t<tr><td>5</td><td>3</td></tr>\n",
       "</tbody>\n",
       "</table>\n"
      ],
      "text/latex": [
       "A data.frame: 1 × 2\n",
       "\\begin{tabular}{ll}\n",
       " X5 & X3\\\\\n",
       " <dbl> & <dbl>\\\\\n",
       "\\hline\n",
       "\t 5 & 3\\\\\n",
       "\\end{tabular}\n"
      ],
      "text/markdown": [
       "\n",
       "A data.frame: 1 × 2\n",
       "\n",
       "| X5 &lt;dbl&gt; | X3 &lt;dbl&gt; |\n",
       "|---|---|\n",
       "| 5 | 3 |\n",
       "\n"
      ],
      "text/plain": [
       "  X5 X3\n",
       "1 5  3 "
      ]
     },
     "metadata": {},
     "output_type": "display_data"
    }
   ],
   "source": [
    "argumentos <- list(5, 3)\n",
    "data.frame(argumentos)"
   ]
  },
  {
   "cell_type": "markdown",
   "id": "5640d2a2",
   "metadata": {},
   "source": [
    "do.call(sum, argumentos)"
   ]
  },
  {
   "cell_type": "markdown",
   "id": "a3227d22",
   "metadata": {},
   "source": [
    "### A função merge é uma função em R que permite combinar duas ou mais estruturas de dados (geralmente data frames) com base em colunas comuns, ela é uma função base do R e está disponível por padrão no ambiente R base. "
   ]
  },
  {
   "cell_type": "code",
   "execution_count": 76,
   "id": "4e79a8e4",
   "metadata": {
    "vscode": {
     "languageId": "r"
    }
   },
   "outputs": [
    {
     "data": {
      "text/html": [
       "<table class=\"dataframe\">\n",
       "<caption>A data.frame: 3 × 2</caption>\n",
       "<thead>\n",
       "\t<tr><th scope=col>ID</th><th scope=col>Name</th></tr>\n",
       "\t<tr><th scope=col>&lt;dbl&gt;</th><th scope=col>&lt;chr&gt;</th></tr>\n",
       "</thead>\n",
       "<tbody>\n",
       "\t<tr><td>1</td><td>Alice  </td></tr>\n",
       "\t<tr><td>2</td><td>Bob    </td></tr>\n",
       "\t<tr><td>3</td><td>Charlie</td></tr>\n",
       "</tbody>\n",
       "</table>\n"
      ],
      "text/latex": [
       "A data.frame: 3 × 2\n",
       "\\begin{tabular}{ll}\n",
       " ID & Name\\\\\n",
       " <dbl> & <chr>\\\\\n",
       "\\hline\n",
       "\t 1 & Alice  \\\\\n",
       "\t 2 & Bob    \\\\\n",
       "\t 3 & Charlie\\\\\n",
       "\\end{tabular}\n"
      ],
      "text/markdown": [
       "\n",
       "A data.frame: 3 × 2\n",
       "\n",
       "| ID &lt;dbl&gt; | Name &lt;chr&gt; |\n",
       "|---|---|\n",
       "| 1 | Alice   |\n",
       "| 2 | Bob     |\n",
       "| 3 | Charlie |\n",
       "\n"
      ],
      "text/plain": [
       "  ID Name   \n",
       "1 1  Alice  \n",
       "2 2  Bob    \n",
       "3 3  Charlie"
      ]
     },
     "metadata": {},
     "output_type": "display_data"
    }
   ],
   "source": [
    "df1 <- data.frame(ID = c(1, 2, 3), Name = c(\"Alice\", \"Bob\", \"Charlie\"))\n",
    "df1"
   ]
  },
  {
   "cell_type": "code",
   "execution_count": 77,
   "id": "25d4ed1d",
   "metadata": {
    "vscode": {
     "languageId": "r"
    }
   },
   "outputs": [
    {
     "data": {
      "text/html": [
       "<table class=\"dataframe\">\n",
       "<caption>A data.frame: 3 × 2</caption>\n",
       "<thead>\n",
       "\t<tr><th scope=col>ID</th><th scope=col>Score</th></tr>\n",
       "\t<tr><th scope=col>&lt;dbl&gt;</th><th scope=col>&lt;dbl&gt;</th></tr>\n",
       "</thead>\n",
       "<tbody>\n",
       "\t<tr><td>2</td><td>85</td></tr>\n",
       "\t<tr><td>3</td><td>92</td></tr>\n",
       "\t<tr><td>4</td><td>78</td></tr>\n",
       "</tbody>\n",
       "</table>\n"
      ],
      "text/latex": [
       "A data.frame: 3 × 2\n",
       "\\begin{tabular}{ll}\n",
       " ID & Score\\\\\n",
       " <dbl> & <dbl>\\\\\n",
       "\\hline\n",
       "\t 2 & 85\\\\\n",
       "\t 3 & 92\\\\\n",
       "\t 4 & 78\\\\\n",
       "\\end{tabular}\n"
      ],
      "text/markdown": [
       "\n",
       "A data.frame: 3 × 2\n",
       "\n",
       "| ID &lt;dbl&gt; | Score &lt;dbl&gt; |\n",
       "|---|---|\n",
       "| 2 | 85 |\n",
       "| 3 | 92 |\n",
       "| 4 | 78 |\n",
       "\n"
      ],
      "text/plain": [
       "  ID Score\n",
       "1 2  85   \n",
       "2 3  92   \n",
       "3 4  78   "
      ]
     },
     "metadata": {},
     "output_type": "display_data"
    }
   ],
   "source": [
    "df2 <- data.frame(ID = c(2, 3, 4), Score = c(85, 92, 78))\n",
    "df2"
   ]
  },
  {
   "cell_type": "code",
   "execution_count": 78,
   "id": "4a3bf696",
   "metadata": {
    "vscode": {
     "languageId": "r"
    }
   },
   "outputs": [
    {
     "data": {
      "text/html": [
       "<table class=\"dataframe\">\n",
       "<caption>A data.frame: 2 × 3</caption>\n",
       "<thead>\n",
       "\t<tr><th scope=col>ID</th><th scope=col>Name</th><th scope=col>Score</th></tr>\n",
       "\t<tr><th scope=col>&lt;dbl&gt;</th><th scope=col>&lt;chr&gt;</th><th scope=col>&lt;dbl&gt;</th></tr>\n",
       "</thead>\n",
       "<tbody>\n",
       "\t<tr><td>2</td><td>Bob    </td><td>85</td></tr>\n",
       "\t<tr><td>3</td><td>Charlie</td><td>92</td></tr>\n",
       "</tbody>\n",
       "</table>\n"
      ],
      "text/latex": [
       "A data.frame: 2 × 3\n",
       "\\begin{tabular}{lll}\n",
       " ID & Name & Score\\\\\n",
       " <dbl> & <chr> & <dbl>\\\\\n",
       "\\hline\n",
       "\t 2 & Bob     & 85\\\\\n",
       "\t 3 & Charlie & 92\\\\\n",
       "\\end{tabular}\n"
      ],
      "text/markdown": [
       "\n",
       "A data.frame: 2 × 3\n",
       "\n",
       "| ID &lt;dbl&gt; | Name &lt;chr&gt; | Score &lt;dbl&gt; |\n",
       "|---|---|---|\n",
       "| 2 | Bob     | 85 |\n",
       "| 3 | Charlie | 92 |\n",
       "\n"
      ],
      "text/plain": [
       "  ID Name    Score\n",
       "1 2  Bob     85   \n",
       "2 3  Charlie 92   "
      ]
     },
     "metadata": {},
     "output_type": "display_data"
    }
   ],
   "source": [
    "# Ele combina pelo ID automaticamente\n",
    "merged_df <- merge(df1, df2)\n",
    "merged_df"
   ]
  },
  {
   "cell_type": "markdown",
   "id": "23fe814b",
   "metadata": {},
   "source": [
    "## Operadores [] e  [[]] "
   ]
  },
  {
   "cell_type": "code",
   "execution_count": 79,
   "id": "6d00960b",
   "metadata": {
    "vscode": {
     "languageId": "r"
    }
   },
   "outputs": [
    {
     "data": {
      "text/html": [
       "<dl>\n",
       "\t<dt>$x</dt>\n",
       "\t\t<dd><style>\n",
       ".list-inline {list-style: none; margin:0; padding: 0}\n",
       ".list-inline>li {display: inline-block}\n",
       ".list-inline>li:not(:last-child)::after {content: \"\\00b7\"; padding: 0 .5ex}\n",
       "</style>\n",
       "<ol class=list-inline><li>1</li><li>2</li><li>3</li></ol>\n",
       "</dd>\n",
       "\t<dt>$y</dt>\n",
       "\t\t<dd><style>\n",
       ".list-inline {list-style: none; margin:0; padding: 0}\n",
       ".list-inline>li {display: inline-block}\n",
       ".list-inline>li:not(:last-child)::after {content: \"\\00b7\"; padding: 0 .5ex}\n",
       "</style>\n",
       "<ol class=list-inline><li>4</li><li>5</li></ol>\n",
       "</dd>\n",
       "</dl>\n"
      ],
      "text/latex": [
       "\\begin{description}\n",
       "\\item[\\$x] \\begin{enumerate*}\n",
       "\\item 1\n",
       "\\item 2\n",
       "\\item 3\n",
       "\\end{enumerate*}\n",
       "\n",
       "\\item[\\$y] \\begin{enumerate*}\n",
       "\\item 4\n",
       "\\item 5\n",
       "\\end{enumerate*}\n",
       "\n",
       "\\end{description}\n"
      ],
      "text/markdown": [
       "$x\n",
       ":   1. 1\n",
       "2. 2\n",
       "3. 3\n",
       "\n",
       "\n",
       "\n",
       "$y\n",
       ":   1. 4\n",
       "2. 5\n",
       "\n",
       "\n",
       "\n",
       "\n",
       "\n"
      ],
      "text/plain": [
       "$x\n",
       "[1] 1 2 3\n",
       "\n",
       "$y\n",
       "[1] 4 5\n"
      ]
     },
     "metadata": {},
     "output_type": "display_data"
    }
   ],
   "source": [
    "a <- list(x = 1:3, y = 4:5)\n",
    "a"
   ]
  },
  {
   "cell_type": "code",
   "execution_count": 80,
   "id": "f74fef0e",
   "metadata": {
    "vscode": {
     "languageId": "r"
    }
   },
   "outputs": [
    {
     "data": {
      "text/html": [
       "<strong>$x</strong> = <style>\n",
       ".list-inline {list-style: none; margin:0; padding: 0}\n",
       ".list-inline>li {display: inline-block}\n",
       ".list-inline>li:not(:last-child)::after {content: \"\\00b7\"; padding: 0 .5ex}\n",
       "</style>\n",
       "<ol class=list-inline><li>1</li><li>2</li><li>3</li></ol>\n"
      ],
      "text/latex": [
       "\\textbf{\\$x} = \\begin{enumerate*}\n",
       "\\item 1\n",
       "\\item 2\n",
       "\\item 3\n",
       "\\end{enumerate*}\n"
      ],
      "text/markdown": [
       "**$x** = 1. 1\n",
       "2. 2\n",
       "3. 3\n",
       "\n",
       "\n"
      ],
      "text/plain": [
       "$x\n",
       "[1] 1 2 3\n"
      ]
     },
     "metadata": {},
     "output_type": "display_data"
    }
   ],
   "source": [
    "a[1]"
   ]
  },
  {
   "cell_type": "code",
   "execution_count": 81,
   "id": "aca50555",
   "metadata": {
    "vscode": {
     "languageId": "r"
    }
   },
   "outputs": [
    {
     "data": {
      "text/html": [
       "<style>\n",
       ".list-inline {list-style: none; margin:0; padding: 0}\n",
       ".list-inline>li {display: inline-block}\n",
       ".list-inline>li:not(:last-child)::after {content: \"\\00b7\"; padding: 0 .5ex}\n",
       "</style>\n",
       "<ol class=list-inline><li>1</li><li>2</li><li>3</li></ol>\n"
      ],
      "text/latex": [
       "\\begin{enumerate*}\n",
       "\\item 1\n",
       "\\item 2\n",
       "\\item 3\n",
       "\\end{enumerate*}\n"
      ],
      "text/markdown": [
       "1. 1\n",
       "2. 2\n",
       "3. 3\n",
       "\n",
       "\n"
      ],
      "text/plain": [
       "[1] 1 2 3"
      ]
     },
     "metadata": {},
     "output_type": "display_data"
    }
   ],
   "source": [
    "a[[1]]"
   ]
  },
  {
   "cell_type": "code",
   "execution_count": 82,
   "id": "91dd05b8",
   "metadata": {
    "vscode": {
     "languageId": "r"
    }
   },
   "outputs": [
    {
     "data": {
      "text/html": [
       "1"
      ],
      "text/latex": [
       "1"
      ],
      "text/markdown": [
       "1"
      ],
      "text/plain": [
       "[1] 1"
      ]
     },
     "metadata": {},
     "output_type": "display_data"
    }
   ],
   "source": [
    "a[[1]][[1]]"
   ]
  },
  {
   "cell_type": "code",
   "execution_count": 83,
   "id": "a55aba6a",
   "metadata": {
    "vscode": {
     "languageId": "r"
    }
   },
   "outputs": [],
   "source": [
    "my_vector <- c(1, 2, 3, 4, 5, 6, 7, 8, 9)"
   ]
  },
  {
   "cell_type": "code",
   "execution_count": 84,
   "id": "622ad3db",
   "metadata": {
    "vscode": {
     "languageId": "r"
    }
   },
   "outputs": [],
   "source": [
    "slice_result <- my_vector[(length(my_vector) - 2):length(my_vector)]"
   ]
  },
  {
   "cell_type": "code",
   "execution_count": 85,
   "id": "82689cf0",
   "metadata": {
    "vscode": {
     "languageId": "r"
    }
   },
   "outputs": [
    {
     "data": {
      "text/html": [
       "<style>\n",
       ".list-inline {list-style: none; margin:0; padding: 0}\n",
       ".list-inline>li {display: inline-block}\n",
       ".list-inline>li:not(:last-child)::after {content: \"\\00b7\"; padding: 0 .5ex}\n",
       "</style>\n",
       "<ol class=list-inline><li>7</li><li>8</li><li>9</li></ol>\n"
      ],
      "text/latex": [
       "\\begin{enumerate*}\n",
       "\\item 7\n",
       "\\item 8\n",
       "\\item 9\n",
       "\\end{enumerate*}\n"
      ],
      "text/markdown": [
       "1. 7\n",
       "2. 8\n",
       "3. 9\n",
       "\n",
       "\n"
      ],
      "text/plain": [
       "[1] 7 8 9"
      ]
     },
     "metadata": {},
     "output_type": "display_data"
    }
   ],
   "source": [
    "slice_result"
   ]
  },
  {
   "cell_type": "markdown",
   "id": "05cd1ccc",
   "metadata": {},
   "source": [
    "### A notação de \"slice\" é uma técnica usada para acessar partes específicas de uma sequência, como uma string, lista, vetores e data frames."
   ]
  },
  {
   "cell_type": "code",
   "execution_count": 86,
   "id": "cf49d723",
   "metadata": {
    "vscode": {
     "languageId": "r"
    }
   },
   "outputs": [
    {
     "data": {
      "text/html": [
       "<style>\n",
       ".list-inline {list-style: none; margin:0; padding: 0}\n",
       ".list-inline>li {display: inline-block}\n",
       ".list-inline>li:not(:last-child)::after {content: \"\\00b7\"; padding: 0 .5ex}\n",
       "</style>\n",
       "<ol class=list-inline><li>1</li><li>2</li><li>3</li><li>4</li><li>5</li><li>6</li><li>7</li><li>8</li><li>9</li></ol>\n"
      ],
      "text/latex": [
       "\\begin{enumerate*}\n",
       "\\item 1\n",
       "\\item 2\n",
       "\\item 3\n",
       "\\item 4\n",
       "\\item 5\n",
       "\\item 6\n",
       "\\item 7\n",
       "\\item 8\n",
       "\\item 9\n",
       "\\end{enumerate*}\n"
      ],
      "text/markdown": [
       "1. 1\n",
       "2. 2\n",
       "3. 3\n",
       "4. 4\n",
       "5. 5\n",
       "6. 6\n",
       "7. 7\n",
       "8. 8\n",
       "9. 9\n",
       "\n",
       "\n"
      ],
      "text/plain": [
       "[1] 1 2 3 4 5 6 7 8 9"
      ]
     },
     "metadata": {},
     "output_type": "display_data"
    }
   ],
   "source": [
    "# Exemplo com um vetor numérico:\n",
    "vetor <- c(1, 2, 3, 4, 5, 6, 7, 8, 9)\n",
    "vetor"
   ]
  },
  {
   "cell_type": "code",
   "execution_count": 87,
   "id": "d0f0ae46",
   "metadata": {
    "vscode": {
     "languageId": "r"
    }
   },
   "outputs": [
    {
     "data": {
      "text/html": [
       "<style>\n",
       ".list-inline {list-style: none; margin:0; padding: 0}\n",
       ".list-inline>li {display: inline-block}\n",
       ".list-inline>li:not(:last-child)::after {content: \"\\00b7\"; padding: 0 .5ex}\n",
       "</style>\n",
       "<ol class=list-inline><li>2</li><li>3</li><li>4</li><li>5</li></ol>\n"
      ],
      "text/latex": [
       "\\begin{enumerate*}\n",
       "\\item 2\n",
       "\\item 3\n",
       "\\item 4\n",
       "\\item 5\n",
       "\\end{enumerate*}\n"
      ],
      "text/markdown": [
       "1. 2\n",
       "2. 3\n",
       "3. 4\n",
       "4. 5\n",
       "\n",
       "\n"
      ],
      "text/plain": [
       "[1] 2 3 4 5"
      ]
     },
     "metadata": {},
     "output_type": "display_data"
    }
   ],
   "source": [
    "#Extrai os elementos do índice 2 ao 5 (inclusive o 5)\n",
    "vetor[2:5]"
   ]
  },
  {
   "cell_type": "code",
   "execution_count": 88,
   "id": "456bd164",
   "metadata": {
    "vscode": {
     "languageId": "r"
    }
   },
   "outputs": [
    {
     "data": {
      "text/html": [
       "<style>\n",
       ".list-inline {list-style: none; margin:0; padding: 0}\n",
       ".list-inline>li {display: inline-block}\n",
       ".list-inline>li:not(:last-child)::after {content: \"\\00b7\"; padding: 0 .5ex}\n",
       "</style>\n",
       "<ol class=list-inline><li>1</li><li>2</li><li>3</li><li>4</li><li>5</li><li>6</li><li>7</li><li>8</li><li>9</li><li>10</li></ol>\n"
      ],
      "text/latex": [
       "\\begin{enumerate*}\n",
       "\\item 1\n",
       "\\item 2\n",
       "\\item 3\n",
       "\\item 4\n",
       "\\item 5\n",
       "\\item 6\n",
       "\\item 7\n",
       "\\item 8\n",
       "\\item 9\n",
       "\\item 10\n",
       "\\end{enumerate*}\n"
      ],
      "text/markdown": [
       "1. 1\n",
       "2. 2\n",
       "3. 3\n",
       "4. 4\n",
       "5. 5\n",
       "6. 6\n",
       "7. 7\n",
       "8. 8\n",
       "9. 9\n",
       "10. 10\n",
       "\n",
       "\n"
      ],
      "text/plain": [
       " [1]  1  2  3  4  5  6  7  8  9 10"
      ]
     },
     "metadata": {},
     "output_type": "display_data"
    }
   ],
   "source": [
    "vetor_1 <- seq(c(1:10))\n",
    "vetor_1 "
   ]
  },
  {
   "cell_type": "code",
   "execution_count": 89,
   "id": "d7922be6",
   "metadata": {
    "vscode": {
     "languageId": "r"
    }
   },
   "outputs": [
    {
     "data": {
      "text/html": [
       "3"
      ],
      "text/latex": [
       "3"
      ],
      "text/markdown": [
       "3"
      ],
      "text/plain": [
       "[1] 3"
      ]
     },
     "metadata": {},
     "output_type": "display_data"
    }
   ],
   "source": [
    "#Retorna o elemento na posição 3\n",
    "vetor_1[3]"
   ]
  },
  {
   "cell_type": "code",
   "execution_count": 90,
   "id": "1feeb7e8",
   "metadata": {
    "vscode": {
     "languageId": "r"
    }
   },
   "outputs": [
    {
     "data": {
      "text/html": [
       "<style>\n",
       ".list-inline {list-style: none; margin:0; padding: 0}\n",
       ".list-inline>li {display: inline-block}\n",
       ".list-inline>li:not(:last-child)::after {content: \"\\00b7\"; padding: 0 .5ex}\n",
       "</style>\n",
       "<ol class=list-inline><li>5</li><li>9</li></ol>\n"
      ],
      "text/latex": [
       "\\begin{enumerate*}\n",
       "\\item 5\n",
       "\\item 9\n",
       "\\end{enumerate*}\n"
      ],
      "text/markdown": [
       "1. 5\n",
       "2. 9\n",
       "\n",
       "\n"
      ],
      "text/plain": [
       "[1] 5 9"
      ]
     },
     "metadata": {},
     "output_type": "display_data"
    }
   ],
   "source": [
    "#retorna o elemento da posição 5 e 9\n",
    "# o operador c() para criar um 'subvetor' contendo os índices específicos que deseja acessar \n",
    "vetor_1[c(5,9)]"
   ]
  },
  {
   "cell_type": "code",
   "execution_count": 91,
   "id": "5966dfbe",
   "metadata": {
    "vscode": {
     "languageId": "r"
    }
   },
   "outputs": [
    {
     "data": {
      "text/html": [
       "<style>\n",
       ".list-inline {list-style: none; margin:0; padding: 0}\n",
       ".list-inline>li {display: inline-block}\n",
       ".list-inline>li:not(:last-child)::after {content: \"\\00b7\"; padding: 0 .5ex}\n",
       "</style>\n",
       "<ol class=list-inline><li>3</li><li>5</li><li>7</li><li>9</li></ol>\n"
      ],
      "text/latex": [
       "\\begin{enumerate*}\n",
       "\\item 3\n",
       "\\item 5\n",
       "\\item 7\n",
       "\\item 9\n",
       "\\end{enumerate*}\n"
      ],
      "text/markdown": [
       "1. 3\n",
       "2. 5\n",
       "3. 7\n",
       "4. 9\n",
       "\n",
       "\n"
      ],
      "text/plain": [
       "[1] 3 5 7 9"
      ]
     },
     "metadata": {},
     "output_type": "display_data"
    }
   ],
   "source": [
    "#Extraí uma sequencia de numeros começando do índice 3 até o comprimento do vetor, pulando de 2 em 2.\n",
    "vetor_1[seq(3,length(vetor_1), by =2)]"
   ]
  },
  {
   "cell_type": "code",
   "execution_count": 92,
   "id": "1ff9eccb",
   "metadata": {
    "vscode": {
     "languageId": "r"
    }
   },
   "outputs": [
    {
     "data": {
      "text/html": [
       "8"
      ],
      "text/latex": [
       "8"
      ],
      "text/markdown": [
       "8"
      ],
      "text/plain": [
       "[1] 8"
      ]
     },
     "metadata": {},
     "output_type": "display_data"
    }
   ],
   "source": [
    "# '-2', é usada para subtrair 2 do comprimento total, o que nos dá a posição do último elemento menos 2: terceiro elemento.\n",
    "vetor_1[(length(vetor_1)-2)]"
   ]
  },
  {
   "cell_type": "markdown",
   "id": "1be1e4fd",
   "metadata": {},
   "source": [
    "A expressão **length(vetor_1) - 2** é equivalente a length(vetor_1) - 1 - 1. A primeira subtração - 1 move uma posição antes do último elemento, e a segunda subtração - 1 move mais uma posição, resultando na posição do terceiro elemento a partir do final."
   ]
  },
  {
   "cell_type": "code",
   "execution_count": 93,
   "id": "e9b61e44",
   "metadata": {
    "vscode": {
     "languageId": "r"
    }
   },
   "outputs": [
    {
     "data": {
      "text/html": [
       "<style>\n",
       ".list-inline {list-style: none; margin:0; padding: 0}\n",
       ".list-inline>li {display: inline-block}\n",
       ".list-inline>li:not(:last-child)::after {content: \"\\00b7\"; padding: 0 .5ex}\n",
       "</style>\n",
       "<ol class=list-inline><li>8</li><li>9</li><li>10</li></ol>\n"
      ],
      "text/latex": [
       "\\begin{enumerate*}\n",
       "\\item 8\n",
       "\\item 9\n",
       "\\item 10\n",
       "\\end{enumerate*}\n"
      ],
      "text/markdown": [
       "1. 8\n",
       "2. 9\n",
       "3. 10\n",
       "\n",
       "\n"
      ],
      "text/plain": [
       "[1]  8  9 10"
      ]
     },
     "metadata": {},
     "output_type": "display_data"
    }
   ],
   "source": [
    "vetor_1[(length(vetor_1)-2)]:length(vetor_1)"
   ]
  },
  {
   "cell_type": "code",
   "execution_count": 94,
   "id": "09c3ec19",
   "metadata": {
    "vscode": {
     "languageId": "r"
    }
   },
   "outputs": [
    {
     "data": {
      "text/html": [
       "<dl>\n",
       "\t<dt>$a</dt>\n",
       "\t\t<dd>10</dd>\n",
       "\t<dt>$b</dt>\n",
       "\t\t<dd>20</dd>\n",
       "\t<dt>$c</dt>\n",
       "\t\t<dd>30</dd>\n",
       "</dl>\n"
      ],
      "text/latex": [
       "\\begin{description}\n",
       "\\item[\\$a] 10\n",
       "\\item[\\$b] 20\n",
       "\\item[\\$c] 30\n",
       "\\end{description}\n"
      ],
      "text/markdown": [
       "$a\n",
       ":   10\n",
       "$b\n",
       ":   20\n",
       "$c\n",
       ":   30\n",
       "\n",
       "\n"
      ],
      "text/plain": [
       "$a\n",
       "[1] 10\n",
       "\n",
       "$b\n",
       "[1] 20\n",
       "\n",
       "$c\n",
       "[1] 30\n"
      ]
     },
     "metadata": {},
     "output_type": "display_data"
    }
   ],
   "source": [
    "lista <- list(a = 10, b = 20, c = 30)\n",
    "lista"
   ]
  },
  {
   "cell_type": "code",
   "execution_count": 95,
   "id": "859320e3",
   "metadata": {
    "vscode": {
     "languageId": "r"
    }
   },
   "outputs": [
    {
     "data": {
      "text/html": [
       "<strong>$a</strong> = 10"
      ],
      "text/latex": [
       "\\textbf{\\$a} = 10"
      ],
      "text/markdown": [
       "**$a** = 10"
      ],
      "text/plain": [
       "$a\n",
       "[1] 10\n"
      ]
     },
     "metadata": {},
     "output_type": "display_data"
    }
   ],
   "source": [
    "#Retorna o valor associado à a.\n",
    "lista['a']"
   ]
  },
  {
   "cell_type": "code",
   "execution_count": 96,
   "id": "6b4ad37d",
   "metadata": {
    "vscode": {
     "languageId": "r"
    }
   },
   "outputs": [
    {
     "data": {
      "text/html": [
       "<strong>$c</strong> = 30"
      ],
      "text/latex": [
       "\\textbf{\\$c} = 30"
      ],
      "text/markdown": [
       "**$c** = 30"
      ],
      "text/plain": [
       "$c\n",
       "[1] 30\n"
      ]
     },
     "metadata": {},
     "output_type": "display_data"
    }
   ],
   "source": [
    "#Retorna o terceiro elemento da lista. \n",
    "lista[3]"
   ]
  },
  {
   "cell_type": "code",
   "execution_count": 97,
   "id": "30340c1f",
   "metadata": {
    "vscode": {
     "languageId": "r"
    }
   },
   "outputs": [
    {
     "data": {
      "text/html": [
       "<table class=\"dataframe\">\n",
       "<caption>A matrix: 3 × 3 of type int</caption>\n",
       "<tbody>\n",
       "\t<tr><td>1</td><td>4</td><td>7</td></tr>\n",
       "\t<tr><td>2</td><td>5</td><td>8</td></tr>\n",
       "\t<tr><td>3</td><td>6</td><td>9</td></tr>\n",
       "</tbody>\n",
       "</table>\n"
      ],
      "text/latex": [
       "A matrix: 3 × 3 of type int\n",
       "\\begin{tabular}{lll}\n",
       "\t 1 & 4 & 7\\\\\n",
       "\t 2 & 5 & 8\\\\\n",
       "\t 3 & 6 & 9\\\\\n",
       "\\end{tabular}\n"
      ],
      "text/markdown": [
       "\n",
       "A matrix: 3 × 3 of type int\n",
       "\n",
       "| 1 | 4 | 7 |\n",
       "| 2 | 5 | 8 |\n",
       "| 3 | 6 | 9 |\n",
       "\n"
      ],
      "text/plain": [
       "     [,1] [,2] [,3]\n",
       "[1,] 1    4    7   \n",
       "[2,] 2    5    8   \n",
       "[3,] 3    6    9   "
      ]
     },
     "metadata": {},
     "output_type": "display_data"
    }
   ],
   "source": [
    "matriz <- matrix(1:9, ncol =3)\n",
    "matriz"
   ]
  },
  {
   "cell_type": "code",
   "execution_count": 98,
   "id": "cf8a4288",
   "metadata": {
    "vscode": {
     "languageId": "r"
    }
   },
   "outputs": [
    {
     "data": {
      "text/html": [
       "8"
      ],
      "text/latex": [
       "8"
      ],
      "text/markdown": [
       "8"
      ],
      "text/plain": [
       "[1] 8"
      ]
     },
     "metadata": {},
     "output_type": "display_data"
    }
   ],
   "source": [
    "# Retorna o elemento na segunda linha e terceira coluna.\n",
    "matriz[2,3]"
   ]
  },
  {
   "cell_type": "code",
   "execution_count": 99,
   "id": "86b5b17a",
   "metadata": {
    "vscode": {
     "languageId": "r"
    }
   },
   "outputs": [
    {
     "data": {
      "text/html": [
       "<table class=\"dataframe\">\n",
       "<caption>A data.frame: 3 × 2</caption>\n",
       "<thead>\n",
       "\t<tr><th scope=col>nome</th><th scope=col>idade</th></tr>\n",
       "\t<tr><th scope=col>&lt;chr&gt;</th><th scope=col>&lt;dbl&gt;</th></tr>\n",
       "</thead>\n",
       "<tbody>\n",
       "\t<tr><td>Ale </td><td>25</td></tr>\n",
       "\t<tr><td>Ber </td><td>26</td></tr>\n",
       "\t<tr><td>Will</td><td>27</td></tr>\n",
       "</tbody>\n",
       "</table>\n"
      ],
      "text/latex": [
       "A data.frame: 3 × 2\n",
       "\\begin{tabular}{ll}\n",
       " nome & idade\\\\\n",
       " <chr> & <dbl>\\\\\n",
       "\\hline\n",
       "\t Ale  & 25\\\\\n",
       "\t Ber  & 26\\\\\n",
       "\t Will & 27\\\\\n",
       "\\end{tabular}\n"
      ],
      "text/markdown": [
       "\n",
       "A data.frame: 3 × 2\n",
       "\n",
       "| nome &lt;chr&gt; | idade &lt;dbl&gt; |\n",
       "|---|---|\n",
       "| Ale  | 25 |\n",
       "| Ber  | 26 |\n",
       "| Will | 27 |\n",
       "\n"
      ],
      "text/plain": [
       "  nome idade\n",
       "1 Ale  25   \n",
       "2 Ber  26   \n",
       "3 Will 27   "
      ]
     },
     "metadata": {},
     "output_type": "display_data"
    }
   ],
   "source": [
    "dt <- data.frame(nome= c('Ale', 'Ber', 'Will'), idade = c(25, 26,27))\n",
    "dt"
   ]
  },
  {
   "cell_type": "code",
   "execution_count": 100,
   "id": "89dda27d",
   "metadata": {
    "vscode": {
     "languageId": "r"
    }
   },
   "outputs": [
    {
     "data": {
      "text/html": [
       "<style>\n",
       ".list-inline {list-style: none; margin:0; padding: 0}\n",
       ".list-inline>li {display: inline-block}\n",
       ".list-inline>li:not(:last-child)::after {content: \"\\00b7\"; padding: 0 .5ex}\n",
       "</style>\n",
       "<ol class=list-inline><li>'Ale'</li><li>'Ber'</li><li>'Will'</li></ol>\n"
      ],
      "text/latex": [
       "\\begin{enumerate*}\n",
       "\\item 'Ale'\n",
       "\\item 'Ber'\n",
       "\\item 'Will'\n",
       "\\end{enumerate*}\n"
      ],
      "text/markdown": [
       "1. 'Ale'\n",
       "2. 'Ber'\n",
       "3. 'Will'\n",
       "\n",
       "\n"
      ],
      "text/plain": [
       "[1] \"Ale\"  \"Ber\"  \"Will\""
      ]
     },
     "metadata": {},
     "output_type": "display_data"
    }
   ],
   "source": [
    "#Retornando a coluna nome\n",
    "dt$nome"
   ]
  },
  {
   "cell_type": "code",
   "execution_count": 101,
   "id": "aa0e485c",
   "metadata": {
    "vscode": {
     "languageId": "r"
    }
   },
   "outputs": [
    {
     "data": {
      "text/html": [
       "<style>\n",
       ".list-inline {list-style: none; margin:0; padding: 0}\n",
       ".list-inline>li {display: inline-block}\n",
       ".list-inline>li:not(:last-child)::after {content: \"\\00b7\"; padding: 0 .5ex}\n",
       "</style>\n",
       "<ol class=list-inline><li>'Ale'</li><li>'Ber'</li><li>'Will'</li></ol>\n"
      ],
      "text/latex": [
       "\\begin{enumerate*}\n",
       "\\item 'Ale'\n",
       "\\item 'Ber'\n",
       "\\item 'Will'\n",
       "\\end{enumerate*}\n"
      ],
      "text/markdown": [
       "1. 'Ale'\n",
       "2. 'Ber'\n",
       "3. 'Will'\n",
       "\n",
       "\n"
      ],
      "text/plain": [
       "[1] \"Ale\"  \"Ber\"  \"Will\""
      ]
     },
     "metadata": {},
     "output_type": "display_data"
    }
   ],
   "source": [
    "#Retornando a coluna nome\n",
    "dt[,'nome']"
   ]
  },
  {
   "cell_type": "code",
   "execution_count": 102,
   "id": "ad0ea1d6",
   "metadata": {
    "vscode": {
     "languageId": "r"
    }
   },
   "outputs": [
    {
     "data": {
      "text/html": [
       "<table class=\"dataframe\">\n",
       "<caption>A data.frame: 3 × 2</caption>\n",
       "<thead>\n",
       "\t<tr><th scope=col>nome</th><th scope=col>idade</th></tr>\n",
       "\t<tr><th scope=col>&lt;chr&gt;</th><th scope=col>&lt;dbl&gt;</th></tr>\n",
       "</thead>\n",
       "<tbody>\n",
       "\t<tr><td>Ale </td><td>25</td></tr>\n",
       "\t<tr><td>Ber </td><td>26</td></tr>\n",
       "\t<tr><td>Will</td><td>27</td></tr>\n",
       "</tbody>\n",
       "</table>\n"
      ],
      "text/latex": [
       "A data.frame: 3 × 2\n",
       "\\begin{tabular}{ll}\n",
       " nome & idade\\\\\n",
       " <chr> & <dbl>\\\\\n",
       "\\hline\n",
       "\t Ale  & 25\\\\\n",
       "\t Ber  & 26\\\\\n",
       "\t Will & 27\\\\\n",
       "\\end{tabular}\n"
      ],
      "text/markdown": [
       "\n",
       "A data.frame: 3 × 2\n",
       "\n",
       "| nome &lt;chr&gt; | idade &lt;dbl&gt; |\n",
       "|---|---|\n",
       "| Ale  | 25 |\n",
       "| Ber  | 26 |\n",
       "| Will | 27 |\n",
       "\n"
      ],
      "text/plain": [
       "  nome idade\n",
       "1 Ale  25   \n",
       "2 Ber  26   \n",
       "3 Will 27   "
      ]
     },
     "metadata": {},
     "output_type": "display_data"
    }
   ],
   "source": [
    "dt[, c('nome', 'idade')]"
   ]
  },
  {
   "cell_type": "code",
   "execution_count": 103,
   "id": "ca189d76",
   "metadata": {
    "vscode": {
     "languageId": "r"
    }
   },
   "outputs": [
    {
     "data": {
      "text/html": [
       "<style>\n",
       ".list-inline {list-style: none; margin:0; padding: 0}\n",
       ".list-inline>li {display: inline-block}\n",
       ".list-inline>li:not(:last-child)::after {content: \"\\00b7\"; padding: 0 .5ex}\n",
       "</style>\n",
       "<ol class=list-inline><li>'Ale'</li><li>'Ber'</li><li>'Will'</li></ol>\n"
      ],
      "text/latex": [
       "\\begin{enumerate*}\n",
       "\\item 'Ale'\n",
       "\\item 'Ber'\n",
       "\\item 'Will'\n",
       "\\end{enumerate*}\n"
      ],
      "text/markdown": [
       "1. 'Ale'\n",
       "2. 'Ber'\n",
       "3. 'Will'\n",
       "\n",
       "\n"
      ],
      "text/plain": [
       "[1] \"Ale\"  \"Ber\"  \"Will\""
      ]
     },
     "metadata": {},
     "output_type": "display_data"
    }
   ],
   "source": [
    "#Excluir a 2º coluna\n",
    "dt[,-2]"
   ]
  },
  {
   "cell_type": "code",
   "execution_count": 104,
   "id": "f65435d5",
   "metadata": {
    "vscode": {
     "languageId": "r"
    }
   },
   "outputs": [
    {
     "data": {
      "text/html": [
       "<table class=\"dataframe\">\n",
       "<caption>A data.frame: 2 × 2</caption>\n",
       "<thead>\n",
       "\t<tr><th></th><th scope=col>nome</th><th scope=col>idade</th></tr>\n",
       "\t<tr><th></th><th scope=col>&lt;chr&gt;</th><th scope=col>&lt;dbl&gt;</th></tr>\n",
       "</thead>\n",
       "<tbody>\n",
       "\t<tr><th scope=row>2</th><td>Ber </td><td>26</td></tr>\n",
       "\t<tr><th scope=row>3</th><td>Will</td><td>27</td></tr>\n",
       "</tbody>\n",
       "</table>\n"
      ],
      "text/latex": [
       "A data.frame: 2 × 2\n",
       "\\begin{tabular}{r|ll}\n",
       "  & nome & idade\\\\\n",
       "  & <chr> & <dbl>\\\\\n",
       "\\hline\n",
       "\t2 & Ber  & 26\\\\\n",
       "\t3 & Will & 27\\\\\n",
       "\\end{tabular}\n"
      ],
      "text/markdown": [
       "\n",
       "A data.frame: 2 × 2\n",
       "\n",
       "| <!--/--> | nome &lt;chr&gt; | idade &lt;dbl&gt; |\n",
       "|---|---|---|\n",
       "| 2 | Ber  | 26 |\n",
       "| 3 | Will | 27 |\n",
       "\n"
      ],
      "text/plain": [
       "  nome idade\n",
       "2 Ber  26   \n",
       "3 Will 27   "
      ]
     },
     "metadata": {},
     "output_type": "display_data"
    }
   ],
   "source": [
    "#Excluindo a primeira linha. \n",
    "dt[-1,]"
   ]
  },
  {
   "cell_type": "code",
   "execution_count": 105,
   "id": "c3762c83",
   "metadata": {
    "vscode": {
     "languageId": "r"
    }
   },
   "outputs": [
    {
     "data": {
      "text/html": [
       "<style>\n",
       ".list-inline {list-style: none; margin:0; padding: 0}\n",
       ".list-inline>li {display: inline-block}\n",
       ".list-inline>li:not(:last-child)::after {content: \"\\00b7\"; padding: 0 .5ex}\n",
       "</style>\n",
       "<ol class=list-inline><li>'Ale'</li><li>'Ber'</li></ol>\n"
      ],
      "text/latex": [
       "\\begin{enumerate*}\n",
       "\\item 'Ale'\n",
       "\\item 'Ber'\n",
       "\\end{enumerate*}\n"
      ],
      "text/markdown": [
       "1. 'Ale'\n",
       "2. 'Ber'\n",
       "\n",
       "\n"
      ],
      "text/plain": [
       "[1] \"Ale\" \"Ber\""
      ]
     },
     "metadata": {},
     "output_type": "display_data"
    }
   ],
   "source": [
    "#Selecionando linhas 1 e 2 da coluna nome\n",
    "dt[1:2,'nome']"
   ]
  },
  {
   "cell_type": "code",
   "execution_count": 106,
   "id": "96a32a7a",
   "metadata": {
    "vscode": {
     "languageId": "r"
    }
   },
   "outputs": [
    {
     "data": {
      "text/html": [
       "'Ale'"
      ],
      "text/latex": [
       "'Ale'"
      ],
      "text/markdown": [
       "'Ale'"
      ],
      "text/plain": [
       "[1] \"Ale\""
      ]
     },
     "metadata": {},
     "output_type": "display_data"
    }
   ],
   "source": [
    "#Primeira linha, primeira coluna. \n",
    "dt[1,1]"
   ]
  },
  {
   "cell_type": "code",
   "execution_count": 107,
   "id": "0c1fcb30",
   "metadata": {
    "vscode": {
     "languageId": "r"
    }
   },
   "outputs": [
    {
     "data": {
      "text/html": [
       "<style>\n",
       ".list-inline {list-style: none; margin:0; padding: 0}\n",
       ".list-inline>li {display: inline-block}\n",
       ".list-inline>li:not(:last-child)::after {content: \"\\00b7\"; padding: 0 .5ex}\n",
       "</style>\n",
       "<ol class=list-inline><li>25</li><li>26</li><li>27</li></ol>\n"
      ],
      "text/latex": [
       "\\begin{enumerate*}\n",
       "\\item 25\n",
       "\\item 26\n",
       "\\item 27\n",
       "\\end{enumerate*}\n"
      ],
      "text/markdown": [
       "1. 25\n",
       "2. 26\n",
       "3. 27\n",
       "\n",
       "\n"
      ],
      "text/plain": [
       "[1] 25 26 27"
      ]
     },
     "metadata": {},
     "output_type": "display_data"
    }
   ],
   "source": [
    "#Exclui a primeira coluna\n",
    "dt[,-1]"
   ]
  }
 ],
 "metadata": {
  "kernelspec": {
   "display_name": "R",
   "language": "R",
   "name": "ir"
  },
  "language_info": {
   "codemirror_mode": "r",
   "file_extension": ".r",
   "mimetype": "text/x-r-source",
   "name": "R",
   "pygments_lexer": "r",
   "version": "4.2.2"
  }
 },
 "nbformat": 4,
 "nbformat_minor": 5
}
